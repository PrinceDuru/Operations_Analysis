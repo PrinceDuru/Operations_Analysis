{
 "cells": [
  {
   "cell_type": "markdown",
   "metadata": {
    "colab_type": "text",
    "id": "XP369vDxPN0a"
   },
   "source": [
    "## Import Dataset Into Colab"
   ]
  },
  {
   "cell_type": "code",
   "execution_count": 1,
   "metadata": {
    "colab": {
     "base_uri": "https://localhost:8080/",
     "height": 90,
     "resources": {
      "http://localhost:8080/nbextensions/google.colab/files.js": {
       "data": "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",
       "headers": [
        [
         "content-type",
         "application/javascript"
        ]
       ],
       "ok": true,
       "status": 200,
       "status_text": ""
      }
     }
    },
    "colab_type": "code",
    "id": "x18amWslPI5I",
    "outputId": "70369a7a-119a-4bdd-d06a-f780d787048f"
   },
   "outputs": [
    {
     "data": {
      "text/html": [
       "\n",
       "     <input type=\"file\" id=\"files-97f8a1e5-06c1-4a6a-9277-cbdc761e54a0\" name=\"files[]\" multiple disabled />\n",
       "     <output id=\"result-97f8a1e5-06c1-4a6a-9277-cbdc761e54a0\">\n",
       "      Upload widget is only available when the cell has been executed in the\n",
       "      current browser session. Please rerun this cell to enable.\n",
       "      </output>\n",
       "      <script src=\"/nbextensions/google.colab/files.js\"></script> "
      ],
      "text/plain": [
       "<IPython.core.display.HTML object>"
      ]
     },
     "metadata": {
      "tags": []
     },
     "output_type": "display_data"
    },
    {
     "name": "stdout",
     "output_type": "stream",
     "text": [
      "Saving 2017_Toronto_Bikeshare (1).csv to 2017_Toronto_Bikeshare (1).csv\n",
      "User uploaded file \"2017_Toronto_Bikeshare (1).csv\" with length 164192219 bytes\n"
     ]
    }
   ],
   "source": [
    "from google.colab import files\n",
    "\n",
    "uploaded = files.upload()\n",
    "\n",
    "for fn in uploaded.keys():\n",
    "  print('User uploaded file \"{name}\" with length {length} bytes'.format(\n",
    "      name=fn, length=len(uploaded[fn])))"
   ]
  },
  {
   "cell_type": "code",
   "execution_count": 2,
   "metadata": {
    "colab": {
     "base_uri": "https://localhost:8080/",
     "height": 51
    },
    "colab_type": "code",
    "id": "53jowkLOJ0Zh",
    "outputId": "fc46b831-cd61-49bc-e1c3-0cb9a3b37694"
   },
   "outputs": [
    {
     "name": "stderr",
     "output_type": "stream",
     "text": [
      "/usr/local/lib/python3.6/dist-packages/statsmodels/tools/_testing.py:19: FutureWarning: pandas.util.testing is deprecated. Use the functions in the public API at pandas.testing instead.\n",
      "  import pandas.util.testing as tm\n"
     ]
    }
   ],
   "source": [
    "#Import Necessary Libraries\n",
    "import numpy as np\n",
    "import pandas as pd\n",
    "import matplotlib.pyplot as plt\n",
    "import seaborn as sns"
   ]
  },
  {
   "cell_type": "code",
   "execution_count": 3,
   "metadata": {
    "colab": {
     "base_uri": "https://localhost:8080/",
     "height": 51
    },
    "colab_type": "code",
    "id": "lIKc2kLxJ3DU",
    "outputId": "ecbfbd3d-4d00-4946-9bee-7fa4c83b32ea"
   },
   "outputs": [
    {
     "name": "stderr",
     "output_type": "stream",
     "text": [
      "/usr/local/lib/python3.6/dist-packages/IPython/core/interactiveshell.py:2718: DtypeWarning: Columns (0,4,6,7,8) have mixed types.Specify dtype option on import or set low_memory=False.\n",
      "  interactivity=interactivity, compiler=compiler, result=result)\n"
     ]
    }
   ],
   "source": [
    "#Import dataset\n",
    "df = pd.read_csv('2017_Toronto_Bikeshare (1).csv')"
   ]
  },
  {
   "cell_type": "markdown",
   "metadata": {
    "colab_type": "text",
    "id": "m_3QueGjKFD2"
   },
   "source": [
    "## DATA DISCOVERY"
   ]
  },
  {
   "cell_type": "code",
   "execution_count": 4,
   "metadata": {
    "colab": {
     "base_uri": "https://localhost:8080/",
     "height": 137
    },
    "colab_type": "code",
    "id": "a7VfL9h2KAjp",
    "outputId": "7340273e-298b-4fc4-998a-d1f90f7fd008"
   },
   "outputs": [
    {
     "data": {
      "text/html": [
       "<div>\n",
       "<style scoped>\n",
       "    .dataframe tbody tr th:only-of-type {\n",
       "        vertical-align: middle;\n",
       "    }\n",
       "\n",
       "    .dataframe tbody tr th {\n",
       "        vertical-align: top;\n",
       "    }\n",
       "\n",
       "    .dataframe thead th {\n",
       "        text-align: right;\n",
       "    }\n",
       "</style>\n",
       "<table border=\"1\" class=\"dataframe\">\n",
       "  <thead>\n",
       "    <tr style=\"text-align: right;\">\n",
       "      <th></th>\n",
       "      <th>trip_id</th>\n",
       "      <th>trip_start_time</th>\n",
       "      <th>trip_stop_time</th>\n",
       "      <th>trip_duration_seconds</th>\n",
       "      <th>from_station_id</th>\n",
       "      <th>from_station_name</th>\n",
       "      <th>to_station_id</th>\n",
       "      <th>to_station_name</th>\n",
       "      <th>user_type</th>\n",
       "    </tr>\n",
       "  </thead>\n",
       "  <tbody>\n",
       "    <tr>\n",
       "      <th>895289</th>\n",
       "      <td>1720032</td>\n",
       "      <td>8/31/2017 7:34</td>\n",
       "      <td>8/31/2017 7:42</td>\n",
       "      <td>503.0</td>\n",
       "      <td>Scott St / The Esplanade</td>\n",
       "      <td>Front St W / Blue Jays Way</td>\n",
       "      <td>Member</td>\n",
       "      <td>NaN</td>\n",
       "      <td>NaN</td>\n",
       "    </tr>\n",
       "    <tr>\n",
       "      <th>137051</th>\n",
       "      <td>874173</td>\n",
       "      <td>3/4/2017 17:10</td>\n",
       "      <td>3/4/2017 17:17</td>\n",
       "      <td>431.0</td>\n",
       "      <td>7077</td>\n",
       "      <td>College Park South</td>\n",
       "      <td>7014</td>\n",
       "      <td>Sherbourne St / Carlton St (Allan Gardens)</td>\n",
       "      <td>Member</td>\n",
       "    </tr>\n",
       "    <tr>\n",
       "      <th>1038536</th>\n",
       "      <td>1874239</td>\n",
       "      <td>9/19/2017 12:23</td>\n",
       "      <td>9/19/2017 12:42</td>\n",
       "      <td>1182.0</td>\n",
       "      <td>Victoria St / Gould St (Ryerson University)</td>\n",
       "      <td>College St / Crawford St</td>\n",
       "      <td>Member</td>\n",
       "      <td>NaN</td>\n",
       "      <td>NaN</td>\n",
       "    </tr>\n",
       "  </tbody>\n",
       "</table>\n",
       "</div>"
      ],
      "text/plain": [
       "         trip_id  ... user_type\n",
       "895289   1720032  ...       NaN\n",
       "137051    874173  ...    Member\n",
       "1038536  1874239  ...       NaN\n",
       "\n",
       "[3 rows x 9 columns]"
      ]
     },
     "execution_count": 4,
     "metadata": {
      "tags": []
     },
     "output_type": "execute_result"
    }
   ],
   "source": [
    "#Sample data\n",
    "df.sample(3)"
   ]
  },
  {
   "cell_type": "code",
   "execution_count": 5,
   "metadata": {
    "colab": {
     "base_uri": "https://localhost:8080/",
     "height": 34
    },
    "colab_type": "code",
    "id": "jcmevTDMKT02",
    "outputId": "f80d656a-8269-4839-bb9c-03f56675a99b"
   },
   "outputs": [
    {
     "data": {
      "text/plain": [
       "(1492370, 9)"
      ]
     },
     "execution_count": 5,
     "metadata": {
      "tags": []
     },
     "output_type": "execute_result"
    }
   ],
   "source": [
    "# CHECK NUMBER OF ROWS AND COLUMNS\n",
    "df.shape"
   ]
  },
  {
   "cell_type": "code",
   "execution_count": 6,
   "metadata": {
    "colab": {
     "base_uri": "https://localhost:8080/",
     "height": 34
    },
    "colab_type": "code",
    "id": "QaEhiAZ2KXU9",
    "outputId": "8a04bc49-f15a-4c01-9e9d-653e55bda723"
   },
   "outputs": [
    {
     "data": {
      "text/plain": [
       "0"
      ]
     },
     "execution_count": 6,
     "metadata": {
      "tags": []
     },
     "output_type": "execute_result"
    }
   ],
   "source": [
    "# Check for duplicates\n",
    "df.duplicated().sum() #...No duplicates"
   ]
  },
  {
   "cell_type": "code",
   "execution_count": 7,
   "metadata": {
    "colab": {
     "base_uri": "https://localhost:8080/",
     "height": 48
    },
    "colab_type": "code",
    "id": "S-5MuNtuKgiH",
    "outputId": "3a04d5c6-17c1-44d2-e800-9d8c2578e672"
   },
   "outputs": [
    {
     "data": {
      "text/html": [
       "<div>\n",
       "<style scoped>\n",
       "    .dataframe tbody tr th:only-of-type {\n",
       "        vertical-align: middle;\n",
       "    }\n",
       "\n",
       "    .dataframe tbody tr th {\n",
       "        vertical-align: top;\n",
       "    }\n",
       "\n",
       "    .dataframe thead th {\n",
       "        text-align: right;\n",
       "    }\n",
       "</style>\n",
       "<table border=\"1\" class=\"dataframe\">\n",
       "  <thead>\n",
       "    <tr style=\"text-align: right;\">\n",
       "      <th></th>\n",
       "      <th>trip_id</th>\n",
       "      <th>trip_start_time</th>\n",
       "      <th>trip_stop_time</th>\n",
       "      <th>trip_duration_seconds</th>\n",
       "      <th>from_station_id</th>\n",
       "      <th>from_station_name</th>\n",
       "      <th>to_station_id</th>\n",
       "      <th>to_station_name</th>\n",
       "      <th>user_type</th>\n",
       "    </tr>\n",
       "  </thead>\n",
       "  <tbody>\n",
       "  </tbody>\n",
       "</table>\n",
       "</div>"
      ],
      "text/plain": [
       "Empty DataFrame\n",
       "Columns: [trip_id, trip_start_time, trip_stop_time, trip_duration_seconds, from_station_id, from_station_name, to_station_id, to_station_name, user_type]\n",
       "Index: []"
      ]
     },
     "execution_count": 7,
     "metadata": {
      "tags": []
     },
     "output_type": "execute_result"
    }
   ],
   "source": [
    "#Check for duplicates based on unique Column\n",
    "df[df.duplicated(['trip_id'])]  #No rows"
   ]
  },
  {
   "cell_type": "code",
   "execution_count": 8,
   "metadata": {
    "colab": {
     "base_uri": "https://localhost:8080/",
     "height": 187
    },
    "colab_type": "code",
    "id": "TLbVy_PWKneT",
    "outputId": "c2ad0fdf-d9ea-4c4b-b04e-be90a6def127"
   },
   "outputs": [
    {
     "data": {
      "text/plain": [
       "trip_id                        0\n",
       "trip_start_time                1\n",
       "trip_stop_time                 1\n",
       "trip_duration_seconds          1\n",
       "from_station_id                1\n",
       "from_station_name              2\n",
       "to_station_id                  1\n",
       "to_station_name          1026894\n",
       "user_type                1026894\n",
       "dtype: int64"
      ]
     },
     "execution_count": 8,
     "metadata": {
      "tags": []
     },
     "output_type": "execute_result"
    }
   ],
   "source": [
    "#check for NaN \n",
    "df.isnull().sum()  #....to_station_name and user_type have 1026894 NaN records each"
   ]
  },
  {
   "cell_type": "markdown",
   "metadata": {
    "colab_type": "text",
    "id": "utj1vgQQKvq3"
   },
   "source": [
    "## DATA CLEANSING AND MANIPULATION"
   ]
  },
  {
   "cell_type": "code",
   "execution_count": 0,
   "metadata": {
    "colab": {},
    "colab_type": "code",
    "id": "wLlIjeuSK9Op"
   },
   "outputs": [],
   "source": [
    "#Drop Nan records for spicified columns\n",
    "df.dropna(subset = ['trip_start_time','trip_stop_time','trip_duration_seconds','from_station_id','from_station_name','to_station_id'], inplace = True)"
   ]
  },
  {
   "cell_type": "code",
   "execution_count": 10,
   "metadata": {
    "colab": {
     "base_uri": "https://localhost:8080/",
     "height": 187
    },
    "colab_type": "code",
    "id": "yhQhV8nRLENe",
    "outputId": "699799fa-745f-4f0b-dd64-00967980fc79"
   },
   "outputs": [
    {
     "data": {
      "text/plain": [
       "trip_id                        0\n",
       "trip_start_time                0\n",
       "trip_stop_time                 0\n",
       "trip_duration_seconds          0\n",
       "from_station_id                0\n",
       "from_station_name              0\n",
       "to_station_id                  0\n",
       "to_station_name          1026892\n",
       "user_type                1026892\n",
       "dtype: int64"
      ]
     },
     "execution_count": 10,
     "metadata": {
      "tags": []
     },
     "output_type": "execute_result"
    }
   ],
   "source": [
    "#QC Check\n",
    "df.isnull().sum()"
   ]
  },
  {
   "cell_type": "code",
   "execution_count": 0,
   "metadata": {
    "colab": {},
    "colab_type": "code",
    "id": "3K2ddydALKgW"
   },
   "outputs": [],
   "source": [
    "#convert data columns from object type to datetime\n",
    "df['trip_start_time'] = pd.to_datetime(df['trip_start_time'], dayfirst = True) #----change from object type to datetime\n",
    "df['trip_stop_time'] = pd.to_datetime(df['trip_stop_time'], dayfirst = True)  # ----change from object type to datetime"
   ]
  },
  {
   "cell_type": "code",
   "execution_count": 12,
   "metadata": {
    "colab": {
     "base_uri": "https://localhost:8080/",
     "height": 107
    },
    "colab_type": "code",
    "id": "lPpE5xALM5sz",
    "outputId": "4ad61fc2-8760-4916-bd94-e510603b146b"
   },
   "outputs": [
    {
     "data": {
      "text/html": [
       "<div>\n",
       "<style scoped>\n",
       "    .dataframe tbody tr th:only-of-type {\n",
       "        vertical-align: middle;\n",
       "    }\n",
       "\n",
       "    .dataframe tbody tr th {\n",
       "        vertical-align: top;\n",
       "    }\n",
       "\n",
       "    .dataframe thead th {\n",
       "        text-align: right;\n",
       "    }\n",
       "</style>\n",
       "<table border=\"1\" class=\"dataframe\">\n",
       "  <thead>\n",
       "    <tr style=\"text-align: right;\">\n",
       "      <th></th>\n",
       "      <th>trip_id</th>\n",
       "      <th>trip_start_time</th>\n",
       "      <th>trip_stop_time</th>\n",
       "      <th>trip_duration_seconds</th>\n",
       "      <th>from_station_id</th>\n",
       "      <th>from_station_name</th>\n",
       "      <th>to_station_id</th>\n",
       "      <th>to_station_name</th>\n",
       "      <th>user_type</th>\n",
       "    </tr>\n",
       "  </thead>\n",
       "  <tbody>\n",
       "    <tr>\n",
       "      <th>867866</th>\n",
       "      <td>1690410</td>\n",
       "      <td>2017-08-27 14:27:00</td>\n",
       "      <td>2017-08-27 14:35:00</td>\n",
       "      <td>487.0</td>\n",
       "      <td>Victoria St / Gould St (Ryerson University)</td>\n",
       "      <td>Princess St / Adelaide St E</td>\n",
       "      <td>Member</td>\n",
       "      <td>NaN</td>\n",
       "      <td>NaN</td>\n",
       "    </tr>\n",
       "    <tr>\n",
       "      <th>1423715</th>\n",
       "      <td>2301699</td>\n",
       "      <td>2017-11-28 19:16:14</td>\n",
       "      <td>2017-11-28 19:25:41</td>\n",
       "      <td>567.0</td>\n",
       "      <td>Nelson St / Duncan St</td>\n",
       "      <td>College Park South</td>\n",
       "      <td>Member</td>\n",
       "      <td>NaN</td>\n",
       "      <td>NaN</td>\n",
       "    </tr>\n",
       "  </tbody>\n",
       "</table>\n",
       "</div>"
      ],
      "text/plain": [
       "         trip_id     trip_start_time  ... to_station_name  user_type\n",
       "867866   1690410 2017-08-27 14:27:00  ...             NaN        NaN\n",
       "1423715  2301699 2017-11-28 19:16:14  ...             NaN        NaN\n",
       "\n",
       "[2 rows x 9 columns]"
      ]
     },
     "execution_count": 12,
     "metadata": {
      "tags": []
     },
     "output_type": "execute_result"
    }
   ],
   "source": [
    "#QC Check\n",
    "df.sample(2)"
   ]
  },
  {
   "cell_type": "code",
   "execution_count": 19,
   "metadata": {
    "colab": {
     "base_uri": "https://localhost:8080/",
     "height": 154
    },
    "colab_type": "code",
    "id": "V1nTZdc1NAWa",
    "outputId": "a8ff4ce9-47b7-41bf-a165-d39eb68692df"
   },
   "outputs": [
    {
     "name": "stdout",
     "output_type": "stream",
     "text": [
      "(160070, 9)\n"
     ]
    },
    {
     "data": {
      "text/html": [
       "<div>\n",
       "<style scoped>\n",
       "    .dataframe tbody tr th:only-of-type {\n",
       "        vertical-align: middle;\n",
       "    }\n",
       "\n",
       "    .dataframe tbody tr th {\n",
       "        vertical-align: top;\n",
       "    }\n",
       "\n",
       "    .dataframe thead th {\n",
       "        text-align: right;\n",
       "    }\n",
       "</style>\n",
       "<table border=\"1\" class=\"dataframe\">\n",
       "  <thead>\n",
       "    <tr style=\"text-align: right;\">\n",
       "      <th></th>\n",
       "      <th>trip_id</th>\n",
       "      <th>trip_start_time</th>\n",
       "      <th>trip_stop_time</th>\n",
       "      <th>trip_duration_seconds</th>\n",
       "      <th>from_station_id</th>\n",
       "      <th>from_station_name</th>\n",
       "      <th>to_station_id</th>\n",
       "      <th>to_station_name</th>\n",
       "      <th>user_type</th>\n",
       "    </tr>\n",
       "  </thead>\n",
       "  <tbody>\n",
       "    <tr>\n",
       "      <th>1128964</th>\n",
       "      <td>1971685</td>\n",
       "      <td>2010-01-17</td>\n",
       "      <td>2010-01-17 00:14:00</td>\n",
       "      <td>849.0</td>\n",
       "      <td>Queen St W / James St</td>\n",
       "      <td>Taddle Creek Park</td>\n",
       "      <td>Member</td>\n",
       "      <td>NaN</td>\n",
       "      <td>NaN</td>\n",
       "    </tr>\n",
       "    <tr>\n",
       "      <th>1128965</th>\n",
       "      <td>1971686</td>\n",
       "      <td>2010-01-17</td>\n",
       "      <td>2010-01-17 00:00:00</td>\n",
       "      <td>26.0</td>\n",
       "      <td>Stewart St / Bathurst St  - SMART</td>\n",
       "      <td>Stewart St / Bathurst St  - SMART</td>\n",
       "      <td>Casual</td>\n",
       "      <td>NaN</td>\n",
       "      <td>NaN</td>\n",
       "    </tr>\n",
       "    <tr>\n",
       "      <th>1128966</th>\n",
       "      <td>1971687</td>\n",
       "      <td>2010-01-17</td>\n",
       "      <td>2010-01-17 00:22:00</td>\n",
       "      <td>1310.0</td>\n",
       "      <td>Hayter St / Laplante Ave</td>\n",
       "      <td>Queen St W / Portland St</td>\n",
       "      <td>Member</td>\n",
       "      <td>NaN</td>\n",
       "      <td>NaN</td>\n",
       "    </tr>\n",
       "  </tbody>\n",
       "</table>\n",
       "</div>"
      ],
      "text/plain": [
       "         trip_id trip_start_time  ... to_station_name  user_type\n",
       "1128964  1971685      2010-01-17  ...             NaN        NaN\n",
       "1128965  1971686      2010-01-17  ...             NaN        NaN\n",
       "1128966  1971687      2010-01-17  ...             NaN        NaN\n",
       "\n",
       "[3 rows x 9 columns]"
      ]
     },
     "execution_count": 19,
     "metadata": {
      "tags": []
     },
     "output_type": "execute_result"
    }
   ],
   "source": [
    "#Delete Records outside 2017 since Analysis is based on 2017 Data\n",
    "print(df[df['trip_start_time'].dt.year != 2017].shape)\n",
    "df[df['trip_start_time'].dt.year != 2017].head(3)"
   ]
  },
  {
   "cell_type": "code",
   "execution_count": 20,
   "metadata": {
    "colab": {
     "base_uri": "https://localhost:8080/",
     "height": 154
    },
    "colab_type": "code",
    "id": "TiZ1RXXyNVdq",
    "outputId": "a937c35b-a031-49c0-88ad-009b0e295854"
   },
   "outputs": [
    {
     "name": "stdout",
     "output_type": "stream",
     "text": [
      "(1332298, 9)\n"
     ]
    },
    {
     "data": {
      "text/html": [
       "<div>\n",
       "<style scoped>\n",
       "    .dataframe tbody tr th:only-of-type {\n",
       "        vertical-align: middle;\n",
       "    }\n",
       "\n",
       "    .dataframe tbody tr th {\n",
       "        vertical-align: top;\n",
       "    }\n",
       "\n",
       "    .dataframe thead th {\n",
       "        text-align: right;\n",
       "    }\n",
       "</style>\n",
       "<table border=\"1\" class=\"dataframe\">\n",
       "  <thead>\n",
       "    <tr style=\"text-align: right;\">\n",
       "      <th></th>\n",
       "      <th>trip_id</th>\n",
       "      <th>trip_start_time</th>\n",
       "      <th>trip_stop_time</th>\n",
       "      <th>trip_duration_seconds</th>\n",
       "      <th>from_station_id</th>\n",
       "      <th>from_station_name</th>\n",
       "      <th>to_station_id</th>\n",
       "      <th>to_station_name</th>\n",
       "      <th>user_type</th>\n",
       "    </tr>\n",
       "  </thead>\n",
       "  <tbody>\n",
       "    <tr>\n",
       "      <th>0</th>\n",
       "      <td>712382</td>\n",
       "      <td>2017-01-01 00:00:00</td>\n",
       "      <td>2017-01-01 00:03:00</td>\n",
       "      <td>223.0</td>\n",
       "      <td>7051</td>\n",
       "      <td>Wellesley St E / Yonge St Green P</td>\n",
       "      <td>7089</td>\n",
       "      <td>Church St  / Wood St</td>\n",
       "      <td>Member</td>\n",
       "    </tr>\n",
       "    <tr>\n",
       "      <th>1</th>\n",
       "      <td>712383</td>\n",
       "      <td>2017-01-01 00:00:00</td>\n",
       "      <td>2017-01-01 00:05:00</td>\n",
       "      <td>279.0</td>\n",
       "      <td>7143</td>\n",
       "      <td>Kendal Ave / Bernard Ave</td>\n",
       "      <td>7154</td>\n",
       "      <td>Bathurst Subway Station</td>\n",
       "      <td>Member</td>\n",
       "    </tr>\n",
       "    <tr>\n",
       "      <th>2</th>\n",
       "      <td>712384</td>\n",
       "      <td>2017-01-01 00:05:00</td>\n",
       "      <td>2017-01-01 00:29:00</td>\n",
       "      <td>1394.0</td>\n",
       "      <td>7113</td>\n",
       "      <td>Parliament St / Aberdeen Ave</td>\n",
       "      <td>7199</td>\n",
       "      <td>College St W / Markham St</td>\n",
       "      <td>Member</td>\n",
       "    </tr>\n",
       "  </tbody>\n",
       "</table>\n",
       "</div>"
      ],
      "text/plain": [
       "  trip_id     trip_start_time  ...            to_station_name  user_type\n",
       "0  712382 2017-01-01 00:00:00  ...       Church St  / Wood St     Member\n",
       "1  712383 2017-01-01 00:00:00  ...    Bathurst Subway Station     Member\n",
       "2  712384 2017-01-01 00:05:00  ...  College St W / Markham St     Member\n",
       "\n",
       "[3 rows x 9 columns]"
      ]
     },
     "execution_count": 20,
     "metadata": {
      "tags": []
     },
     "output_type": "execute_result"
    }
   ],
   "source": [
    "print(df[df['trip_start_time'].dt.year == 2017].shape)\n",
    "df[df['trip_start_time'].dt.year == 2017].head(3)"
   ]
  },
  {
   "cell_type": "code",
   "execution_count": 0,
   "metadata": {
    "colab": {},
    "colab_type": "code",
    "id": "QSGZgYiYOcVS"
   },
   "outputs": [],
   "source": [
    "#delete non 2017 records\n",
    "data = df[df['trip_start_time'].dt.year == 2017]"
   ]
  },
  {
   "cell_type": "code",
   "execution_count": 28,
   "metadata": {
    "colab": {
     "base_uri": "https://localhost:8080/",
     "height": 82
    },
    "colab_type": "code",
    "id": "vSBDEnrAOmck",
    "outputId": "68fa84ed-e222-4925-9b8d-bab835e1fecb"
   },
   "outputs": [
    {
     "name": "stderr",
     "output_type": "stream",
     "text": [
      "/usr/local/lib/python3.6/dist-packages/ipykernel_launcher.py:1: UserWarning: Boolean Series key will be reindexed to match DataFrame index.\n",
      "  \"\"\"Entry point for launching an IPython kernel.\n"
     ]
    },
    {
     "data": {
      "text/html": [
       "<div>\n",
       "<style scoped>\n",
       "    .dataframe tbody tr th:only-of-type {\n",
       "        vertical-align: middle;\n",
       "    }\n",
       "\n",
       "    .dataframe tbody tr th {\n",
       "        vertical-align: top;\n",
       "    }\n",
       "\n",
       "    .dataframe thead th {\n",
       "        text-align: right;\n",
       "    }\n",
       "</style>\n",
       "<table border=\"1\" class=\"dataframe\">\n",
       "  <thead>\n",
       "    <tr style=\"text-align: right;\">\n",
       "      <th></th>\n",
       "      <th>trip_id</th>\n",
       "      <th>trip_start_time</th>\n",
       "      <th>trip_stop_time</th>\n",
       "      <th>trip_duration_seconds</th>\n",
       "      <th>from_station_id</th>\n",
       "      <th>from_station_name</th>\n",
       "      <th>to_station_id</th>\n",
       "      <th>to_station_name</th>\n",
       "      <th>user_type</th>\n",
       "    </tr>\n",
       "  </thead>\n",
       "  <tbody>\n",
       "  </tbody>\n",
       "</table>\n",
       "</div>"
      ],
      "text/plain": [
       "Empty DataFrame\n",
       "Columns: [trip_id, trip_start_time, trip_stop_time, trip_duration_seconds, from_station_id, from_station_name, to_station_id, to_station_name, user_type]\n",
       "Index: []"
      ]
     },
     "execution_count": 28,
     "metadata": {
      "tags": []
     },
     "output_type": "execute_result"
    }
   ],
   "source": [
    "#QC check\n",
    "data[df['trip_start_time'].dt.year != 2017]"
   ]
  },
  {
   "cell_type": "code",
   "execution_count": 30,
   "metadata": {
    "colab": {
     "base_uri": "https://localhost:8080/",
     "height": 34
    },
    "colab_type": "code",
    "id": "LaVHFnFfPHkO",
    "outputId": "d58a015b-2488-49c2-9dfd-3100c0455c2a"
   },
   "outputs": [
    {
     "name": "stdout",
     "output_type": "stream",
     "text": [
      "(333, 9)\n"
     ]
    }
   ],
   "source": [
    "#Delete records with start time greater than stop time (Stop time should be greater)\n",
    "print(data[data['trip_start_time'] > data['trip_stop_time']].shape)\n",
    "data = data[data['trip_start_time'] < data['trip_stop_time']]"
   ]
  },
  {
   "cell_type": "code",
   "execution_count": 31,
   "metadata": {
    "colab": {
     "base_uri": "https://localhost:8080/",
     "height": 48
    },
    "colab_type": "code",
    "id": "MVAzASZMP0-C",
    "outputId": "456af384-45f4-4fb7-b2d6-4b50fdca3f98"
   },
   "outputs": [
    {
     "data": {
      "text/html": [
       "<div>\n",
       "<style scoped>\n",
       "    .dataframe tbody tr th:only-of-type {\n",
       "        vertical-align: middle;\n",
       "    }\n",
       "\n",
       "    .dataframe tbody tr th {\n",
       "        vertical-align: top;\n",
       "    }\n",
       "\n",
       "    .dataframe thead th {\n",
       "        text-align: right;\n",
       "    }\n",
       "</style>\n",
       "<table border=\"1\" class=\"dataframe\">\n",
       "  <thead>\n",
       "    <tr style=\"text-align: right;\">\n",
       "      <th></th>\n",
       "      <th>trip_id</th>\n",
       "      <th>trip_start_time</th>\n",
       "      <th>trip_stop_time</th>\n",
       "      <th>trip_duration_seconds</th>\n",
       "      <th>from_station_id</th>\n",
       "      <th>from_station_name</th>\n",
       "      <th>to_station_id</th>\n",
       "      <th>to_station_name</th>\n",
       "      <th>user_type</th>\n",
       "    </tr>\n",
       "  </thead>\n",
       "  <tbody>\n",
       "  </tbody>\n",
       "</table>\n",
       "</div>"
      ],
      "text/plain": [
       "Empty DataFrame\n",
       "Columns: [trip_id, trip_start_time, trip_stop_time, trip_duration_seconds, from_station_id, from_station_name, to_station_id, to_station_name, user_type]\n",
       "Index: []"
      ]
     },
     "execution_count": 31,
     "metadata": {
      "tags": []
     },
     "output_type": "execute_result"
    }
   ],
   "source": [
    "#QC check\n",
    "data[data['trip_start_time'] > data['trip_stop_time']]"
   ]
  },
  {
   "cell_type": "code",
   "execution_count": 0,
   "metadata": {
    "colab": {},
    "colab_type": "code",
    "id": "d0w9srKmPeHa"
   },
   "outputs": [],
   "source": [
    "#Determine Overage\n",
    "#Assumption (trip start and stop times are actual ride times trips lasted while trip duration is the booked time for the trips)\n",
    "#Actual duration = trip_stop_time - trip_start_time\n",
    "data['actual_Timedelta'] = data.trip_stop_time - data.trip_start_time\n",
    "data['actual_days'] = data['actual_Timedelta'].dt.days\n",
    "data['actual_seconds'] = data['actual_Timedelta'].dt.seconds\n",
    "data['actual_duration'] = (data['actual_days'] * 24 * 60 * 60) + data['actual_seconds']"
   ]
  },
  {
   "cell_type": "code",
   "execution_count": 86,
   "metadata": {
    "colab": {
     "base_uri": "https://localhost:8080/",
     "height": 208
    },
    "colab_type": "code",
    "id": "dRHofEV8RUZd",
    "outputId": "af3c1e6c-7636-45ef-ec88-185b2a1da037"
   },
   "outputs": [
    {
     "data": {
      "text/html": [
       "<div>\n",
       "<style scoped>\n",
       "    .dataframe tbody tr th:only-of-type {\n",
       "        vertical-align: middle;\n",
       "    }\n",
       "\n",
       "    .dataframe tbody tr th {\n",
       "        vertical-align: top;\n",
       "    }\n",
       "\n",
       "    .dataframe thead th {\n",
       "        text-align: right;\n",
       "    }\n",
       "</style>\n",
       "<table border=\"1\" class=\"dataframe\">\n",
       "  <thead>\n",
       "    <tr style=\"text-align: right;\">\n",
       "      <th></th>\n",
       "      <th>trip_id</th>\n",
       "      <th>trip_start_time</th>\n",
       "      <th>trip_stop_time</th>\n",
       "      <th>trip_duration_seconds</th>\n",
       "      <th>from_station_id</th>\n",
       "      <th>from_station_name</th>\n",
       "      <th>to_station_id</th>\n",
       "      <th>to_station_name</th>\n",
       "      <th>user_type</th>\n",
       "      <th>booked_Timedelta</th>\n",
       "      <th>booked_days</th>\n",
       "      <th>booked_seconds</th>\n",
       "      <th>booked_duration</th>\n",
       "      <th>overage</th>\n",
       "      <th>overage_charges</th>\n",
       "      <th>trip_start_time_weekday</th>\n",
       "      <th>trip_stop_time_weekday</th>\n",
       "      <th>trip_start_time_month</th>\n",
       "      <th>trip_stop_time_month</th>\n",
       "      <th>Quarter</th>\n",
       "      <th>startday_of_month</th>\n",
       "      <th>actual_Timedelta</th>\n",
       "      <th>actual_days</th>\n",
       "      <th>actual_seconds</th>\n",
       "      <th>actual_duration</th>\n",
       "    </tr>\n",
       "  </thead>\n",
       "  <tbody>\n",
       "    <tr>\n",
       "      <th>1125269</th>\n",
       "      <td>1967751</td>\n",
       "      <td>2017-09-30 14:13:00</td>\n",
       "      <td>2017-09-30 14:43:00</td>\n",
       "      <td>1808.0</td>\n",
       "      <td>Queen St E / Larchmount Ave</td>\n",
       "      <td>Metro Hall Plaza</td>\n",
       "      <td>Member</td>\n",
       "      <td>NaN</td>\n",
       "      <td>NaN</td>\n",
       "      <td>00:30:00</td>\n",
       "      <td>0</td>\n",
       "      <td>1800</td>\n",
       "      <td>1800</td>\n",
       "      <td>8.0</td>\n",
       "      <td>4</td>\n",
       "      <td>Saturday</td>\n",
       "      <td>Saturday</td>\n",
       "      <td>September</td>\n",
       "      <td>September</td>\n",
       "      <td>Q3</td>\n",
       "      <td>30</td>\n",
       "      <td>00:30:00</td>\n",
       "      <td>0</td>\n",
       "      <td>1800</td>\n",
       "      <td>1800</td>\n",
       "    </tr>\n",
       "    <tr>\n",
       "      <th>62292</th>\n",
       "      <td>786042</td>\n",
       "      <td>2017-02-17 13:56:00</td>\n",
       "      <td>2017-02-17 14:02:00</td>\n",
       "      <td>307.0</td>\n",
       "      <td>7035</td>\n",
       "      <td>Queen St W / Ossington Ave</td>\n",
       "      <td>7158</td>\n",
       "      <td>King St W / Stafford St</td>\n",
       "      <td>Member</td>\n",
       "      <td>00:06:00</td>\n",
       "      <td>0</td>\n",
       "      <td>360</td>\n",
       "      <td>360</td>\n",
       "      <td>-53.0</td>\n",
       "      <td>0</td>\n",
       "      <td>Friday</td>\n",
       "      <td>Friday</td>\n",
       "      <td>February</td>\n",
       "      <td>February</td>\n",
       "      <td>Q1</td>\n",
       "      <td>17</td>\n",
       "      <td>00:06:00</td>\n",
       "      <td>0</td>\n",
       "      <td>360</td>\n",
       "      <td>360</td>\n",
       "    </tr>\n",
       "    <tr>\n",
       "      <th>1244791</th>\n",
       "      <td>2098744</td>\n",
       "      <td>2017-10-19 17:56:07</td>\n",
       "      <td>2017-10-19 18:11:51</td>\n",
       "      <td>944.0</td>\n",
       "      <td>College St / Markham St</td>\n",
       "      <td>Michael Sweet Ave / St. Patrick St</td>\n",
       "      <td>Member</td>\n",
       "      <td>NaN</td>\n",
       "      <td>NaN</td>\n",
       "      <td>00:15:44</td>\n",
       "      <td>0</td>\n",
       "      <td>944</td>\n",
       "      <td>944</td>\n",
       "      <td>0.0</td>\n",
       "      <td>0</td>\n",
       "      <td>Thursday</td>\n",
       "      <td>Thursday</td>\n",
       "      <td>October</td>\n",
       "      <td>October</td>\n",
       "      <td>Q4</td>\n",
       "      <td>19</td>\n",
       "      <td>00:15:44</td>\n",
       "      <td>0</td>\n",
       "      <td>944</td>\n",
       "      <td>944</td>\n",
       "    </tr>\n",
       "  </tbody>\n",
       "</table>\n",
       "</div>"
      ],
      "text/plain": [
       "         trip_id     trip_start_time  ... actual_seconds  actual_duration\n",
       "1125269  1967751 2017-09-30 14:13:00  ...           1800             1800\n",
       "62292     786042 2017-02-17 13:56:00  ...            360              360\n",
       "1244791  2098744 2017-10-19 17:56:07  ...            944              944\n",
       "\n",
       "[3 rows x 25 columns]"
      ]
     },
     "execution_count": 86,
     "metadata": {
      "tags": []
     },
     "output_type": "execute_result"
    }
   ],
   "source": [
    "#QC Check\n",
    "data.sample(3)"
   ]
  },
  {
   "cell_type": "code",
   "execution_count": 0,
   "metadata": {
    "colab": {},
    "colab_type": "code",
    "id": "-4nUNr7ERadf"
   },
   "outputs": [],
   "source": [
    "#overage = Actual_duration - Booked_duration\n",
    "data['overage'] = data['actual_duration'] - data['trip_duration_seconds']"
   ]
  },
  {
   "cell_type": "code",
   "execution_count": 88,
   "metadata": {
    "colab": {
     "base_uri": "https://localhost:8080/",
     "height": 208
    },
    "colab_type": "code",
    "id": "w4S2ynaYS0bq",
    "outputId": "ade0d361-6fab-43ae-faf5-c5e9b639df2b"
   },
   "outputs": [
    {
     "data": {
      "text/html": [
       "<div>\n",
       "<style scoped>\n",
       "    .dataframe tbody tr th:only-of-type {\n",
       "        vertical-align: middle;\n",
       "    }\n",
       "\n",
       "    .dataframe tbody tr th {\n",
       "        vertical-align: top;\n",
       "    }\n",
       "\n",
       "    .dataframe thead th {\n",
       "        text-align: right;\n",
       "    }\n",
       "</style>\n",
       "<table border=\"1\" class=\"dataframe\">\n",
       "  <thead>\n",
       "    <tr style=\"text-align: right;\">\n",
       "      <th></th>\n",
       "      <th>trip_id</th>\n",
       "      <th>trip_start_time</th>\n",
       "      <th>trip_stop_time</th>\n",
       "      <th>trip_duration_seconds</th>\n",
       "      <th>from_station_id</th>\n",
       "      <th>from_station_name</th>\n",
       "      <th>to_station_id</th>\n",
       "      <th>to_station_name</th>\n",
       "      <th>user_type</th>\n",
       "      <th>booked_Timedelta</th>\n",
       "      <th>booked_days</th>\n",
       "      <th>booked_seconds</th>\n",
       "      <th>booked_duration</th>\n",
       "      <th>overage</th>\n",
       "      <th>overage_charges</th>\n",
       "      <th>trip_start_time_weekday</th>\n",
       "      <th>trip_stop_time_weekday</th>\n",
       "      <th>trip_start_time_month</th>\n",
       "      <th>trip_stop_time_month</th>\n",
       "      <th>Quarter</th>\n",
       "      <th>startday_of_month</th>\n",
       "      <th>actual_Timedelta</th>\n",
       "      <th>actual_days</th>\n",
       "      <th>actual_seconds</th>\n",
       "      <th>actual_duration</th>\n",
       "    </tr>\n",
       "  </thead>\n",
       "  <tbody>\n",
       "    <tr>\n",
       "      <th>699856</th>\n",
       "      <td>1507905</td>\n",
       "      <td>2017-03-08 20:05:00</td>\n",
       "      <td>2017-03-08 20:06:00</td>\n",
       "      <td>53.0</td>\n",
       "      <td>Bay St / College St (East Side)</td>\n",
       "      <td>Bay St / College St (East Side)</td>\n",
       "      <td>Member</td>\n",
       "      <td>NaN</td>\n",
       "      <td>NaN</td>\n",
       "      <td>00:01:00</td>\n",
       "      <td>0</td>\n",
       "      <td>60</td>\n",
       "      <td>60</td>\n",
       "      <td>7.0</td>\n",
       "      <td>0</td>\n",
       "      <td>Wednesday</td>\n",
       "      <td>Wednesday</td>\n",
       "      <td>March</td>\n",
       "      <td>March</td>\n",
       "      <td>Q1</td>\n",
       "      <td>8</td>\n",
       "      <td>00:01:00</td>\n",
       "      <td>0</td>\n",
       "      <td>60</td>\n",
       "      <td>60</td>\n",
       "    </tr>\n",
       "    <tr>\n",
       "      <th>1089566</th>\n",
       "      <td>1929060</td>\n",
       "      <td>2017-09-25 16:56:00</td>\n",
       "      <td>2017-09-25 17:05:00</td>\n",
       "      <td>537.0</td>\n",
       "      <td>Bay St / Wellesley St W</td>\n",
       "      <td>King St W / Bay St (West Side)</td>\n",
       "      <td>Member</td>\n",
       "      <td>NaN</td>\n",
       "      <td>NaN</td>\n",
       "      <td>00:09:00</td>\n",
       "      <td>0</td>\n",
       "      <td>540</td>\n",
       "      <td>540</td>\n",
       "      <td>3.0</td>\n",
       "      <td>0</td>\n",
       "      <td>Monday</td>\n",
       "      <td>Monday</td>\n",
       "      <td>September</td>\n",
       "      <td>September</td>\n",
       "      <td>Q3</td>\n",
       "      <td>25</td>\n",
       "      <td>00:09:00</td>\n",
       "      <td>0</td>\n",
       "      <td>540</td>\n",
       "      <td>540</td>\n",
       "    </tr>\n",
       "    <tr>\n",
       "      <th>1250694</th>\n",
       "      <td>2105303</td>\n",
       "      <td>2017-10-20 15:28:17</td>\n",
       "      <td>2017-10-20 15:28:44</td>\n",
       "      <td>27.0</td>\n",
       "      <td>Dundas St W / Yonge St</td>\n",
       "      <td>Dundas St W / Yonge St</td>\n",
       "      <td>Member</td>\n",
       "      <td>NaN</td>\n",
       "      <td>NaN</td>\n",
       "      <td>00:00:27</td>\n",
       "      <td>0</td>\n",
       "      <td>27</td>\n",
       "      <td>27</td>\n",
       "      <td>0.0</td>\n",
       "      <td>0</td>\n",
       "      <td>Friday</td>\n",
       "      <td>Friday</td>\n",
       "      <td>October</td>\n",
       "      <td>October</td>\n",
       "      <td>Q4</td>\n",
       "      <td>20</td>\n",
       "      <td>00:00:27</td>\n",
       "      <td>0</td>\n",
       "      <td>27</td>\n",
       "      <td>27</td>\n",
       "    </tr>\n",
       "  </tbody>\n",
       "</table>\n",
       "</div>"
      ],
      "text/plain": [
       "         trip_id     trip_start_time  ... actual_seconds  actual_duration\n",
       "699856   1507905 2017-03-08 20:05:00  ...             60               60\n",
       "1089566  1929060 2017-09-25 16:56:00  ...            540              540\n",
       "1250694  2105303 2017-10-20 15:28:17  ...             27               27\n",
       "\n",
       "[3 rows x 25 columns]"
      ]
     },
     "execution_count": 88,
     "metadata": {
      "tags": []
     },
     "output_type": "execute_result"
    }
   ],
   "source": [
    "#QC Check\n",
    "data.sample(3)"
   ]
  },
  {
   "cell_type": "code",
   "execution_count": 0,
   "metadata": {
    "colab": {},
    "colab_type": "code",
    "id": "lLdq2bY_S9AL"
   },
   "outputs": [],
   "source": [
    "#Determine Overage Charges\n",
    "#Overage price model\n",
    "#Types of overage:       Charge per model\n",
    "#Type 1  0-30 minutes --- 4 * 1\n",
    "#Type 2  31-60 minutes -- 4 * 2\n",
    "#Type 3  61-90 minutes -- 4 * 3\n",
    "#Type 4  91-120 minutes - 4 * 4\n",
    "#Type 5 120+ minutes ---- 4 * 5 \"\"\"\"\n",
    "\n",
    "#Create a function to generate charges\n",
    "\n",
    "def ov_charge(n):\n",
    "#function to generate overage charges\n",
    "  n = n/60\n",
    "# n is time overage in seconds\n",
    "  if n > 0 and n <= 30:\n",
    "    return(int(4))\n",
    "  elif n > 30 and n <= 60:\n",
    "    return(int(4*2))\n",
    "  elif n > 60 and n <= 90:\n",
    "    return(int(4*3))\n",
    "  elif n > 90 and n <= 120:\n",
    "    return(int(4*4))\n",
    "  elif n > 120:\n",
    "    return(int(4*5))\n",
    "  else:\n",
    "    return(int(0))"
   ]
  },
  {
   "cell_type": "code",
   "execution_count": 90,
   "metadata": {
    "colab": {
     "base_uri": "https://localhost:8080/",
     "height": 34
    },
    "colab_type": "code",
    "id": "Cnq-N41oTEk9",
    "outputId": "0099be72-ed4e-40d8-f738-2cac8f51621a"
   },
   "outputs": [
    {
     "data": {
      "text/plain": [
       "12"
      ]
     },
     "execution_count": 90,
     "metadata": {
      "tags": []
     },
     "output_type": "execute_result"
    }
   ],
   "source": [
    "#QC to check function works well\n",
    "ov_charge(4000)"
   ]
  },
  {
   "cell_type": "code",
   "execution_count": 0,
   "metadata": {
    "colab": {},
    "colab_type": "code",
    "id": "B0yQ4ZUBVo-d"
   },
   "outputs": [],
   "source": [
    "#Apply overage function on overage column\n",
    "data['overage_charges'] = data['overage'].apply(ov_charge)"
   ]
  },
  {
   "cell_type": "code",
   "execution_count": 92,
   "metadata": {
    "colab": {
     "base_uri": "https://localhost:8080/",
     "height": 225
    },
    "colab_type": "code",
    "id": "jKFmHEOuVqyQ",
    "outputId": "9d414aea-bb7c-4881-e082-663971742a87"
   },
   "outputs": [
    {
     "data": {
      "text/html": [
       "<div>\n",
       "<style scoped>\n",
       "    .dataframe tbody tr th:only-of-type {\n",
       "        vertical-align: middle;\n",
       "    }\n",
       "\n",
       "    .dataframe tbody tr th {\n",
       "        vertical-align: top;\n",
       "    }\n",
       "\n",
       "    .dataframe thead th {\n",
       "        text-align: right;\n",
       "    }\n",
       "</style>\n",
       "<table border=\"1\" class=\"dataframe\">\n",
       "  <thead>\n",
       "    <tr style=\"text-align: right;\">\n",
       "      <th></th>\n",
       "      <th>trip_id</th>\n",
       "      <th>trip_start_time</th>\n",
       "      <th>trip_stop_time</th>\n",
       "      <th>trip_duration_seconds</th>\n",
       "      <th>from_station_id</th>\n",
       "      <th>from_station_name</th>\n",
       "      <th>to_station_id</th>\n",
       "      <th>to_station_name</th>\n",
       "      <th>user_type</th>\n",
       "      <th>booked_Timedelta</th>\n",
       "      <th>booked_days</th>\n",
       "      <th>booked_seconds</th>\n",
       "      <th>booked_duration</th>\n",
       "      <th>overage</th>\n",
       "      <th>overage_charges</th>\n",
       "      <th>trip_start_time_weekday</th>\n",
       "      <th>trip_stop_time_weekday</th>\n",
       "      <th>trip_start_time_month</th>\n",
       "      <th>trip_stop_time_month</th>\n",
       "      <th>Quarter</th>\n",
       "      <th>startday_of_month</th>\n",
       "      <th>actual_Timedelta</th>\n",
       "      <th>actual_days</th>\n",
       "      <th>actual_seconds</th>\n",
       "      <th>actual_duration</th>\n",
       "    </tr>\n",
       "  </thead>\n",
       "  <tbody>\n",
       "    <tr>\n",
       "      <th>1313986</th>\n",
       "      <td>2175476</td>\n",
       "      <td>2017-10-31 20:10:12</td>\n",
       "      <td>2017-10-31 20:13:44</td>\n",
       "      <td>212.0</td>\n",
       "      <td>Jarvis St / Carlton St</td>\n",
       "      <td>Parliament St / Aberdeen Ave</td>\n",
       "      <td>Member</td>\n",
       "      <td>NaN</td>\n",
       "      <td>NaN</td>\n",
       "      <td>00:03:32</td>\n",
       "      <td>0</td>\n",
       "      <td>212</td>\n",
       "      <td>212</td>\n",
       "      <td>0.0</td>\n",
       "      <td>0</td>\n",
       "      <td>Tuesday</td>\n",
       "      <td>Tuesday</td>\n",
       "      <td>October</td>\n",
       "      <td>October</td>\n",
       "      <td>Q4</td>\n",
       "      <td>31</td>\n",
       "      <td>00:03:32</td>\n",
       "      <td>0</td>\n",
       "      <td>212</td>\n",
       "      <td>212</td>\n",
       "    </tr>\n",
       "    <tr>\n",
       "      <th>212977</th>\n",
       "      <td>960824</td>\n",
       "      <td>2017-05-02 11:24:00</td>\n",
       "      <td>2017-05-02 11:39:00</td>\n",
       "      <td>880.0</td>\n",
       "      <td>7208</td>\n",
       "      <td>80 Clinton St (North of College)</td>\n",
       "      <td>7015</td>\n",
       "      <td>King St W / Bay St (West Side)</td>\n",
       "      <td>Member</td>\n",
       "      <td>00:15:00</td>\n",
       "      <td>0</td>\n",
       "      <td>900</td>\n",
       "      <td>900</td>\n",
       "      <td>20.0</td>\n",
       "      <td>4</td>\n",
       "      <td>Tuesday</td>\n",
       "      <td>Tuesday</td>\n",
       "      <td>May</td>\n",
       "      <td>May</td>\n",
       "      <td>Q2</td>\n",
       "      <td>2</td>\n",
       "      <td>00:15:00</td>\n",
       "      <td>0</td>\n",
       "      <td>900</td>\n",
       "      <td>900</td>\n",
       "    </tr>\n",
       "    <tr>\n",
       "      <th>449240</th>\n",
       "      <td>1234333</td>\n",
       "      <td>2017-06-27 22:42:00</td>\n",
       "      <td>2017-06-27 22:55:00</td>\n",
       "      <td>790.0</td>\n",
       "      <td>7168</td>\n",
       "      <td>Queens Quay / Yonge St</td>\n",
       "      <td>7014</td>\n",
       "      <td>Sherbourne St / Carlton St (Allan Gardens)</td>\n",
       "      <td>Member</td>\n",
       "      <td>00:13:00</td>\n",
       "      <td>0</td>\n",
       "      <td>780</td>\n",
       "      <td>780</td>\n",
       "      <td>-10.0</td>\n",
       "      <td>0</td>\n",
       "      <td>Tuesday</td>\n",
       "      <td>Tuesday</td>\n",
       "      <td>June</td>\n",
       "      <td>June</td>\n",
       "      <td>Q2</td>\n",
       "      <td>27</td>\n",
       "      <td>00:13:00</td>\n",
       "      <td>0</td>\n",
       "      <td>780</td>\n",
       "      <td>780</td>\n",
       "    </tr>\n",
       "  </tbody>\n",
       "</table>\n",
       "</div>"
      ],
      "text/plain": [
       "         trip_id     trip_start_time  ... actual_seconds  actual_duration\n",
       "1313986  2175476 2017-10-31 20:10:12  ...            212              212\n",
       "212977    960824 2017-05-02 11:24:00  ...            900              900\n",
       "449240   1234333 2017-06-27 22:42:00  ...            780              780\n",
       "\n",
       "[3 rows x 25 columns]"
      ]
     },
     "execution_count": 92,
     "metadata": {
      "tags": []
     },
     "output_type": "execute_result"
    }
   ],
   "source": [
    "#QC Check\n",
    "data.sample(3)"
   ]
  },
  {
   "cell_type": "code",
   "execution_count": 0,
   "metadata": {
    "colab": {},
    "colab_type": "code",
    "id": "fYyf76bkV3t5"
   },
   "outputs": [],
   "source": [
    "#Extracting Weekday from Dates\n",
    "dayOfWeek={0:'Monday', 1:'Tuesday', 2:'Wednesday', 3:'Thursday', 4:'Friday', 5:'Saturday', 6:'Sunday'}\n",
    "data['trip_start_time_weekday'] = data['trip_start_time'].dt.dayofweek.map(dayOfWeek)\n",
    "data['trip_stop_time_weekday'] = data['trip_stop_time'].dt.dayofweek.map(dayOfWeek)"
   ]
  },
  {
   "cell_type": "code",
   "execution_count": 94,
   "metadata": {
    "colab": {
     "base_uri": "https://localhost:8080/",
     "height": 242
    },
    "colab_type": "code",
    "id": "KqvWHchyV5r8",
    "outputId": "b1b30299-bfd0-423a-f3da-9e1b9ae1b629"
   },
   "outputs": [
    {
     "data": {
      "text/html": [
       "<div>\n",
       "<style scoped>\n",
       "    .dataframe tbody tr th:only-of-type {\n",
       "        vertical-align: middle;\n",
       "    }\n",
       "\n",
       "    .dataframe tbody tr th {\n",
       "        vertical-align: top;\n",
       "    }\n",
       "\n",
       "    .dataframe thead th {\n",
       "        text-align: right;\n",
       "    }\n",
       "</style>\n",
       "<table border=\"1\" class=\"dataframe\">\n",
       "  <thead>\n",
       "    <tr style=\"text-align: right;\">\n",
       "      <th></th>\n",
       "      <th>trip_id</th>\n",
       "      <th>trip_start_time</th>\n",
       "      <th>trip_stop_time</th>\n",
       "      <th>trip_duration_seconds</th>\n",
       "      <th>from_station_id</th>\n",
       "      <th>from_station_name</th>\n",
       "      <th>to_station_id</th>\n",
       "      <th>to_station_name</th>\n",
       "      <th>user_type</th>\n",
       "      <th>booked_Timedelta</th>\n",
       "      <th>booked_days</th>\n",
       "      <th>booked_seconds</th>\n",
       "      <th>booked_duration</th>\n",
       "      <th>overage</th>\n",
       "      <th>overage_charges</th>\n",
       "      <th>trip_start_time_weekday</th>\n",
       "      <th>trip_stop_time_weekday</th>\n",
       "      <th>trip_start_time_month</th>\n",
       "      <th>trip_stop_time_month</th>\n",
       "      <th>Quarter</th>\n",
       "      <th>startday_of_month</th>\n",
       "      <th>actual_Timedelta</th>\n",
       "      <th>actual_days</th>\n",
       "      <th>actual_seconds</th>\n",
       "      <th>actual_duration</th>\n",
       "    </tr>\n",
       "  </thead>\n",
       "  <tbody>\n",
       "    <tr>\n",
       "      <th>116776</th>\n",
       "      <td>851129</td>\n",
       "      <td>2017-03-23 17:31:00</td>\n",
       "      <td>2017-03-23 17:44:00</td>\n",
       "      <td>761.0</td>\n",
       "      <td>7198</td>\n",
       "      <td>Queen St W / Cowan Ave</td>\n",
       "      <td>7046</td>\n",
       "      <td>Niagara St / Richmond St W</td>\n",
       "      <td>Casual</td>\n",
       "      <td>00:13:00</td>\n",
       "      <td>0</td>\n",
       "      <td>780</td>\n",
       "      <td>780</td>\n",
       "      <td>19.0</td>\n",
       "      <td>4</td>\n",
       "      <td>Thursday</td>\n",
       "      <td>Thursday</td>\n",
       "      <td>March</td>\n",
       "      <td>March</td>\n",
       "      <td>Q1</td>\n",
       "      <td>23</td>\n",
       "      <td>00:13:00</td>\n",
       "      <td>0</td>\n",
       "      <td>780</td>\n",
       "      <td>780</td>\n",
       "    </tr>\n",
       "    <tr>\n",
       "      <th>1058661</th>\n",
       "      <td>1896117</td>\n",
       "      <td>2017-09-21 17:49:00</td>\n",
       "      <td>2017-09-21 17:59:00</td>\n",
       "      <td>594.0</td>\n",
       "      <td>Lower Spadina Ave / Lake Shore Blvd</td>\n",
       "      <td>Lower Spadina Ave / Lake Shore Blvd</td>\n",
       "      <td>Member</td>\n",
       "      <td>NaN</td>\n",
       "      <td>NaN</td>\n",
       "      <td>00:10:00</td>\n",
       "      <td>0</td>\n",
       "      <td>600</td>\n",
       "      <td>600</td>\n",
       "      <td>6.0</td>\n",
       "      <td>4</td>\n",
       "      <td>Thursday</td>\n",
       "      <td>Thursday</td>\n",
       "      <td>September</td>\n",
       "      <td>September</td>\n",
       "      <td>Q3</td>\n",
       "      <td>21</td>\n",
       "      <td>00:10:00</td>\n",
       "      <td>0</td>\n",
       "      <td>600</td>\n",
       "      <td>600</td>\n",
       "    </tr>\n",
       "    <tr>\n",
       "      <th>622572</th>\n",
       "      <td>1424502</td>\n",
       "      <td>2017-07-24 13:51:00</td>\n",
       "      <td>2017-07-24 14:16:00</td>\n",
       "      <td>1462.0</td>\n",
       "      <td>College St / Huron St</td>\n",
       "      <td>Elizabeth St / Edward St (Bus Terminal)</td>\n",
       "      <td>Casual</td>\n",
       "      <td>NaN</td>\n",
       "      <td>NaN</td>\n",
       "      <td>00:25:00</td>\n",
       "      <td>0</td>\n",
       "      <td>1500</td>\n",
       "      <td>1500</td>\n",
       "      <td>38.0</td>\n",
       "      <td>4</td>\n",
       "      <td>Monday</td>\n",
       "      <td>Monday</td>\n",
       "      <td>July</td>\n",
       "      <td>July</td>\n",
       "      <td>Q3</td>\n",
       "      <td>24</td>\n",
       "      <td>00:25:00</td>\n",
       "      <td>0</td>\n",
       "      <td>1500</td>\n",
       "      <td>1500</td>\n",
       "    </tr>\n",
       "  </tbody>\n",
       "</table>\n",
       "</div>"
      ],
      "text/plain": [
       "         trip_id     trip_start_time  ... actual_seconds  actual_duration\n",
       "116776    851129 2017-03-23 17:31:00  ...            780              780\n",
       "1058661  1896117 2017-09-21 17:49:00  ...            600              600\n",
       "622572   1424502 2017-07-24 13:51:00  ...           1500             1500\n",
       "\n",
       "[3 rows x 25 columns]"
      ]
     },
     "execution_count": 94,
     "metadata": {
      "tags": []
     },
     "output_type": "execute_result"
    }
   ],
   "source": [
    "#QC check\n",
    "data.sample(3)"
   ]
  },
  {
   "cell_type": "code",
   "execution_count": 0,
   "metadata": {
    "colab": {},
    "colab_type": "code",
    "id": "3Hj3J34MWB4w"
   },
   "outputs": [],
   "source": [
    "#Extracting months of year from Dates\n",
    "MonthofYear = {1:'January', 2:'February', 3:'March', 4:'April', 5:'May', 6:'June', 7:'July', 8:'August', 9:'September', 10:'October', 11:'November', 12:'December'}\n",
    "data['trip_start_time_month'] = pd.DatetimeIndex(data['trip_start_time']).month.map(MonthofYear)\n",
    "data['trip_stop_time_month'] = pd.DatetimeIndex(data['trip_stop_time']).month.map(MonthofYear)"
   ]
  },
  {
   "cell_type": "code",
   "execution_count": 96,
   "metadata": {
    "colab": {
     "base_uri": "https://localhost:8080/",
     "height": 178
    },
    "colab_type": "code",
    "id": "OWMs3BXsWFD6",
    "outputId": "18e3e7b4-5ff1-4a85-e724-3ac38a185484"
   },
   "outputs": [
    {
     "data": {
      "text/html": [
       "<div>\n",
       "<style scoped>\n",
       "    .dataframe tbody tr th:only-of-type {\n",
       "        vertical-align: middle;\n",
       "    }\n",
       "\n",
       "    .dataframe tbody tr th {\n",
       "        vertical-align: top;\n",
       "    }\n",
       "\n",
       "    .dataframe thead th {\n",
       "        text-align: right;\n",
       "    }\n",
       "</style>\n",
       "<table border=\"1\" class=\"dataframe\">\n",
       "  <thead>\n",
       "    <tr style=\"text-align: right;\">\n",
       "      <th></th>\n",
       "      <th>trip_id</th>\n",
       "      <th>trip_start_time</th>\n",
       "      <th>trip_stop_time</th>\n",
       "      <th>trip_duration_seconds</th>\n",
       "      <th>from_station_id</th>\n",
       "      <th>from_station_name</th>\n",
       "      <th>to_station_id</th>\n",
       "      <th>to_station_name</th>\n",
       "      <th>user_type</th>\n",
       "      <th>booked_Timedelta</th>\n",
       "      <th>booked_days</th>\n",
       "      <th>booked_seconds</th>\n",
       "      <th>booked_duration</th>\n",
       "      <th>overage</th>\n",
       "      <th>overage_charges</th>\n",
       "      <th>trip_start_time_weekday</th>\n",
       "      <th>trip_stop_time_weekday</th>\n",
       "      <th>trip_start_time_month</th>\n",
       "      <th>trip_stop_time_month</th>\n",
       "      <th>Quarter</th>\n",
       "      <th>startday_of_month</th>\n",
       "      <th>actual_Timedelta</th>\n",
       "      <th>actual_days</th>\n",
       "      <th>actual_seconds</th>\n",
       "      <th>actual_duration</th>\n",
       "    </tr>\n",
       "  </thead>\n",
       "  <tbody>\n",
       "    <tr>\n",
       "      <th>791042</th>\n",
       "      <td>1607561</td>\n",
       "      <td>2017-08-17 08:49:00</td>\n",
       "      <td>2017-08-17 09:10:00</td>\n",
       "      <td>1246.0</td>\n",
       "      <td>Church St / Bloor St E</td>\n",
       "      <td>King St W / Spadina Ave</td>\n",
       "      <td>Member</td>\n",
       "      <td>NaN</td>\n",
       "      <td>NaN</td>\n",
       "      <td>00:21:00</td>\n",
       "      <td>0</td>\n",
       "      <td>1260</td>\n",
       "      <td>1260</td>\n",
       "      <td>14.0</td>\n",
       "      <td>4</td>\n",
       "      <td>Thursday</td>\n",
       "      <td>Thursday</td>\n",
       "      <td>August</td>\n",
       "      <td>August</td>\n",
       "      <td>Q3</td>\n",
       "      <td>17</td>\n",
       "      <td>00:21:00</td>\n",
       "      <td>0</td>\n",
       "      <td>1260</td>\n",
       "      <td>1260</td>\n",
       "    </tr>\n",
       "    <tr>\n",
       "      <th>199132</th>\n",
       "      <td>945119</td>\n",
       "      <td>2017-04-26 22:20:00</td>\n",
       "      <td>2017-04-26 22:37:00</td>\n",
       "      <td>995.0</td>\n",
       "      <td>7068</td>\n",
       "      <td>Dockside Dr / Queens Quay E (Sugar Beach)</td>\n",
       "      <td>7172</td>\n",
       "      <td>Strachan Ave / Princes' Blvd</td>\n",
       "      <td>Member</td>\n",
       "      <td>00:17:00</td>\n",
       "      <td>0</td>\n",
       "      <td>1020</td>\n",
       "      <td>1020</td>\n",
       "      <td>25.0</td>\n",
       "      <td>4</td>\n",
       "      <td>Wednesday</td>\n",
       "      <td>Wednesday</td>\n",
       "      <td>April</td>\n",
       "      <td>April</td>\n",
       "      <td>Q2</td>\n",
       "      <td>26</td>\n",
       "      <td>00:17:00</td>\n",
       "      <td>0</td>\n",
       "      <td>1020</td>\n",
       "      <td>1020</td>\n",
       "    </tr>\n",
       "  </tbody>\n",
       "</table>\n",
       "</div>"
      ],
      "text/plain": [
       "        trip_id     trip_start_time  ... actual_seconds  actual_duration\n",
       "791042  1607561 2017-08-17 08:49:00  ...           1260             1260\n",
       "199132   945119 2017-04-26 22:20:00  ...           1020             1020\n",
       "\n",
       "[2 rows x 25 columns]"
      ]
     },
     "execution_count": 96,
     "metadata": {
      "tags": []
     },
     "output_type": "execute_result"
    }
   ],
   "source": [
    "#QC check\n",
    "data.sample(2)"
   ]
  },
  {
   "cell_type": "code",
   "execution_count": 0,
   "metadata": {
    "colab": {},
    "colab_type": "code",
    "id": "WgYK8NcEWMF4"
   },
   "outputs": [],
   "source": [
    "#Extracting Quarters from Dates\n",
    "QuarterofYear = {1:'Q1', 2:'Q2', 3:'Q3', 4:'Q4'}\n",
    "data['Quarter'] = data['trip_start_time'].dt.quarter.map(QuarterofYear)"
   ]
  },
  {
   "cell_type": "code",
   "execution_count": 98,
   "metadata": {
    "colab": {
     "base_uri": "https://localhost:8080/",
     "height": 178
    },
    "colab_type": "code",
    "id": "usSlSHLWWOZK",
    "outputId": "b98ad56e-95a6-460f-db31-aa92f212a009"
   },
   "outputs": [
    {
     "data": {
      "text/html": [
       "<div>\n",
       "<style scoped>\n",
       "    .dataframe tbody tr th:only-of-type {\n",
       "        vertical-align: middle;\n",
       "    }\n",
       "\n",
       "    .dataframe tbody tr th {\n",
       "        vertical-align: top;\n",
       "    }\n",
       "\n",
       "    .dataframe thead th {\n",
       "        text-align: right;\n",
       "    }\n",
       "</style>\n",
       "<table border=\"1\" class=\"dataframe\">\n",
       "  <thead>\n",
       "    <tr style=\"text-align: right;\">\n",
       "      <th></th>\n",
       "      <th>trip_id</th>\n",
       "      <th>trip_start_time</th>\n",
       "      <th>trip_stop_time</th>\n",
       "      <th>trip_duration_seconds</th>\n",
       "      <th>from_station_id</th>\n",
       "      <th>from_station_name</th>\n",
       "      <th>to_station_id</th>\n",
       "      <th>to_station_name</th>\n",
       "      <th>user_type</th>\n",
       "      <th>booked_Timedelta</th>\n",
       "      <th>booked_days</th>\n",
       "      <th>booked_seconds</th>\n",
       "      <th>booked_duration</th>\n",
       "      <th>overage</th>\n",
       "      <th>overage_charges</th>\n",
       "      <th>trip_start_time_weekday</th>\n",
       "      <th>trip_stop_time_weekday</th>\n",
       "      <th>trip_start_time_month</th>\n",
       "      <th>trip_stop_time_month</th>\n",
       "      <th>Quarter</th>\n",
       "      <th>startday_of_month</th>\n",
       "      <th>actual_Timedelta</th>\n",
       "      <th>actual_days</th>\n",
       "      <th>actual_seconds</th>\n",
       "      <th>actual_duration</th>\n",
       "    </tr>\n",
       "  </thead>\n",
       "  <tbody>\n",
       "    <tr>\n",
       "      <th>113564</th>\n",
       "      <td>847294</td>\n",
       "      <td>2017-03-21 21:47:00</td>\n",
       "      <td>2017-03-21 21:55:00</td>\n",
       "      <td>461.0</td>\n",
       "      <td>7074</td>\n",
       "      <td>Spadina Ave / Sussex Ave</td>\n",
       "      <td>7153</td>\n",
       "      <td>Bloor St W / Christie St</td>\n",
       "      <td>Member</td>\n",
       "      <td>00:08:00</td>\n",
       "      <td>0</td>\n",
       "      <td>480</td>\n",
       "      <td>480</td>\n",
       "      <td>19.0</td>\n",
       "      <td>4</td>\n",
       "      <td>Tuesday</td>\n",
       "      <td>Tuesday</td>\n",
       "      <td>March</td>\n",
       "      <td>March</td>\n",
       "      <td>Q1</td>\n",
       "      <td>21</td>\n",
       "      <td>00:08:00</td>\n",
       "      <td>0</td>\n",
       "      <td>480</td>\n",
       "      <td>480</td>\n",
       "    </tr>\n",
       "    <tr>\n",
       "      <th>593335</th>\n",
       "      <td>1392796</td>\n",
       "      <td>2017-07-19 18:59:00</td>\n",
       "      <td>2017-07-19 19:22:00</td>\n",
       "      <td>1412.0</td>\n",
       "      <td>25 York St (ACC/Union Station South)</td>\n",
       "      <td>Ulster St / Bathurst St</td>\n",
       "      <td>Member</td>\n",
       "      <td>NaN</td>\n",
       "      <td>NaN</td>\n",
       "      <td>00:23:00</td>\n",
       "      <td>0</td>\n",
       "      <td>1380</td>\n",
       "      <td>1380</td>\n",
       "      <td>-32.0</td>\n",
       "      <td>0</td>\n",
       "      <td>Wednesday</td>\n",
       "      <td>Wednesday</td>\n",
       "      <td>July</td>\n",
       "      <td>July</td>\n",
       "      <td>Q3</td>\n",
       "      <td>19</td>\n",
       "      <td>00:23:00</td>\n",
       "      <td>0</td>\n",
       "      <td>1380</td>\n",
       "      <td>1380</td>\n",
       "    </tr>\n",
       "  </tbody>\n",
       "</table>\n",
       "</div>"
      ],
      "text/plain": [
       "        trip_id     trip_start_time  ... actual_seconds  actual_duration\n",
       "113564   847294 2017-03-21 21:47:00  ...            480              480\n",
       "593335  1392796 2017-07-19 18:59:00  ...           1380             1380\n",
       "\n",
       "[2 rows x 25 columns]"
      ]
     },
     "execution_count": 98,
     "metadata": {
      "tags": []
     },
     "output_type": "execute_result"
    }
   ],
   "source": [
    "#QC check\n",
    "data.sample(2)"
   ]
  },
  {
   "cell_type": "code",
   "execution_count": 0,
   "metadata": {
    "colab": {},
    "colab_type": "code",
    "id": "UbPa-Vk7WfOu"
   },
   "outputs": [],
   "source": [
    "#Extracting Day of the Month from Dates\n",
    "data['startday_of_month'] = data['trip_start_time'].dt.day"
   ]
  },
  {
   "cell_type": "code",
   "execution_count": 100,
   "metadata": {
    "colab": {
     "base_uri": "https://localhost:8080/",
     "height": 161
    },
    "colab_type": "code",
    "id": "N9Zc3g-HWhE5",
    "outputId": "9c690cc3-50f4-4f80-beaf-faf2930cd71b"
   },
   "outputs": [
    {
     "data": {
      "text/html": [
       "<div>\n",
       "<style scoped>\n",
       "    .dataframe tbody tr th:only-of-type {\n",
       "        vertical-align: middle;\n",
       "    }\n",
       "\n",
       "    .dataframe tbody tr th {\n",
       "        vertical-align: top;\n",
       "    }\n",
       "\n",
       "    .dataframe thead th {\n",
       "        text-align: right;\n",
       "    }\n",
       "</style>\n",
       "<table border=\"1\" class=\"dataframe\">\n",
       "  <thead>\n",
       "    <tr style=\"text-align: right;\">\n",
       "      <th></th>\n",
       "      <th>trip_id</th>\n",
       "      <th>trip_start_time</th>\n",
       "      <th>trip_stop_time</th>\n",
       "      <th>trip_duration_seconds</th>\n",
       "      <th>from_station_id</th>\n",
       "      <th>from_station_name</th>\n",
       "      <th>to_station_id</th>\n",
       "      <th>to_station_name</th>\n",
       "      <th>user_type</th>\n",
       "      <th>booked_Timedelta</th>\n",
       "      <th>booked_days</th>\n",
       "      <th>booked_seconds</th>\n",
       "      <th>booked_duration</th>\n",
       "      <th>overage</th>\n",
       "      <th>overage_charges</th>\n",
       "      <th>trip_start_time_weekday</th>\n",
       "      <th>trip_stop_time_weekday</th>\n",
       "      <th>trip_start_time_month</th>\n",
       "      <th>trip_stop_time_month</th>\n",
       "      <th>Quarter</th>\n",
       "      <th>startday_of_month</th>\n",
       "      <th>actual_Timedelta</th>\n",
       "      <th>actual_days</th>\n",
       "      <th>actual_seconds</th>\n",
       "      <th>actual_duration</th>\n",
       "    </tr>\n",
       "  </thead>\n",
       "  <tbody>\n",
       "    <tr>\n",
       "      <th>347032</th>\n",
       "      <td>1117627</td>\n",
       "      <td>2017-06-08 00:28:00</td>\n",
       "      <td>2017-06-08 00:41:00</td>\n",
       "      <td>788.0</td>\n",
       "      <td>7004</td>\n",
       "      <td>University Ave / Elm St</td>\n",
       "      <td>7040</td>\n",
       "      <td>Euclid Ave / Bloor St W</td>\n",
       "      <td>Member</td>\n",
       "      <td>00:13:00</td>\n",
       "      <td>0</td>\n",
       "      <td>780</td>\n",
       "      <td>780</td>\n",
       "      <td>-8.0</td>\n",
       "      <td>0</td>\n",
       "      <td>Thursday</td>\n",
       "      <td>Thursday</td>\n",
       "      <td>June</td>\n",
       "      <td>June</td>\n",
       "      <td>Q2</td>\n",
       "      <td>8</td>\n",
       "      <td>00:13:00</td>\n",
       "      <td>0</td>\n",
       "      <td>780</td>\n",
       "      <td>780</td>\n",
       "    </tr>\n",
       "    <tr>\n",
       "      <th>1062168</th>\n",
       "      <td>1899768</td>\n",
       "      <td>2017-09-22 08:15:00</td>\n",
       "      <td>2017-09-22 08:36:00</td>\n",
       "      <td>1268.0</td>\n",
       "      <td>Davenport Rd / Bathurst St</td>\n",
       "      <td>Wellington St W / Bay St</td>\n",
       "      <td>Member</td>\n",
       "      <td>NaN</td>\n",
       "      <td>NaN</td>\n",
       "      <td>00:21:00</td>\n",
       "      <td>0</td>\n",
       "      <td>1260</td>\n",
       "      <td>1260</td>\n",
       "      <td>-8.0</td>\n",
       "      <td>0</td>\n",
       "      <td>Friday</td>\n",
       "      <td>Friday</td>\n",
       "      <td>September</td>\n",
       "      <td>September</td>\n",
       "      <td>Q3</td>\n",
       "      <td>22</td>\n",
       "      <td>00:21:00</td>\n",
       "      <td>0</td>\n",
       "      <td>1260</td>\n",
       "      <td>1260</td>\n",
       "    </tr>\n",
       "  </tbody>\n",
       "</table>\n",
       "</div>"
      ],
      "text/plain": [
       "         trip_id     trip_start_time  ... actual_seconds  actual_duration\n",
       "347032   1117627 2017-06-08 00:28:00  ...            780              780\n",
       "1062168  1899768 2017-09-22 08:15:00  ...           1260             1260\n",
       "\n",
       "[2 rows x 25 columns]"
      ]
     },
     "execution_count": 100,
     "metadata": {
      "tags": []
     },
     "output_type": "execute_result"
    }
   ],
   "source": [
    "#QC check\n",
    "data.sample(2)"
   ]
  },
  {
   "cell_type": "markdown",
   "metadata": {
    "colab_type": "text",
    "id": "ESTnUuoPWwBl"
   },
   "source": [
    "## DATA ANALYSIS"
   ]
  },
  {
   "cell_type": "code",
   "execution_count": 101,
   "metadata": {
    "colab": {
     "base_uri": "https://localhost:8080/",
     "height": 286
    },
    "colab_type": "code",
    "id": "WLUZK6qbW7vf",
    "outputId": "bbc9bf4f-5934-4256-c375-02ae82cc6c75"
   },
   "outputs": [
    {
     "data": {
      "text/html": [
       "<div>\n",
       "<style scoped>\n",
       "    .dataframe tbody tr th:only-of-type {\n",
       "        vertical-align: middle;\n",
       "    }\n",
       "\n",
       "    .dataframe tbody tr th {\n",
       "        vertical-align: top;\n",
       "    }\n",
       "\n",
       "    .dataframe thead th {\n",
       "        text-align: right;\n",
       "    }\n",
       "</style>\n",
       "<table border=\"1\" class=\"dataframe\">\n",
       "  <thead>\n",
       "    <tr style=\"text-align: right;\">\n",
       "      <th>trip_start_time_month</th>\n",
       "      <th>April</th>\n",
       "      <th>August</th>\n",
       "      <th>December</th>\n",
       "      <th>February</th>\n",
       "      <th>January</th>\n",
       "      <th>July</th>\n",
       "      <th>June</th>\n",
       "      <th>March</th>\n",
       "      <th>May</th>\n",
       "      <th>November</th>\n",
       "      <th>October</th>\n",
       "      <th>September</th>\n",
       "    </tr>\n",
       "    <tr>\n",
       "      <th>trip_start_time_weekday</th>\n",
       "      <th></th>\n",
       "      <th></th>\n",
       "      <th></th>\n",
       "      <th></th>\n",
       "      <th></th>\n",
       "      <th></th>\n",
       "      <th></th>\n",
       "      <th></th>\n",
       "      <th></th>\n",
       "      <th></th>\n",
       "      <th></th>\n",
       "      <th></th>\n",
       "    </tr>\n",
       "  </thead>\n",
       "  <tbody>\n",
       "    <tr>\n",
       "      <th>Wednesday</th>\n",
       "      <td>12335</td>\n",
       "      <td>31925</td>\n",
       "      <td>5485</td>\n",
       "      <td>14505</td>\n",
       "      <td>7028</td>\n",
       "      <td>21032</td>\n",
       "      <td>30059</td>\n",
       "      <td>16721</td>\n",
       "      <td>22002</td>\n",
       "      <td>20594</td>\n",
       "      <td>13631</td>\n",
       "      <td>24914</td>\n",
       "    </tr>\n",
       "    <tr>\n",
       "      <th>Thursday</th>\n",
       "      <td>10275</td>\n",
       "      <td>20247</td>\n",
       "      <td>14021</td>\n",
       "      <td>14299</td>\n",
       "      <td>6693</td>\n",
       "      <td>17878</td>\n",
       "      <td>32345</td>\n",
       "      <td>15419</td>\n",
       "      <td>12058</td>\n",
       "      <td>20396</td>\n",
       "      <td>13586</td>\n",
       "      <td>29315</td>\n",
       "    </tr>\n",
       "    <tr>\n",
       "      <th>Tuesday</th>\n",
       "      <td>10136</td>\n",
       "      <td>29925</td>\n",
       "      <td>3499</td>\n",
       "      <td>12489</td>\n",
       "      <td>6254</td>\n",
       "      <td>14285</td>\n",
       "      <td>18623</td>\n",
       "      <td>13832</td>\n",
       "      <td>25142</td>\n",
       "      <td>22092</td>\n",
       "      <td>18683</td>\n",
       "      <td>16450</td>\n",
       "    </tr>\n",
       "    <tr>\n",
       "      <th>Friday</th>\n",
       "      <td>17645</td>\n",
       "      <td>15456</td>\n",
       "      <td>9142</td>\n",
       "      <td>6155</td>\n",
       "      <td>6931</td>\n",
       "      <td>26809</td>\n",
       "      <td>32979</td>\n",
       "      <td>8053</td>\n",
       "      <td>12729</td>\n",
       "      <td>9044</td>\n",
       "      <td>20964</td>\n",
       "      <td>30900</td>\n",
       "    </tr>\n",
       "    <tr>\n",
       "      <th>Monday</th>\n",
       "      <td>12066</td>\n",
       "      <td>28899</td>\n",
       "      <td>1795</td>\n",
       "      <td>5787</td>\n",
       "      <td>13886</td>\n",
       "      <td>19489</td>\n",
       "      <td>19638</td>\n",
       "      <td>7408</td>\n",
       "      <td>21902</td>\n",
       "      <td>12282</td>\n",
       "      <td>22919</td>\n",
       "      <td>15607</td>\n",
       "    </tr>\n",
       "    <tr>\n",
       "      <th>Saturday</th>\n",
       "      <td>15901</td>\n",
       "      <td>14528</td>\n",
       "      <td>10030</td>\n",
       "      <td>4229</td>\n",
       "      <td>8791</td>\n",
       "      <td>23474</td>\n",
       "      <td>20689</td>\n",
       "      <td>3322</td>\n",
       "      <td>12150</td>\n",
       "      <td>4330</td>\n",
       "      <td>18958</td>\n",
       "      <td>27633</td>\n",
       "    </tr>\n",
       "    <tr>\n",
       "      <th>Sunday</th>\n",
       "      <td>18314</td>\n",
       "      <td>21452</td>\n",
       "      <td>1641</td>\n",
       "      <td>3653</td>\n",
       "      <td>10344</td>\n",
       "      <td>23316</td>\n",
       "      <td>16195</td>\n",
       "      <td>3388</td>\n",
       "      <td>19911</td>\n",
       "      <td>4312</td>\n",
       "      <td>21371</td>\n",
       "      <td>14306</td>\n",
       "    </tr>\n",
       "  </tbody>\n",
       "</table>\n",
       "</div>"
      ],
      "text/plain": [
       "trip_start_time_month    April  August  December  ...  November  October  September\n",
       "trip_start_time_weekday                           ...                              \n",
       "Wednesday                12335   31925      5485  ...     20594    13631      24914\n",
       "Thursday                 10275   20247     14021  ...     20396    13586      29315\n",
       "Tuesday                  10136   29925      3499  ...     22092    18683      16450\n",
       "Friday                   17645   15456      9142  ...      9044    20964      30900\n",
       "Monday                   12066   28899      1795  ...     12282    22919      15607\n",
       "Saturday                 15901   14528     10030  ...      4330    18958      27633\n",
       "Sunday                   18314   21452      1641  ...      4312    21371      14306\n",
       "\n",
       "[7 rows x 12 columns]"
      ]
     },
     "execution_count": 101,
     "metadata": {
      "tags": []
     },
     "output_type": "execute_result"
    }
   ],
   "source": [
    "#DATA ANALYSIS\n",
    "#Most popular weekdays by Quarter\n",
    "data.groupby(['trip_start_time_weekday','trip_start_time_month'])['trip_duration_seconds'].count().unstack().sort_values(by = 'February', ascending = False)"
   ]
  },
  {
   "cell_type": "code",
   "execution_count": 102,
   "metadata": {
    "colab": {
     "base_uri": "https://localhost:8080/",
     "height": 286
    },
    "colab_type": "code",
    "id": "SGAGAofTXNeP",
    "outputId": "4fdb5b5c-1912-4e9a-b42c-83f8dd073b13"
   },
   "outputs": [
    {
     "data": {
      "text/html": [
       "<div>\n",
       "<style scoped>\n",
       "    .dataframe tbody tr th:only-of-type {\n",
       "        vertical-align: middle;\n",
       "    }\n",
       "\n",
       "    .dataframe tbody tr th {\n",
       "        vertical-align: top;\n",
       "    }\n",
       "\n",
       "    .dataframe thead th {\n",
       "        text-align: right;\n",
       "    }\n",
       "</style>\n",
       "<table border=\"1\" class=\"dataframe\">\n",
       "  <thead>\n",
       "    <tr style=\"text-align: right;\">\n",
       "      <th>Quarter</th>\n",
       "      <th>Q1</th>\n",
       "      <th>Q2</th>\n",
       "      <th>Q3</th>\n",
       "      <th>Q4</th>\n",
       "    </tr>\n",
       "    <tr>\n",
       "      <th>trip_start_time_weekday</th>\n",
       "      <th></th>\n",
       "      <th></th>\n",
       "      <th></th>\n",
       "      <th></th>\n",
       "    </tr>\n",
       "  </thead>\n",
       "  <tbody>\n",
       "    <tr>\n",
       "      <th>Wednesday</th>\n",
       "      <td>38254</td>\n",
       "      <td>64396</td>\n",
       "      <td>77871</td>\n",
       "      <td>39710</td>\n",
       "    </tr>\n",
       "    <tr>\n",
       "      <th>Thursday</th>\n",
       "      <td>36411</td>\n",
       "      <td>54678</td>\n",
       "      <td>67440</td>\n",
       "      <td>48003</td>\n",
       "    </tr>\n",
       "    <tr>\n",
       "      <th>Tuesday</th>\n",
       "      <td>32575</td>\n",
       "      <td>53901</td>\n",
       "      <td>60660</td>\n",
       "      <td>44274</td>\n",
       "    </tr>\n",
       "    <tr>\n",
       "      <th>Monday</th>\n",
       "      <td>27081</td>\n",
       "      <td>53606</td>\n",
       "      <td>63995</td>\n",
       "      <td>36996</td>\n",
       "    </tr>\n",
       "    <tr>\n",
       "      <th>Friday</th>\n",
       "      <td>21139</td>\n",
       "      <td>63353</td>\n",
       "      <td>73165</td>\n",
       "      <td>39150</td>\n",
       "    </tr>\n",
       "    <tr>\n",
       "      <th>Sunday</th>\n",
       "      <td>17385</td>\n",
       "      <td>54420</td>\n",
       "      <td>59074</td>\n",
       "      <td>27324</td>\n",
       "    </tr>\n",
       "    <tr>\n",
       "      <th>Saturday</th>\n",
       "      <td>16342</td>\n",
       "      <td>48740</td>\n",
       "      <td>65635</td>\n",
       "      <td>33318</td>\n",
       "    </tr>\n",
       "  </tbody>\n",
       "</table>\n",
       "</div>"
      ],
      "text/plain": [
       "Quarter                     Q1     Q2     Q3     Q4\n",
       "trip_start_time_weekday                            \n",
       "Wednesday                38254  64396  77871  39710\n",
       "Thursday                 36411  54678  67440  48003\n",
       "Tuesday                  32575  53901  60660  44274\n",
       "Monday                   27081  53606  63995  36996\n",
       "Friday                   21139  63353  73165  39150\n",
       "Sunday                   17385  54420  59074  27324\n",
       "Saturday                 16342  48740  65635  33318"
      ]
     },
     "execution_count": 102,
     "metadata": {
      "tags": []
     },
     "output_type": "execute_result"
    }
   ],
   "source": [
    "data.groupby(['trip_start_time_weekday','Quarter'])['trip_duration_seconds'].count().unstack().sort_values(by = 'Q1', ascending = False)"
   ]
  },
  {
   "cell_type": "code",
   "execution_count": 103,
   "metadata": {
    "colab": {
     "base_uri": "https://localhost:8080/",
     "height": 599
    },
    "colab_type": "code",
    "id": "-sWnfazcYxHc",
    "outputId": "5d9d96ff-986e-4894-e408-d4eb07e52f5b"
   },
   "outputs": [
    {
     "data": {
      "image/png": "[encoded data removed]",
      "text/plain": [
       "<Figure size 1080x576 with 1 Axes>"
      ]
     },
     "metadata": {
      "needs_background": "light",
      "tags": []
     },
     "output_type": "display_data"
    }
   ],
   "source": [
    "#Data Visualization\n",
    "data.pivot_table(values ='trip_duration_seconds', columns = ['Quarter'], index = 'trip_start_time_weekday', aggfunc = 'count').sort_values(by ='Q1', ascending = False).plot.bar()\n",
    "plt.title('Trip Count of Weekdays by Quarter')\n",
    "plt.ylabel('Trip Duration(s)')\n",
    "plt.xlabel('Weekdays')\n",
    "from pylab import *\n",
    "rcParams['figure.figsize'] = 15,8\n",
    "plt.rcParams.update({'font.size': 15})"
   ]
  },
  {
   "cell_type": "code",
   "execution_count": 104,
   "metadata": {
    "colab": {
     "base_uri": "https://localhost:8080/",
     "height": 286
    },
    "colab_type": "code",
    "id": "UKDSk4E-Zz3E",
    "outputId": "917687eb-ff84-429a-d7c8-28c6c6d39942"
   },
   "outputs": [
    {
     "data": {
      "text/html": [
       "<div>\n",
       "<style scoped>\n",
       "    .dataframe tbody tr th:only-of-type {\n",
       "        vertical-align: middle;\n",
       "    }\n",
       "\n",
       "    .dataframe tbody tr th {\n",
       "        vertical-align: top;\n",
       "    }\n",
       "\n",
       "    .dataframe thead th {\n",
       "        text-align: right;\n",
       "    }\n",
       "</style>\n",
       "<table border=\"1\" class=\"dataframe\">\n",
       "  <thead>\n",
       "    <tr style=\"text-align: right;\">\n",
       "      <th></th>\n",
       "      <th>booked_duration</th>\n",
       "    </tr>\n",
       "    <tr>\n",
       "      <th>trip_start_time_weekday</th>\n",
       "      <th></th>\n",
       "    </tr>\n",
       "  </thead>\n",
       "  <tbody>\n",
       "    <tr>\n",
       "      <th>Saturday</th>\n",
       "      <td>6286.36</td>\n",
       "    </tr>\n",
       "    <tr>\n",
       "      <th>Sunday</th>\n",
       "      <td>4468.26</td>\n",
       "    </tr>\n",
       "    <tr>\n",
       "      <th>Thursday</th>\n",
       "      <td>3732.22</td>\n",
       "    </tr>\n",
       "    <tr>\n",
       "      <th>Monday</th>\n",
       "      <td>3574.47</td>\n",
       "    </tr>\n",
       "    <tr>\n",
       "      <th>Tuesday</th>\n",
       "      <td>3196.21</td>\n",
       "    </tr>\n",
       "    <tr>\n",
       "      <th>Friday</th>\n",
       "      <td>2999.49</td>\n",
       "    </tr>\n",
       "    <tr>\n",
       "      <th>Wednesday</th>\n",
       "      <td>2976.41</td>\n",
       "    </tr>\n",
       "  </tbody>\n",
       "</table>\n",
       "</div>"
      ],
      "text/plain": [
       "                         booked_duration\n",
       "trip_start_time_weekday                 \n",
       "Saturday                         6286.36\n",
       "Sunday                           4468.26\n",
       "Thursday                         3732.22\n",
       "Monday                           3574.47\n",
       "Tuesday                          3196.21\n",
       "Friday                           2999.49\n",
       "Wednesday                        2976.41"
      ]
     },
     "execution_count": 104,
     "metadata": {
      "tags": []
     },
     "output_type": "execute_result"
    }
   ],
   "source": [
    "#Average ride time per day of the week, month --(startday_of_month,trip_start_time_weekday )\n",
    "#Per Day of the Week\n",
    "data.groupby(['trip_start_time_weekday'])[['booked_duration']].mean().sort_values(by = 'booked_duration', ascending = False).round(2)  #.head(4)"
   ]
  },
  {
   "cell_type": "code",
   "execution_count": 105,
   "metadata": {
    "colab": {
     "base_uri": "https://localhost:8080/",
     "height": 197
    },
    "colab_type": "code",
    "id": "6XLxuKegcRgG",
    "outputId": "f45319b8-2f9c-46ce-8388-0366bac113ac"
   },
   "outputs": [
    {
     "data": {
      "text/html": [
       "<div>\n",
       "<style scoped>\n",
       "    .dataframe tbody tr th:only-of-type {\n",
       "        vertical-align: middle;\n",
       "    }\n",
       "\n",
       "    .dataframe tbody tr th {\n",
       "        vertical-align: top;\n",
       "    }\n",
       "\n",
       "    .dataframe thead th {\n",
       "        text-align: right;\n",
       "    }\n",
       "</style>\n",
       "<table border=\"1\" class=\"dataframe\">\n",
       "  <thead>\n",
       "    <tr style=\"text-align: right;\">\n",
       "      <th></th>\n",
       "      <th>booked_duration</th>\n",
       "    </tr>\n",
       "    <tr>\n",
       "      <th>startday_of_month</th>\n",
       "      <th></th>\n",
       "    </tr>\n",
       "  </thead>\n",
       "  <tbody>\n",
       "    <tr>\n",
       "      <th>7</th>\n",
       "      <td>16924.69</td>\n",
       "    </tr>\n",
       "    <tr>\n",
       "      <th>8</th>\n",
       "      <td>13866.09</td>\n",
       "    </tr>\n",
       "    <tr>\n",
       "      <th>9</th>\n",
       "      <td>11449.20</td>\n",
       "    </tr>\n",
       "    <tr>\n",
       "      <th>16</th>\n",
       "      <td>1195.56</td>\n",
       "    </tr>\n",
       "  </tbody>\n",
       "</table>\n",
       "</div>"
      ],
      "text/plain": [
       "                   booked_duration\n",
       "startday_of_month                 \n",
       "7                         16924.69\n",
       "8                         13866.09\n",
       "9                         11449.20\n",
       "16                         1195.56"
      ]
     },
     "execution_count": 105,
     "metadata": {
      "tags": []
     },
     "output_type": "execute_result"
    }
   ],
   "source": [
    "#Average ride time per day of the week, month --(startday_of_month,trip_start_time_weekday )\n",
    "#Per Day of the Month\n",
    "data.groupby(['startday_of_month'])[['booked_duration']].mean().sort_values(by = 'booked_duration', ascending = False).round(2).head(4)"
   ]
  },
  {
   "cell_type": "code",
   "execution_count": 106,
   "metadata": {
    "colab": {
     "base_uri": "https://localhost:8080/",
     "height": 616
    },
    "colab_type": "code",
    "id": "-rG_SIn8dAk3",
    "outputId": "3addc9cd-d9ca-40e5-8bbe-3f25d25cedc8"
   },
   "outputs": [
    {
     "data": {
      "text/plain": [
       "Text(0.5, 0, 'Weekdays')"
      ]
     },
     "execution_count": 106,
     "metadata": {
      "tags": []
     },
     "output_type": "execute_result"
    },
    {
     "data": {
      "image/png": "[encoded data removed]",
      "text/plain": [
       "<Figure size 1080x576 with 1 Axes>"
      ]
     },
     "metadata": {
      "needs_background": "light",
      "tags": []
     },
     "output_type": "display_data"
    }
   ],
   "source": [
    "#Data Visualization\n",
    "data.groupby(['trip_start_time_weekday'])[['booked_duration']].mean().sort_values(by = 'booked_duration', ascending = False).round(2).plot.bar()\n",
    "plt.title('Average Ride Time Per Weekday')\n",
    "plt.ylabel('Average Ride Time')\n",
    "plt.xlabel('Weekdays')"
   ]
  },
  {
   "cell_type": "code",
   "execution_count": 0,
   "metadata": {
    "colab": {},
    "colab_type": "code",
    "id": "xyW2QO3ydjp_"
   },
   "outputs": [],
   "source": [
    "#Average daily trips per month\n",
    "data.groupby('trip_start_time_month').count()    #['trip_duration_seconds'].sum().mean()"
   ]
  },
  {
   "cell_type": "code",
   "execution_count": 107,
   "metadata": {
    "colab": {
     "base_uri": "https://localhost:8080/",
     "height": 221
    },
    "colab_type": "code",
    "id": "TpSUyIeVdpQg",
    "outputId": "0e61ca9f-b5fc-4c24-bd04-c0db1c148fa2"
   },
   "outputs": [
    {
     "name": "stdout",
     "output_type": "stream",
     "text": [
      "Average daily trips for January is 1933.1290322580646\n",
      "Average daily trips for February is 2182.75\n",
      "Average daily trips for March is 2198.1612903225805\n",
      "Average daily trips for April is 3222.4\n",
      "Average daily trips for May is 4061.0967741935483\n",
      "Average daily trips for June is 5684.266666666666\n",
      "Average daily trips for July is 4718.806451612903\n",
      "Average daily trips for August is 5239.741935483871\n",
      "Average daily trips for September is 5133.064516129032\n",
      "Average daily trips for October is 4197.1612903225805\n",
      "Average daily trips for November is 3101.6666666666665\n",
      "Average daily trips for December is 1471.3870967741937\n"
     ]
    }
   ],
   "source": [
    "#Get count of trips for each month, then divide by number of days per month for the average daily trips per month\n",
    "Months = ['January','February','March','April','May','June','July','August','September','October','November','December']\n",
    "trips_per_months = []\n",
    "for month in Months:\n",
    "  if month == Months[1]:\n",
    "    trips_per_months.append(data[data['trip_start_time_month'] == month].shape[0] /28)\n",
    "  elif month in ['April','June','November']:\n",
    "    trips_per_months.append(data[data['trip_start_time_month'] == month].shape[0] /30)\n",
    "  else:\n",
    "    trips_per_months.append(data[data['trip_start_time_month'] == month].shape[0] /31)\n",
    "for month, average in zip(Months, trips_per_months):\n",
    "  print(f'Average daily trips for {month} is {average}')"
   ]
  },
  {
   "cell_type": "code",
   "execution_count": 109,
   "metadata": {
    "colab": {
     "base_uri": "https://localhost:8080/",
     "height": 221
    },
    "colab_type": "code",
    "id": "vixb6xgTe6qF",
    "outputId": "7a17a050-4893-4a2a-9067-05619c40e132"
   },
   "outputs": [
    {
     "data": {
      "text/plain": [
       "Union Station                                 23139\n",
       "Simcoe St / Wellington St W                   19255\n",
       "York St / Queens Quay W                       18184\n",
       "King St W / Spadina Ave                       17032\n",
       "Queen St W / Portland St                      15583\n",
       "                                              ...  \n",
       "Dufferin Gate - SMART                           203\n",
       "Victoria Park Subway Station - SMART            143\n",
       "Summerhill Ave / MacLennan Ave - SMART          131\n",
       "Dundas St W / Roncesvalles Green P - SMART      108\n",
       "Fringe Next Stage - 7219                         29\n",
       "Name: from_station_name, Length: 292, dtype: int64"
      ]
     },
     "execution_count": 109,
     "metadata": {
      "tags": []
     },
     "output_type": "execute_result"
    }
   ],
   "source": [
    "#Popular start stations \n",
    "data['from_station_name'].value_counts()"
   ]
  },
  {
   "cell_type": "code",
   "execution_count": 110,
   "metadata": {
    "colab": {
     "base_uri": "https://localhost:8080/",
     "height": 221
    },
    "colab_type": "code",
    "id": "I6hxwiaxfrZe",
    "outputId": "ece84abe-0c0e-484c-c0b1-24419ef2966f"
   },
   "outputs": [
    {
     "data": {
      "text/plain": [
       "Union Station                              9989\n",
       "Simcoe St / Wellington St W                8068\n",
       "Dundas St / Yonge St                       7443\n",
       "King St W / Spadina Ave                    7395\n",
       "Princess St / Adelaide St                  6685\n",
       "                                           ... \n",
       "Danforth Ave / Barrington Ave               189\n",
       "Lansdowne Ave / Whytock Ave                 176\n",
       "Stephenson Ave / Main St                    164\n",
       "Danforth Ave / Westlake Ave                 126\n",
       "Woodbine Subway Green P (Cedarvale Ave)     122\n",
       "Name: to_station_name, Length: 200, dtype: int64"
      ]
     },
     "execution_count": 110,
     "metadata": {
      "tags": []
     },
     "output_type": "execute_result"
    }
   ],
   "source": [
    "#Popular start stations \n",
    "data['to_station_name'].value_counts()"
   ]
  },
  {
   "cell_type": "code",
   "execution_count": 111,
   "metadata": {
    "colab": {
     "base_uri": "https://localhost:8080/",
     "height": 34
    },
    "colab_type": "code",
    "id": "d2kaa345gO4g",
    "outputId": "3b507481-c672-496e-ab59-6a9c9c35ebbf"
   },
   "outputs": [
    {
     "data": {
      "text/plain": [
       "554424"
      ]
     },
     "execution_count": 111,
     "metadata": {
      "tags": []
     },
     "output_type": "execute_result"
    }
   ],
   "source": [
    "#Total Overage trips\n",
    "data[data['overage'] > 0].shape[0]"
   ]
  },
  {
   "cell_type": "code",
   "execution_count": 112,
   "metadata": {
    "colab": {
     "base_uri": "https://localhost:8080/",
     "height": 34
    },
    "colab_type": "code",
    "id": "lW0JnxgRghA0",
    "outputId": "7661cef2-a5f6-4484-9706-ad7bbab05267"
   },
   "outputs": [
    {
     "data": {
      "text/plain": [
       "2240032"
      ]
     },
     "execution_count": 112,
     "metadata": {
      "tags": []
     },
     "output_type": "execute_result"
    }
   ],
   "source": [
    "#Money made from overage\n",
    "data['overage_charges'].sum()"
   ]
  },
  {
   "cell_type": "code",
   "execution_count": 113,
   "metadata": {
    "colab": {
     "base_uri": "https://localhost:8080/",
     "height": 85
    },
    "colab_type": "code",
    "id": "Xn5PQW73gnHs",
    "outputId": "98bdae72-4c10-4e5b-bc2c-393ec48c3cc9"
   },
   "outputs": [
    {
     "data": {
      "text/plain": [
       "user_type\n",
       "Casual    153348\n",
       "Member    762408\n",
       "Name: overage_charges, dtype: int64"
      ]
     },
     "execution_count": 113,
     "metadata": {
      "tags": []
     },
     "output_type": "execute_result"
    }
   ],
   "source": [
    "#show by type and member/non member (Note that User_type column has a lot of NaN values as such money made for such records cannot be directly calculated)\n",
    "data.groupby('user_type')['overage_charges'].sum()"
   ]
  },
  {
   "cell_type": "code",
   "execution_count": 114,
   "metadata": {
    "colab": {
     "base_uri": "https://localhost:8080/",
     "height": 102
    },
    "colab_type": "code",
    "id": "XSKv_wQfhKnM",
    "outputId": "ea07f60d-35eb-41da-9448-a3db2eafdc44"
   },
   "outputs": [
    {
     "data": {
      "text/plain": [
       "overage_charges\n",
       "0           0\n",
       "4     2212112\n",
       "20      27920\n",
       "Name: overage_charges, dtype: int64"
      ]
     },
     "execution_count": 114,
     "metadata": {
      "tags": []
     },
     "output_type": "execute_result"
    }
   ],
   "source": [
    "#By Type\n",
    "data.groupby(['overage_charges'])['overage_charges'].sum()"
   ]
  },
  {
   "cell_type": "markdown",
   "metadata": {
    "colab_type": "text",
    "id": "kEBHiXXLlfLN"
   },
   "source": [
    "#Types of overage: \n",
    "Type 1  0-30 minutes  --> 2212112\n",
    "\n",
    "Type 2  31-60 minutes --> 0.00\n",
    "\n",
    "Type 3  61-90 minutes --> 0.00\n",
    "\n",
    "Type 4  91-120 minutes -> 0.00\n",
    "\n",
    "Type 5 120+ minutes ----> 27920"
   ]
  }
 ],
 "metadata": {
  "colab": {
   "name": "Toronto_Bike_Share_Data_Analysis_Code",
   "provenance": []
  },
  "kernelspec": {
   "display_name": "Python 3",
   "language": "python",
   "name": "python3"
  },
  "language_info": {
   "codemirror_mode": {
    "name": "ipython",
    "version": 3
   },
   "file_extension": ".py",
   "mimetype": "text/x-python",
   "name": "python",
   "nbconvert_exporter": "python",
   "pygments_lexer": "ipython3",
   "version": "3.7.4"
  }
 },
 "nbformat": 4,
 "nbformat_minor": 1
}
