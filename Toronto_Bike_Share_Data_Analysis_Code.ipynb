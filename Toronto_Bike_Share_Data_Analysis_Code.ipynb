{
 "cells": [
  {
   "cell_type": "markdown",
   "metadata": {
    "colab_type": "text",
    "id": "XP369vDxPN0a"
   },
   "source": [
    "# Toronto Bike Share - 2017 Operations Analysis"
   ]
  },
  {
   "cell_type": "code",
   "execution_count": 3,
   "metadata": {
    "colab": {
     "base_uri": "https://localhost:8080/",
     "height": 51
    },
    "colab_type": "code",
    "id": "53jowkLOJ0Zh",
    "outputId": "fc46b831-cd61-49bc-e1c3-0cb9a3b37694"
   },
   "outputs": [],
   "source": [
    "#Import Necessary Libraries\n",
    "import numpy as np\n",
    "import pandas as pd\n",
    "import matplotlib.pyplot as plt\n",
    "import seaborn as sns"
   ]
  },
  {
   "cell_type": "code",
   "execution_count": 4,
   "metadata": {},
   "outputs": [],
   "source": [
    "plt.rcParams['figure.facecolor'] = 'w'"
   ]
  },
  {
   "cell_type": "code",
   "execution_count": 7,
   "metadata": {
    "colab": {
     "base_uri": "https://localhost:8080/",
     "height": 51
    },
    "colab_type": "code",
    "id": "lIKc2kLxJ3DU",
    "outputId": "ecbfbd3d-4d00-4946-9bee-7fa4c83b32ea"
   },
   "outputs": [],
   "source": [
    "#Import dataset\n",
    "df = pd.read_csv('2017_Toronto_Bikeshare.csv')"
   ]
  },
  {
   "cell_type": "markdown",
   "metadata": {
    "colab_type": "text",
    "id": "m_3QueGjKFD2"
   },
   "source": [
    "### DATA DISCOVERY\n",
    "- Getting to know and interact with the data"
   ]
  },
  {
   "cell_type": "code",
   "execution_count": 34,
   "metadata": {
    "colab": {
     "base_uri": "https://localhost:8080/",
     "height": 137
    },
    "colab_type": "code",
    "id": "a7VfL9h2KAjp",
    "outputId": "7340273e-298b-4fc4-998a-d1f90f7fd008"
   },
   "outputs": [
    {
     "data": {
      "text/html": [
       "<div>\n",
       "<style scoped>\n",
       "    .dataframe tbody tr th:only-of-type {\n",
       "        vertical-align: middle;\n",
       "    }\n",
       "\n",
       "    .dataframe tbody tr th {\n",
       "        vertical-align: top;\n",
       "    }\n",
       "\n",
       "    .dataframe thead th {\n",
       "        text-align: right;\n",
       "    }\n",
       "</style>\n",
       "<table border=\"1\" class=\"dataframe\">\n",
       "  <thead>\n",
       "    <tr style=\"text-align: right;\">\n",
       "      <th></th>\n",
       "      <th>trip_id</th>\n",
       "      <th>trip_start_time</th>\n",
       "      <th>trip_stop_time</th>\n",
       "      <th>trip_duration_seconds</th>\n",
       "      <th>from_station_id</th>\n",
       "      <th>from_station_name</th>\n",
       "      <th>to_station_id</th>\n",
       "      <th>to_station_name</th>\n",
       "      <th>user_type</th>\n",
       "    </tr>\n",
       "  </thead>\n",
       "  <tbody>\n",
       "    <tr>\n",
       "      <th>784682</th>\n",
       "      <td>1600719</td>\n",
       "      <td>8/16/2017 13:45</td>\n",
       "      <td>8/16/2017 13:52</td>\n",
       "      <td>426.0</td>\n",
       "      <td>College Park South</td>\n",
       "      <td>Simcoe St / Queen St W</td>\n",
       "      <td>Member</td>\n",
       "      <td>NaN</td>\n",
       "      <td>NaN</td>\n",
       "    </tr>\n",
       "    <tr>\n",
       "      <th>350502</th>\n",
       "      <td>1121773</td>\n",
       "      <td>8/6/2017 20:08</td>\n",
       "      <td>8/6/2017 20:20</td>\n",
       "      <td>731.0</td>\n",
       "      <td>7030</td>\n",
       "      <td>Bay St / Wellesley St W</td>\n",
       "      <td>7056</td>\n",
       "      <td>Parliament St / Gerrard St</td>\n",
       "      <td>Member</td>\n",
       "    </tr>\n",
       "    <tr>\n",
       "      <th>1468642</th>\n",
       "      <td>2353019</td>\n",
       "      <td>2012-12-17 9:36</td>\n",
       "      <td>2012-12-17 9:44</td>\n",
       "      <td>467.0</td>\n",
       "      <td>Bloor St W / Manning Ave - SMART</td>\n",
       "      <td>St. George St / Bloor St W</td>\n",
       "      <td>Member</td>\n",
       "      <td>NaN</td>\n",
       "      <td>NaN</td>\n",
       "    </tr>\n",
       "    <tr>\n",
       "      <th>107007</th>\n",
       "      <td>839665</td>\n",
       "      <td>17/03/2017 22:48</td>\n",
       "      <td>17/03/2017 23:09</td>\n",
       "      <td>1265.0</td>\n",
       "      <td>7107</td>\n",
       "      <td>Cherry St / Distillery Ln</td>\n",
       "      <td>7044</td>\n",
       "      <td>Church St / Alexander St</td>\n",
       "      <td>Member</td>\n",
       "    </tr>\n",
       "    <tr>\n",
       "      <th>499844</th>\n",
       "      <td>1291109</td>\n",
       "      <td>7/6/2017 7:48</td>\n",
       "      <td>7/6/2017 8:14</td>\n",
       "      <td>1568.0</td>\n",
       "      <td>East Liberty St / Pirandello St</td>\n",
       "      <td>Bay St / College St (East Side)</td>\n",
       "      <td>Member</td>\n",
       "      <td>NaN</td>\n",
       "      <td>NaN</td>\n",
       "    </tr>\n",
       "  </tbody>\n",
       "</table>\n",
       "</div>"
      ],
      "text/plain": [
       "         trip_id   trip_start_time    trip_stop_time  trip_duration_seconds  \\\n",
       "784682   1600719   8/16/2017 13:45   8/16/2017 13:52                  426.0   \n",
       "350502   1121773    8/6/2017 20:08    8/6/2017 20:20                  731.0   \n",
       "1468642  2353019   2012-12-17 9:36   2012-12-17 9:44                  467.0   \n",
       "107007    839665  17/03/2017 22:48  17/03/2017 23:09                 1265.0   \n",
       "499844   1291109     7/6/2017 7:48     7/6/2017 8:14                 1568.0   \n",
       "\n",
       "                          from_station_id                from_station_name  \\\n",
       "784682                 College Park South           Simcoe St / Queen St W   \n",
       "350502                               7030          Bay St / Wellesley St W   \n",
       "1468642  Bloor St W / Manning Ave - SMART       St. George St / Bloor St W   \n",
       "107007                               7107        Cherry St / Distillery Ln   \n",
       "499844    East Liberty St / Pirandello St  Bay St / College St (East Side)   \n",
       "\n",
       "        to_station_id             to_station_name user_type  \n",
       "784682         Member                         NaN       NaN  \n",
       "350502           7056  Parliament St / Gerrard St    Member  \n",
       "1468642        Member                         NaN       NaN  \n",
       "107007           7044    Church St / Alexander St    Member  \n",
       "499844         Member                         NaN       NaN  "
      ]
     },
     "execution_count": 34,
     "metadata": {},
     "output_type": "execute_result"
    }
   ],
   "source": [
    "#Sample data\n",
    "df.head();"
   ]
  },
  {
   "cell_type": "code",
   "execution_count": 45,
   "metadata": {},
   "outputs": [
    {
     "data": {
      "text/html": [
       "<div>\n",
       "<style scoped>\n",
       "    .dataframe tbody tr th:only-of-type {\n",
       "        vertical-align: middle;\n",
       "    }\n",
       "\n",
       "    .dataframe tbody tr th {\n",
       "        vertical-align: top;\n",
       "    }\n",
       "\n",
       "    .dataframe thead th {\n",
       "        text-align: right;\n",
       "    }\n",
       "</style>\n",
       "<table border=\"1\" class=\"dataframe\">\n",
       "  <thead>\n",
       "    <tr style=\"text-align: right;\">\n",
       "      <th></th>\n",
       "      <th>trip_id</th>\n",
       "      <th>trip_start_time</th>\n",
       "      <th>trip_stop_time</th>\n",
       "      <th>trip_duration_seconds</th>\n",
       "      <th>from_station_id</th>\n",
       "      <th>from_station_name</th>\n",
       "      <th>to_station_id</th>\n",
       "      <th>to_station_name</th>\n",
       "      <th>user_type</th>\n",
       "    </tr>\n",
       "  </thead>\n",
       "  <tbody>\n",
       "    <tr>\n",
       "      <th>75541</th>\n",
       "      <td>801772</td>\n",
       "      <td>24/02/2017 21:48</td>\n",
       "      <td>24/02/2017 23:14</td>\n",
       "      <td>5164.0</td>\n",
       "      <td>7169</td>\n",
       "      <td>Front St / Bay St (North Side)</td>\n",
       "      <td>7101</td>\n",
       "      <td>Lower Sherbourne St / The Esplanade</td>\n",
       "      <td>Casual</td>\n",
       "    </tr>\n",
       "    <tr>\n",
       "      <th>808893</th>\n",
       "      <td>1627197</td>\n",
       "      <td>8/19/2017 20:34</td>\n",
       "      <td>8/19/2017 20:46</td>\n",
       "      <td>728.0</td>\n",
       "      <td>Queen St W / Portland St</td>\n",
       "      <td>Queen St W / Cowan Ave</td>\n",
       "      <td>Member</td>\n",
       "      <td>NaN</td>\n",
       "      <td>NaN</td>\n",
       "    </tr>\n",
       "    <tr>\n",
       "      <th>550219</th>\n",
       "      <td>1346230</td>\n",
       "      <td>7/13/2017 17:36</td>\n",
       "      <td>7/13/2017 17:51</td>\n",
       "      <td>873.0</td>\n",
       "      <td>Metro Hall Plaza</td>\n",
       "      <td>Church St  / Wood St</td>\n",
       "      <td>Member</td>\n",
       "      <td>NaN</td>\n",
       "      <td>NaN</td>\n",
       "    </tr>\n",
       "    <tr>\n",
       "      <th>1251797</th>\n",
       "      <td>2106489</td>\n",
       "      <td>10/20/17 17:05:51</td>\n",
       "      <td>10/20/17 17:26:54</td>\n",
       "      <td>1263.0</td>\n",
       "      <td>Church St / Bloor St E</td>\n",
       "      <td>Dufferin St / Sylvan Av (Dufferin Grove Park)</td>\n",
       "      <td>Member</td>\n",
       "      <td>NaN</td>\n",
       "      <td>NaN</td>\n",
       "    </tr>\n",
       "    <tr>\n",
       "      <th>594252</th>\n",
       "      <td>1393748</td>\n",
       "      <td>7/19/2017 19:59</td>\n",
       "      <td>7/19/2017 20:00</td>\n",
       "      <td>28.0</td>\n",
       "      <td>Lower Jarvis St / The Esplanade</td>\n",
       "      <td>Lower Jarvis St / The Esplanade</td>\n",
       "      <td>Casual</td>\n",
       "      <td>NaN</td>\n",
       "      <td>NaN</td>\n",
       "    </tr>\n",
       "  </tbody>\n",
       "</table>\n",
       "</div>"
      ],
      "text/plain": [
       "         trip_id    trip_start_time     trip_stop_time  trip_duration_seconds  \\\n",
       "75541     801772   24/02/2017 21:48   24/02/2017 23:14                 5164.0   \n",
       "808893   1627197    8/19/2017 20:34    8/19/2017 20:46                  728.0   \n",
       "550219   1346230    7/13/2017 17:36    7/13/2017 17:51                  873.0   \n",
       "1251797  2106489  10/20/17 17:05:51  10/20/17 17:26:54                 1263.0   \n",
       "594252   1393748    7/19/2017 19:59    7/19/2017 20:00                   28.0   \n",
       "\n",
       "                         from_station_id  \\\n",
       "75541                               7169   \n",
       "808893          Queen St W / Portland St   \n",
       "550219                  Metro Hall Plaza   \n",
       "1251797           Church St / Bloor St E   \n",
       "594252   Lower Jarvis St / The Esplanade   \n",
       "\n",
       "                                     from_station_name to_station_id  \\\n",
       "75541                   Front St / Bay St (North Side)          7101   \n",
       "808893                          Queen St W / Cowan Ave        Member   \n",
       "550219                            Church St  / Wood St        Member   \n",
       "1251797  Dufferin St / Sylvan Av (Dufferin Grove Park)        Member   \n",
       "594252                 Lower Jarvis St / The Esplanade        Casual   \n",
       "\n",
       "                             to_station_name user_type  \n",
       "75541    Lower Sherbourne St / The Esplanade    Casual  \n",
       "808893                                   NaN       NaN  \n",
       "550219                                   NaN       NaN  \n",
       "1251797                                  NaN       NaN  \n",
       "594252                                   NaN       NaN  "
      ]
     },
     "execution_count": 45,
     "metadata": {},
     "output_type": "execute_result"
    }
   ],
   "source": [
    "# Sample 5 rows of dataframe\n",
    "df.sample(5)"
   ]
  },
  {
   "cell_type": "code",
   "execution_count": 46,
   "metadata": {},
   "outputs": [
    {
     "name": "stdout",
     "output_type": "stream",
     "text": [
      "<class 'pandas.core.frame.DataFrame'>\n",
      "RangeIndex: 1492370 entries, 0 to 1492369\n",
      "Data columns (total 9 columns):\n",
      " #   Column                 Non-Null Count    Dtype  \n",
      "---  ------                 --------------    -----  \n",
      " 0   trip_id                1492370 non-null  object \n",
      " 1   trip_start_time        1492369 non-null  object \n",
      " 2   trip_stop_time         1492369 non-null  object \n",
      " 3   trip_duration_seconds  1492369 non-null  float64\n",
      " 4   from_station_id        1492369 non-null  object \n",
      " 5   from_station_name      1492368 non-null  object \n",
      " 6   to_station_id          1492369 non-null  object \n",
      " 7   to_station_name        465476 non-null   object \n",
      " 8   user_type              465476 non-null   object \n",
      "dtypes: float64(1), object(8)\n",
      "memory usage: 102.5+ MB\n"
     ]
    }
   ],
   "source": [
    "# Get more info about dataframe\n",
    "\n",
    "df.info()"
   ]
  },
  {
   "cell_type": "code",
   "execution_count": 9,
   "metadata": {
    "colab": {
     "base_uri": "https://localhost:8080/",
     "height": 34
    },
    "colab_type": "code",
    "id": "jcmevTDMKT02",
    "outputId": "f80d656a-8269-4839-bb9c-03f56675a99b"
   },
   "outputs": [
    {
     "data": {
      "text/plain": [
       "(1492370, 9)"
      ]
     },
     "execution_count": 9,
     "metadata": {},
     "output_type": "execute_result"
    }
   ],
   "source": [
    "# CHECK NUMBER OF ROWS AND COLUMNS\n",
    "df.shape"
   ]
  },
  {
   "cell_type": "code",
   "execution_count": 28,
   "metadata": {},
   "outputs": [
    {
     "data": {
      "text/plain": [
       "Index(['trip_id', 'trip_start_time', 'trip_stop_time', 'trip_duration_seconds',\n",
       "       'from_station_id', 'from_station_name', 'to_station_id',\n",
       "       'to_station_name', 'user_type'],\n",
       "      dtype='object')"
      ]
     },
     "execution_count": 28,
     "metadata": {},
     "output_type": "execute_result"
    }
   ],
   "source": [
    "# check the columns that make up the dataset\n",
    "df.columns"
   ]
  },
  {
   "cell_type": "code",
   "execution_count": 29,
   "metadata": {},
   "outputs": [
    {
     "data": {
      "text/plain": [
       "trip_id                   object\n",
       "trip_start_time           object\n",
       "trip_stop_time            object\n",
       "trip_duration_seconds    float64\n",
       "from_station_id           object\n",
       "from_station_name         object\n",
       "to_station_id             object\n",
       "to_station_name           object\n",
       "user_type                 object\n",
       "dtype: object"
      ]
     },
     "execution_count": 29,
     "metadata": {},
     "output_type": "execute_result"
    }
   ],
   "source": [
    "# check datatype of individual columns\n",
    "df.dtypes  # All the columns except \"trip_duration_seconds\" are of object/string data type"
   ]
  },
  {
   "cell_type": "code",
   "execution_count": 25,
   "metadata": {},
   "outputs": [
    {
     "data": {
      "text/html": [
       "<div>\n",
       "<style scoped>\n",
       "    .dataframe tbody tr th:only-of-type {\n",
       "        vertical-align: middle;\n",
       "    }\n",
       "\n",
       "    .dataframe tbody tr th {\n",
       "        vertical-align: top;\n",
       "    }\n",
       "\n",
       "    .dataframe thead th {\n",
       "        text-align: right;\n",
       "    }\n",
       "</style>\n",
       "<table border=\"1\" class=\"dataframe\">\n",
       "  <thead>\n",
       "    <tr style=\"text-align: right;\">\n",
       "      <th></th>\n",
       "      <th>trip_duration_seconds</th>\n",
       "    </tr>\n",
       "  </thead>\n",
       "  <tbody>\n",
       "    <tr>\n",
       "      <th>count</th>\n",
       "      <td>1.492369e+06</td>\n",
       "    </tr>\n",
       "    <tr>\n",
       "      <th>mean</th>\n",
       "      <td>1.017616e+03</td>\n",
       "    </tr>\n",
       "    <tr>\n",
       "      <th>std</th>\n",
       "      <td>9.772787e+03</td>\n",
       "    </tr>\n",
       "    <tr>\n",
       "      <th>min</th>\n",
       "      <td>0.000000e+00</td>\n",
       "    </tr>\n",
       "    <tr>\n",
       "      <th>25%</th>\n",
       "      <td>4.150000e+02</td>\n",
       "    </tr>\n",
       "    <tr>\n",
       "      <th>50%</th>\n",
       "      <td>6.540000e+02</td>\n",
       "    </tr>\n",
       "    <tr>\n",
       "      <th>75%</th>\n",
       "      <td>1.020000e+03</td>\n",
       "    </tr>\n",
       "    <tr>\n",
       "      <th>max</th>\n",
       "      <td>6.382030e+06</td>\n",
       "    </tr>\n",
       "  </tbody>\n",
       "</table>\n",
       "</div>"
      ],
      "text/plain": [
       "       trip_duration_seconds\n",
       "count           1.492369e+06\n",
       "mean            1.017616e+03\n",
       "std             9.772787e+03\n",
       "min             0.000000e+00\n",
       "25%             4.150000e+02\n",
       "50%             6.540000e+02\n",
       "75%             1.020000e+03\n",
       "max             6.382030e+06"
      ]
     },
     "execution_count": 25,
     "metadata": {},
     "output_type": "execute_result"
    }
   ],
   "source": [
    "df.describe() # Describe basic statistics about the dataset. Only numeric feature(s) is(are) evaluated"
   ]
  },
  {
   "cell_type": "code",
   "execution_count": 23,
   "metadata": {
    "colab": {
     "base_uri": "https://localhost:8080/",
     "height": 34
    },
    "colab_type": "code",
    "id": "QaEhiAZ2KXU9",
    "outputId": "8a04bc49-f15a-4c01-9e9d-653e55bda723"
   },
   "outputs": [
    {
     "name": "stdout",
     "output_type": "stream",
     "text": [
      "0\n"
     ]
    },
    {
     "data": {
      "text/html": [
       "<div>\n",
       "<style scoped>\n",
       "    .dataframe tbody tr th:only-of-type {\n",
       "        vertical-align: middle;\n",
       "    }\n",
       "\n",
       "    .dataframe tbody tr th {\n",
       "        vertical-align: top;\n",
       "    }\n",
       "\n",
       "    .dataframe thead th {\n",
       "        text-align: right;\n",
       "    }\n",
       "</style>\n",
       "<table border=\"1\" class=\"dataframe\">\n",
       "  <thead>\n",
       "    <tr style=\"text-align: right;\">\n",
       "      <th></th>\n",
       "      <th>trip_id</th>\n",
       "      <th>trip_start_time</th>\n",
       "      <th>trip_stop_time</th>\n",
       "      <th>trip_duration_seconds</th>\n",
       "      <th>from_station_id</th>\n",
       "      <th>from_station_name</th>\n",
       "      <th>to_station_id</th>\n",
       "      <th>to_station_name</th>\n",
       "      <th>user_type</th>\n",
       "    </tr>\n",
       "  </thead>\n",
       "  <tbody>\n",
       "  </tbody>\n",
       "</table>\n",
       "</div>"
      ],
      "text/plain": [
       "Empty DataFrame\n",
       "Columns: [trip_id, trip_start_time, trip_stop_time, trip_duration_seconds, from_station_id, from_station_name, to_station_id, to_station_name, user_type]\n",
       "Index: []"
      ]
     },
     "execution_count": 23,
     "metadata": {},
     "output_type": "execute_result"
    }
   ],
   "source": [
    "# Check for duplicates\n",
    "print(df.duplicated().sum()); #...No duplicates (Means the primary key column - \"trip_id\", has no duplicates)\n",
    "df[df.duplicated(['trip_id'])]"
   ]
  },
  {
   "cell_type": "code",
   "execution_count": 47,
   "metadata": {
    "colab": {
     "base_uri": "https://localhost:8080/",
     "height": 187
    },
    "colab_type": "code",
    "id": "TLbVy_PWKneT",
    "outputId": "c2ad0fdf-d9ea-4c4b-b04e-be90a6def127"
   },
   "outputs": [
    {
     "data": {
      "text/plain": [
       "trip_id                        0\n",
       "trip_start_time                1\n",
       "trip_stop_time                 1\n",
       "trip_duration_seconds          1\n",
       "from_station_id                1\n",
       "from_station_name              2\n",
       "to_station_id                  1\n",
       "to_station_name          1026894\n",
       "user_type                1026894\n",
       "dtype: int64"
      ]
     },
     "execution_count": 47,
     "metadata": {},
     "output_type": "execute_result"
    }
   ],
   "source": [
    "#check for NaN \n",
    "df.isnull().sum()  #....to_station_name and user_type columns have 1026894 NaN records each. Other columns have have \n",
    "                   # 1 or 2 NaNs     "
   ]
  },
  {
   "cell_type": "markdown",
   "metadata": {
    "colab_type": "text",
    "id": "utj1vgQQKvq3"
   },
   "source": [
    "### DATA PRE-PROCESSING\n",
    "We need to have our data ready for analysis in order to produce objective inference. We have to first pre-process the data by removing records with NaNs as well as those that are out of scope"
   ]
  },
  {
   "cell_type": "code",
   "execution_count": 48,
   "metadata": {
    "colab": {},
    "colab_type": "code",
    "id": "wLlIjeuSK9Op"
   },
   "outputs": [],
   "source": [
    "#Drop Nan records for spicified columns\n",
    "df.dropna(subset = ['trip_start_time','trip_stop_time','trip_duration_seconds','from_station_id','from_station_name','to_station_id'], inplace = True)"
   ]
  },
  {
   "cell_type": "code",
   "execution_count": 49,
   "metadata": {
    "colab": {
     "base_uri": "https://localhost:8080/",
     "height": 187
    },
    "colab_type": "code",
    "id": "yhQhV8nRLENe",
    "outputId": "699799fa-745f-4f0b-dd64-00967980fc79"
   },
   "outputs": [
    {
     "data": {
      "text/plain": [
       "trip_id                        0\n",
       "trip_start_time                0\n",
       "trip_stop_time                 0\n",
       "trip_duration_seconds          0\n",
       "from_station_id                0\n",
       "from_station_name              0\n",
       "to_station_id                  0\n",
       "to_station_name          1026892\n",
       "user_type                1026892\n",
       "dtype: int64"
      ]
     },
     "execution_count": 49,
     "metadata": {},
     "output_type": "execute_result"
    }
   ],
   "source": [
    "#QC Check\n",
    "df.isnull().sum()"
   ]
  },
  {
   "cell_type": "markdown",
   "metadata": {},
   "source": [
    "Notice that for columns --- to_station_name and user_type, there over 1 million NaNs out of about 1.5m columns.\n",
    "A lot of valuable data/information is likely to be lost if we delete all NAN records for those 2 columns. Hence, we'd keep those 2 columns as they are for now."
   ]
  },
  {
   "cell_type": "markdown",
   "metadata": {},
   "source": [
    "#### Convert Date/Time Related Columns from Object Type to Datetime\n",
    "To perform time related analysis on \"trip_start_time\" and \"trip_stop_time\" columns, we need them to be in datetime type"
   ]
  },
  {
   "cell_type": "code",
   "execution_count": 78,
   "metadata": {},
   "outputs": [
    {
     "data": {
      "text/plain": [
       "trip_id                                                        2106489\n",
       "trip_start_time                                    2017-10-20 17:05:51\n",
       "trip_stop_time                                     2017-10-20 17:26:54\n",
       "trip_duration_seconds                                             1263\n",
       "from_station_id                                 Church St / Bloor St E\n",
       "from_station_name        Dufferin St / Sylvan Av (Dufferin Grove Park)\n",
       "to_station_id                                                   Member\n",
       "to_station_name                                                    NaN\n",
       "user_type                                                          NaN\n",
       "Name: 1251797, dtype: object"
      ]
     },
     "execution_count": 78,
     "metadata": {},
     "output_type": "execute_result"
    }
   ],
   "source": [
    "df.iloc[1251797]"
   ]
  },
  {
   "cell_type": "code",
   "execution_count": 72,
   "metadata": {
    "colab": {},
    "colab_type": "code",
    "id": "3K2ddydALKgW"
   },
   "outputs": [],
   "source": [
    "# Convert from Object to Datatime data type\n",
    "\n",
    "df['trip_start_time'] = pd.to_datetime(df['trip_start_time'], dayfirst = True) #----change from object type to datetime\n",
    "df['trip_stop_time'] = pd.to_datetime(df['trip_stop_time'], dayfirst = True)  # ----change from object type to datetime"
   ]
  },
  {
   "cell_type": "code",
   "execution_count": 74,
   "metadata": {},
   "outputs": [
    {
     "data": {
      "text/plain": [
       "trip_id                          object\n",
       "trip_start_time          datetime64[ns]\n",
       "trip_stop_time           datetime64[ns]\n",
       "trip_duration_seconds           float64\n",
       "from_station_id                  object\n",
       "from_station_name                object\n",
       "to_station_id                    object\n",
       "to_station_name                  object\n",
       "user_type                        object\n",
       "dtype: object"
      ]
     },
     "execution_count": 74,
     "metadata": {},
     "output_type": "execute_result"
    }
   ],
   "source": [
    "# Confirm conversion to Datetime data type\n",
    "\n",
    "df.dtypes"
   ]
  },
  {
   "cell_type": "markdown",
   "metadata": {},
   "source": [
    "#### Be Sure All Records are for Year 2017"
   ]
  },
  {
   "cell_type": "code",
   "execution_count": 79,
   "metadata": {},
   "outputs": [
    {
     "data": {
      "text/html": [
       "<div>\n",
       "<style scoped>\n",
       "    .dataframe tbody tr th:only-of-type {\n",
       "        vertical-align: middle;\n",
       "    }\n",
       "\n",
       "    .dataframe tbody tr th {\n",
       "        vertical-align: top;\n",
       "    }\n",
       "\n",
       "    .dataframe thead th {\n",
       "        text-align: right;\n",
       "    }\n",
       "</style>\n",
       "<table border=\"1\" class=\"dataframe\">\n",
       "  <thead>\n",
       "    <tr style=\"text-align: right;\">\n",
       "      <th></th>\n",
       "      <th>trip_id</th>\n",
       "      <th>trip_start_time</th>\n",
       "      <th>trip_stop_time</th>\n",
       "      <th>trip_duration_seconds</th>\n",
       "      <th>from_station_id</th>\n",
       "      <th>from_station_name</th>\n",
       "      <th>to_station_id</th>\n",
       "      <th>to_station_name</th>\n",
       "      <th>user_type</th>\n",
       "    </tr>\n",
       "  </thead>\n",
       "  <tbody>\n",
       "    <tr>\n",
       "      <th>1128964</th>\n",
       "      <td>1971685</td>\n",
       "      <td>2010-01-17</td>\n",
       "      <td>2010-01-17 00:14:00</td>\n",
       "      <td>849.0</td>\n",
       "      <td>Queen St W / James St</td>\n",
       "      <td>Taddle Creek Park</td>\n",
       "      <td>Member</td>\n",
       "      <td>NaN</td>\n",
       "      <td>NaN</td>\n",
       "    </tr>\n",
       "    <tr>\n",
       "      <th>1128965</th>\n",
       "      <td>1971686</td>\n",
       "      <td>2010-01-17</td>\n",
       "      <td>2010-01-17 00:00:00</td>\n",
       "      <td>26.0</td>\n",
       "      <td>Stewart St / Bathurst St  - SMART</td>\n",
       "      <td>Stewart St / Bathurst St  - SMART</td>\n",
       "      <td>Casual</td>\n",
       "      <td>NaN</td>\n",
       "      <td>NaN</td>\n",
       "    </tr>\n",
       "    <tr>\n",
       "      <th>1128966</th>\n",
       "      <td>1971687</td>\n",
       "      <td>2010-01-17</td>\n",
       "      <td>2010-01-17 00:22:00</td>\n",
       "      <td>1310.0</td>\n",
       "      <td>Hayter St / Laplante Ave</td>\n",
       "      <td>Queen St W / Portland St</td>\n",
       "      <td>Member</td>\n",
       "      <td>NaN</td>\n",
       "      <td>NaN</td>\n",
       "    </tr>\n",
       "    <tr>\n",
       "      <th>1128967</th>\n",
       "      <td>1971688</td>\n",
       "      <td>2010-01-17</td>\n",
       "      <td>2010-01-17 00:11:00</td>\n",
       "      <td>631.0</td>\n",
       "      <td>Beverly St / College St</td>\n",
       "      <td>Beverly  St / Dundas St W</td>\n",
       "      <td>Member</td>\n",
       "      <td>NaN</td>\n",
       "      <td>NaN</td>\n",
       "    </tr>\n",
       "    <tr>\n",
       "      <th>1128968</th>\n",
       "      <td>1971689</td>\n",
       "      <td>2010-01-17</td>\n",
       "      <td>2010-01-17 00:20:00</td>\n",
       "      <td>1198.0</td>\n",
       "      <td>Thompson St / Broadview Ave - SMART</td>\n",
       "      <td>Thompson St / Broadview Ave - SMART</td>\n",
       "      <td>Member</td>\n",
       "      <td>NaN</td>\n",
       "      <td>NaN</td>\n",
       "    </tr>\n",
       "  </tbody>\n",
       "</table>\n",
       "</div>"
      ],
      "text/plain": [
       "         trip_id trip_start_time      trip_stop_time  trip_duration_seconds  \\\n",
       "1128964  1971685      2010-01-17 2010-01-17 00:14:00                  849.0   \n",
       "1128965  1971686      2010-01-17 2010-01-17 00:00:00                   26.0   \n",
       "1128966  1971687      2010-01-17 2010-01-17 00:22:00                 1310.0   \n",
       "1128967  1971688      2010-01-17 2010-01-17 00:11:00                  631.0   \n",
       "1128968  1971689      2010-01-17 2010-01-17 00:20:00                 1198.0   \n",
       "\n",
       "                             from_station_id  \\\n",
       "1128964                Queen St W / James St   \n",
       "1128965    Stewart St / Bathurst St  - SMART   \n",
       "1128966             Hayter St / Laplante Ave   \n",
       "1128967              Beverly St / College St   \n",
       "1128968  Thompson St / Broadview Ave - SMART   \n",
       "\n",
       "                           from_station_name to_station_id to_station_name  \\\n",
       "1128964                    Taddle Creek Park        Member             NaN   \n",
       "1128965    Stewart St / Bathurst St  - SMART        Casual             NaN   \n",
       "1128966             Queen St W / Portland St        Member             NaN   \n",
       "1128967            Beverly  St / Dundas St W        Member             NaN   \n",
       "1128968  Thompson St / Broadview Ave - SMART        Member             NaN   \n",
       "\n",
       "        user_type  \n",
       "1128964       NaN  \n",
       "1128965       NaN  \n",
       "1128966       NaN  \n",
       "1128967       NaN  \n",
       "1128968       NaN  "
      ]
     },
     "execution_count": 79,
     "metadata": {},
     "output_type": "execute_result"
    }
   ],
   "source": [
    "df[df['trip_start_time'].dt.year != 2017].head() # Some records are outside the scope of the year 2017"
   ]
  },
  {
   "cell_type": "code",
   "execution_count": 80,
   "metadata": {},
   "outputs": [
    {
     "name": "stdout",
     "output_type": "stream",
     "text": [
      "(160070, 9)\n",
      "(1332298, 9)\n"
     ]
    }
   ],
   "source": [
    "print(df[df['trip_start_time'].dt.year != 2017].shape) # No of records out of range\n",
    "print(df[df['trip_start_time'].dt.year == 2017].shape) # No of records in range"
   ]
  },
  {
   "cell_type": "code",
   "execution_count": 81,
   "metadata": {
    "colab": {
     "base_uri": "https://localhost:8080/",
     "height": 154
    },
    "colab_type": "code",
    "id": "V1nTZdc1NAWa",
    "outputId": "a8ff4ce9-47b7-41bf-a165-d39eb68692df"
   },
   "outputs": [],
   "source": [
    "#Delete Records outside 2017 since Analysis is based on 2017 Data\n",
    "\n",
    "df_2017 = df[df['trip_start_time'].dt.year == 2017]"
   ]
  },
  {
   "cell_type": "code",
   "execution_count": 85,
   "metadata": {
    "colab": {
     "base_uri": "https://localhost:8080/",
     "height": 154
    },
    "colab_type": "code",
    "id": "TiZ1RXXyNVdq",
    "outputId": "a937c35b-a031-49c0-88ad-009b0e295854"
   },
   "outputs": [
    {
     "name": "stdout",
     "output_type": "stream",
     "text": [
      "0\n"
     ]
    }
   ],
   "source": [
    "# Check all records are now for year 2017\n",
    "\n",
    "print(df_2017[df_2017['trip_start_time'].dt.year !=2017].shape[0])\n",
    "# df_2017[df_2017['trip_start_time'].dt.year !=2017]"
   ]
  },
  {
   "cell_type": "markdown",
   "metadata": {},
   "source": [
    "#### Trip Start Time Should Always Be Earlier than Trip Stop TIme"
   ]
  },
  {
   "cell_type": "code",
   "execution_count": 88,
   "metadata": {
    "colab": {
     "base_uri": "https://localhost:8080/",
     "height": 34
    },
    "colab_type": "code",
    "id": "LaVHFnFfPHkO",
    "outputId": "d58a015b-2488-49c2-9dfd-3100c0455c2a"
   },
   "outputs": [
    {
     "name": "stdout",
     "output_type": "stream",
     "text": [
      "333\n"
     ]
    }
   ],
   "source": [
    "#Delete records with start time greater than stop time (Stop time should be greater)\n",
    "\n",
    "print(df_2017[df_2017['trip_start_time'] > df_2017['trip_stop_time']].shape[0])\n",
    "\n",
    "df_2017 = df_2017[df_2017['trip_start_time'] < df_2017['trip_stop_time']] # Delete"
   ]
  },
  {
   "cell_type": "code",
   "execution_count": 89,
   "metadata": {
    "colab": {
     "base_uri": "https://localhost:8080/",
     "height": 48
    },
    "colab_type": "code",
    "id": "MVAzASZMP0-C",
    "outputId": "456af384-45f4-4fb7-b2d6-4b50fdca3f98"
   },
   "outputs": [
    {
     "data": {
      "text/plain": [
       "0"
      ]
     },
     "execution_count": 89,
     "metadata": {},
     "output_type": "execute_result"
    }
   ],
   "source": [
    "# Confirm the above operation\n",
    "\n",
    "df_2017[df_2017['trip_start_time'] > df_2017['trip_stop_time']].shape[0]"
   ]
  },
  {
   "cell_type": "code",
   "execution_count": 94,
   "metadata": {},
   "outputs": [
    {
     "name": "stdout",
     "output_type": "stream",
     "text": [
      "2017-01-01 00:00:00\n",
      "2017-12-31 23:49:41\n"
     ]
    },
    {
     "data": {
      "text/html": [
       "<div>\n",
       "<style scoped>\n",
       "    .dataframe tbody tr th:only-of-type {\n",
       "        vertical-align: middle;\n",
       "    }\n",
       "\n",
       "    .dataframe tbody tr th {\n",
       "        vertical-align: top;\n",
       "    }\n",
       "\n",
       "    .dataframe thead th {\n",
       "        text-align: right;\n",
       "    }\n",
       "</style>\n",
       "<table border=\"1\" class=\"dataframe\">\n",
       "  <thead>\n",
       "    <tr style=\"text-align: right;\">\n",
       "      <th></th>\n",
       "      <th>trip_id</th>\n",
       "      <th>trip_start_time</th>\n",
       "      <th>trip_stop_time</th>\n",
       "      <th>trip_duration_seconds</th>\n",
       "      <th>from_station_id</th>\n",
       "      <th>from_station_name</th>\n",
       "      <th>to_station_id</th>\n",
       "      <th>to_station_name</th>\n",
       "      <th>user_type</th>\n",
       "    </tr>\n",
       "  </thead>\n",
       "  <tbody>\n",
       "    <tr>\n",
       "      <th>0</th>\n",
       "      <td>712382</td>\n",
       "      <td>2017-01-01 00:00:00</td>\n",
       "      <td>2017-01-01 00:03:00</td>\n",
       "      <td>223.0</td>\n",
       "      <td>7051</td>\n",
       "      <td>Wellesley St E / Yonge St Green P</td>\n",
       "      <td>7089</td>\n",
       "      <td>Church St  / Wood St</td>\n",
       "      <td>Member</td>\n",
       "    </tr>\n",
       "    <tr>\n",
       "      <th>1</th>\n",
       "      <td>712383</td>\n",
       "      <td>2017-01-01 00:00:00</td>\n",
       "      <td>2017-01-01 00:05:00</td>\n",
       "      <td>279.0</td>\n",
       "      <td>7143</td>\n",
       "      <td>Kendal Ave / Bernard Ave</td>\n",
       "      <td>7154</td>\n",
       "      <td>Bathurst Subway Station</td>\n",
       "      <td>Member</td>\n",
       "    </tr>\n",
       "    <tr>\n",
       "      <th>2</th>\n",
       "      <td>712384</td>\n",
       "      <td>2017-01-01 00:05:00</td>\n",
       "      <td>2017-01-01 00:29:00</td>\n",
       "      <td>1394.0</td>\n",
       "      <td>7113</td>\n",
       "      <td>Parliament St / Aberdeen Ave</td>\n",
       "      <td>7199</td>\n",
       "      <td>College St W / Markham St</td>\n",
       "      <td>Member</td>\n",
       "    </tr>\n",
       "    <tr>\n",
       "      <th>3</th>\n",
       "      <td>712385</td>\n",
       "      <td>2017-01-01 00:07:00</td>\n",
       "      <td>2017-01-01 00:21:00</td>\n",
       "      <td>826.0</td>\n",
       "      <td>7077</td>\n",
       "      <td>College Park South</td>\n",
       "      <td>7010</td>\n",
       "      <td>King St W / Spadina Ave</td>\n",
       "      <td>Member</td>\n",
       "    </tr>\n",
       "    <tr>\n",
       "      <th>4</th>\n",
       "      <td>712386</td>\n",
       "      <td>2017-01-01 00:08:00</td>\n",
       "      <td>2017-01-01 00:12:00</td>\n",
       "      <td>279.0</td>\n",
       "      <td>7079</td>\n",
       "      <td>McGill St / Church St</td>\n",
       "      <td>7047</td>\n",
       "      <td>University Ave / Gerrard St W</td>\n",
       "      <td>Member</td>\n",
       "    </tr>\n",
       "    <tr>\n",
       "      <th>...</th>\n",
       "      <td>...</td>\n",
       "      <td>...</td>\n",
       "      <td>...</td>\n",
       "      <td>...</td>\n",
       "      <td>...</td>\n",
       "      <td>...</td>\n",
       "      <td>...</td>\n",
       "      <td>...</td>\n",
       "      <td>...</td>\n",
       "    </tr>\n",
       "    <tr>\n",
       "      <th>1492363</th>\n",
       "      <td>2383641</td>\n",
       "      <td>2017-12-31 23:42:06</td>\n",
       "      <td>2017-12-31 23:58:24</td>\n",
       "      <td>978.0</td>\n",
       "      <td>Elizabeth St / Edward St (Bus Terminal)</td>\n",
       "      <td>Roxton Rd / College St</td>\n",
       "      <td>Member</td>\n",
       "      <td>NaN</td>\n",
       "      <td>NaN</td>\n",
       "    </tr>\n",
       "    <tr>\n",
       "      <th>1492364</th>\n",
       "      <td>2383642</td>\n",
       "      <td>2017-12-31 23:46:27</td>\n",
       "      <td>2017-12-31 23:46:53</td>\n",
       "      <td>26.0</td>\n",
       "      <td>Bloor St / Brunswick Ave</td>\n",
       "      <td>Bloor St / Brunswick Ave</td>\n",
       "      <td>Casual</td>\n",
       "      <td>NaN</td>\n",
       "      <td>NaN</td>\n",
       "    </tr>\n",
       "    <tr>\n",
       "      <th>1492366</th>\n",
       "      <td>2383644</td>\n",
       "      <td>2017-12-31 23:47:40</td>\n",
       "      <td>2017-12-31 23:57:49</td>\n",
       "      <td>609.0</td>\n",
       "      <td>Kendal Ave / Spadina Rd</td>\n",
       "      <td>Augusta Ave / Denison Sq</td>\n",
       "      <td>Member</td>\n",
       "      <td>NaN</td>\n",
       "      <td>NaN</td>\n",
       "    </tr>\n",
       "    <tr>\n",
       "      <th>1492367</th>\n",
       "      <td>2383645</td>\n",
       "      <td>2017-12-31 23:49:08</td>\n",
       "      <td>2017-12-31 23:49:34</td>\n",
       "      <td>26.0</td>\n",
       "      <td>Phoebe St / Spadina Ave</td>\n",
       "      <td>Phoebe St / Spadina Ave</td>\n",
       "      <td>Member</td>\n",
       "      <td>NaN</td>\n",
       "      <td>NaN</td>\n",
       "    </tr>\n",
       "    <tr>\n",
       "      <th>1492368</th>\n",
       "      <td>2383646</td>\n",
       "      <td>2017-12-31 23:49:41</td>\n",
       "      <td>2017-12-31 23:57:41</td>\n",
       "      <td>480.0</td>\n",
       "      <td>Phoebe St / Spadina Ave</td>\n",
       "      <td>Simcoe St / Queen St W</td>\n",
       "      <td>Member</td>\n",
       "      <td>NaN</td>\n",
       "      <td>NaN</td>\n",
       "    </tr>\n",
       "  </tbody>\n",
       "</table>\n",
       "<p>1318896 rows × 9 columns</p>\n",
       "</div>"
      ],
      "text/plain": [
       "         trip_id     trip_start_time      trip_stop_time  \\\n",
       "0         712382 2017-01-01 00:00:00 2017-01-01 00:03:00   \n",
       "1         712383 2017-01-01 00:00:00 2017-01-01 00:05:00   \n",
       "2         712384 2017-01-01 00:05:00 2017-01-01 00:29:00   \n",
       "3         712385 2017-01-01 00:07:00 2017-01-01 00:21:00   \n",
       "4         712386 2017-01-01 00:08:00 2017-01-01 00:12:00   \n",
       "...          ...                 ...                 ...   \n",
       "1492363  2383641 2017-12-31 23:42:06 2017-12-31 23:58:24   \n",
       "1492364  2383642 2017-12-31 23:46:27 2017-12-31 23:46:53   \n",
       "1492366  2383644 2017-12-31 23:47:40 2017-12-31 23:57:49   \n",
       "1492367  2383645 2017-12-31 23:49:08 2017-12-31 23:49:34   \n",
       "1492368  2383646 2017-12-31 23:49:41 2017-12-31 23:57:41   \n",
       "\n",
       "         trip_duration_seconds                          from_station_id  \\\n",
       "0                        223.0                                     7051   \n",
       "1                        279.0                                     7143   \n",
       "2                       1394.0                                     7113   \n",
       "3                        826.0                                     7077   \n",
       "4                        279.0                                     7079   \n",
       "...                        ...                                      ...   \n",
       "1492363                  978.0  Elizabeth St / Edward St (Bus Terminal)   \n",
       "1492364                   26.0                 Bloor St / Brunswick Ave   \n",
       "1492366                  609.0                  Kendal Ave / Spadina Rd   \n",
       "1492367                   26.0                  Phoebe St / Spadina Ave   \n",
       "1492368                  480.0                  Phoebe St / Spadina Ave   \n",
       "\n",
       "                         from_station_name to_station_id  \\\n",
       "0        Wellesley St E / Yonge St Green P          7089   \n",
       "1                 Kendal Ave / Bernard Ave          7154   \n",
       "2             Parliament St / Aberdeen Ave          7199   \n",
       "3                       College Park South          7010   \n",
       "4                    McGill St / Church St          7047   \n",
       "...                                    ...           ...   \n",
       "1492363             Roxton Rd / College St        Member   \n",
       "1492364           Bloor St / Brunswick Ave        Casual   \n",
       "1492366           Augusta Ave / Denison Sq        Member   \n",
       "1492367            Phoebe St / Spadina Ave        Member   \n",
       "1492368             Simcoe St / Queen St W        Member   \n",
       "\n",
       "                       to_station_name user_type  \n",
       "0                 Church St  / Wood St    Member  \n",
       "1              Bathurst Subway Station    Member  \n",
       "2            College St W / Markham St    Member  \n",
       "3              King St W / Spadina Ave    Member  \n",
       "4        University Ave / Gerrard St W    Member  \n",
       "...                                ...       ...  \n",
       "1492363                            NaN       NaN  \n",
       "1492364                            NaN       NaN  \n",
       "1492366                            NaN       NaN  \n",
       "1492367                            NaN       NaN  \n",
       "1492368                            NaN       NaN  \n",
       "\n",
       "[1318896 rows x 9 columns]"
      ]
     },
     "execution_count": 94,
     "metadata": {},
     "output_type": "execute_result"
    }
   ],
   "source": [
    "# The Date fields/columns look fine now with range starting from 01 Jan to 31 Dec., 2017\n",
    "\n",
    "print(df_2017['trip_start_time'].min())\n",
    "print(df_2017['trip_start_time'].max())\n",
    "\n",
    "df_2017 "
   ]
  },
  {
   "cell_type": "markdown",
   "metadata": {},
   "source": [
    "### Generated / Derived Columns\n",
    "We need to generate more columns from the existing ones to allow us expand the scope of the data analysis"
   ]
  },
  {
   "cell_type": "code",
   "execution_count": 95,
   "metadata": {},
   "outputs": [
    {
     "data": {
      "text/plain": [
       "Index(['trip_id', 'trip_start_time', 'trip_stop_time', 'trip_duration_seconds',\n",
       "       'from_station_id', 'from_station_name', 'to_station_id',\n",
       "       'to_station_name', 'user_type'],\n",
       "      dtype='object')"
      ]
     },
     "execution_count": 95,
     "metadata": {},
     "output_type": "execute_result"
    }
   ],
   "source": [
    "df_2017.keys()"
   ]
  },
  {
   "cell_type": "markdown",
   "metadata": {},
   "source": [
    "#### Derive 'Actual Duration' and 'Overage' Columns\n",
    "\n",
    "* Assumption - (trip start and stop times are actual ride times that trips lasted while trip duration is the booked time for the trips)\n",
    "* Actual duration = trip_stop_time - trip_start_time\n"
   ]
  },
  {
   "cell_type": "code",
   "execution_count": 245,
   "metadata": {},
   "outputs": [],
   "source": [
    "# Let's rename 'trip_duration_seconds' column to 'booked_duration_seconds'. This is to reflect our assumption\n",
    "\n",
    "df_2017.rename(columns={'trip_duration_seconds': 'booked_duration_seconds'}, inplace=True)"
   ]
  },
  {
   "cell_type": "code",
   "execution_count": 256,
   "metadata": {},
   "outputs": [],
   "source": [
    "# Let's use the below function to derive 2 more columns crucial to our data analysis\n",
    "# 'Actual Duration' and 'Overage' Columns\n",
    "\n",
    "def actual_duration(dataframe):\n",
    "    ''' \n",
    "    This funtion takes a dataframe containing 2 datetime columns and outputs a dataframe with an added column,\n",
    "    'actual_duration' which evaluates the time difference between the initial 2 datetime columns, and anther \n",
    "    another column, 'Overages' which evaluates the overage time for each trip\n",
    "    '''\n",
    "    \n",
    "    # Difference between stop and start time express which ranges from days to seconds\n",
    "    dataframe['actual_Timedelta']=dataframe.trip_stop_time - dataframe.trip_start_time\n",
    "    \n",
    "    # Raise Exception if required date time columns are absent\n",
    "    if (\"trip_stop_time\" or \"trip_start_time\") not in dataframe.columns.tolist():\n",
    "        raise KeyError('necessary datetime columns missing')\n",
    "    \n",
    "    Bool=dataframe[['trip_stop_time','trip_start_time']].dtypes=='datetime64[ns]'\n",
    "     \n",
    "    # Raise exception if data types of trip_stop_time and trip_start_time are not datetime64[ns]\n",
    "    if not Bool.all():\n",
    "        raise ValueError('column is not datetime type, can not perform operation')\n",
    "        \n",
    "    \n",
    "    # Extract the days part of each record\n",
    "    dataframe['actual_days']=dataframe['actual_Timedelta'].dt.days\n",
    "\n",
    "    # Extract the seconds part of each record\n",
    "    dataframe['actual_seconds']=dataframe['actual_Timedelta'].dt.seconds\n",
    "\n",
    "    # Sum the parts to get total of each record in seconds\n",
    "    dataframe['actual_duration']=(dataframe['actual_days']*24*60*60)+dataframe['actual_seconds']\n",
    "\n",
    "    dataframe.drop(['actual_Timedelta','actual_days','actual_seconds'], axis=1, inplace=True)\n",
    "\n",
    "    # Determine Overage for each trip\n",
    "    #overage = Actual_duration - Booked_duration\n",
    "    dataframe['overage']=dataframe['actual_duration']-dataframe['booked_duration_seconds']\n",
    "        \n",
    "        \n",
    "    \n",
    "    # Output the dataframe with the added columns as actual duration is seconds\n",
    "    return(dataframe)\n",
    "    \n",
    "    "
   ]
  },
  {
   "cell_type": "code",
   "execution_count": 249,
   "metadata": {},
   "outputs": [],
   "source": [
    "# Call the above function and pass it to the variable name, df_2017\n",
    "\n",
    "df_2017 = actual_duration(df_2017)"
   ]
  },
  {
   "cell_type": "code",
   "execution_count": 255,
   "metadata": {},
   "outputs": [
    {
     "name": "stdout",
     "output_type": "stream",
     "text": [
      "   actual_duration  overage\n",
      "0              180    -43.0\n",
      "1              300     21.0\n",
      "2             1440     46.0\n",
      "3              840     14.0\n",
      "4              240    -39.0\n"
     ]
    },
    {
     "data": {
      "text/html": [
       "<div>\n",
       "<style scoped>\n",
       "    .dataframe tbody tr th:only-of-type {\n",
       "        vertical-align: middle;\n",
       "    }\n",
       "\n",
       "    .dataframe tbody tr th {\n",
       "        vertical-align: top;\n",
       "    }\n",
       "\n",
       "    .dataframe thead th {\n",
       "        text-align: right;\n",
       "    }\n",
       "</style>\n",
       "<table border=\"1\" class=\"dataframe\">\n",
       "  <thead>\n",
       "    <tr style=\"text-align: right;\">\n",
       "      <th></th>\n",
       "      <th>trip_id</th>\n",
       "      <th>trip_start_time</th>\n",
       "      <th>trip_stop_time</th>\n",
       "      <th>booked_duration_seconds</th>\n",
       "      <th>from_station_id</th>\n",
       "      <th>from_station_name</th>\n",
       "      <th>to_station_id</th>\n",
       "      <th>to_station_name</th>\n",
       "      <th>user_type</th>\n",
       "      <th>actual_duration</th>\n",
       "      <th>overage</th>\n",
       "    </tr>\n",
       "  </thead>\n",
       "  <tbody>\n",
       "    <tr>\n",
       "      <th>0</th>\n",
       "      <td>712382</td>\n",
       "      <td>2017-01-01 00:00:00</td>\n",
       "      <td>2017-01-01 00:03:00</td>\n",
       "      <td>223.0</td>\n",
       "      <td>7051</td>\n",
       "      <td>Wellesley St E / Yonge St Green P</td>\n",
       "      <td>7089</td>\n",
       "      <td>Church St  / Wood St</td>\n",
       "      <td>Member</td>\n",
       "      <td>180</td>\n",
       "      <td>-43.0</td>\n",
       "    </tr>\n",
       "    <tr>\n",
       "      <th>1</th>\n",
       "      <td>712383</td>\n",
       "      <td>2017-01-01 00:00:00</td>\n",
       "      <td>2017-01-01 00:05:00</td>\n",
       "      <td>279.0</td>\n",
       "      <td>7143</td>\n",
       "      <td>Kendal Ave / Bernard Ave</td>\n",
       "      <td>7154</td>\n",
       "      <td>Bathurst Subway Station</td>\n",
       "      <td>Member</td>\n",
       "      <td>300</td>\n",
       "      <td>21.0</td>\n",
       "    </tr>\n",
       "    <tr>\n",
       "      <th>2</th>\n",
       "      <td>712384</td>\n",
       "      <td>2017-01-01 00:05:00</td>\n",
       "      <td>2017-01-01 00:29:00</td>\n",
       "      <td>1394.0</td>\n",
       "      <td>7113</td>\n",
       "      <td>Parliament St / Aberdeen Ave</td>\n",
       "      <td>7199</td>\n",
       "      <td>College St W / Markham St</td>\n",
       "      <td>Member</td>\n",
       "      <td>1440</td>\n",
       "      <td>46.0</td>\n",
       "    </tr>\n",
       "  </tbody>\n",
       "</table>\n",
       "</div>"
      ],
      "text/plain": [
       "  trip_id     trip_start_time      trip_stop_time  booked_duration_seconds  \\\n",
       "0  712382 2017-01-01 00:00:00 2017-01-01 00:03:00                    223.0   \n",
       "1  712383 2017-01-01 00:00:00 2017-01-01 00:05:00                    279.0   \n",
       "2  712384 2017-01-01 00:05:00 2017-01-01 00:29:00                   1394.0   \n",
       "\n",
       "  from_station_id                  from_station_name to_station_id  \\\n",
       "0            7051  Wellesley St E / Yonge St Green P          7089   \n",
       "1            7143           Kendal Ave / Bernard Ave          7154   \n",
       "2            7113       Parliament St / Aberdeen Ave          7199   \n",
       "\n",
       "             to_station_name user_type  actual_duration  overage  \n",
       "0       Church St  / Wood St    Member              180    -43.0  \n",
       "1    Bathurst Subway Station    Member              300     21.0  \n",
       "2  College St W / Markham St    Member             1440     46.0  "
      ]
     },
     "execution_count": 255,
     "metadata": {},
     "output_type": "execute_result"
    }
   ],
   "source": [
    "print(df_2017[['actual_duration','overage']].head())\n",
    "df_2017.head(3)"
   ]
  },
  {
   "cell_type": "markdown",
   "metadata": {},
   "source": [
    "#### Derive Overage Charges\n",
    "Let's derive the column for overage charges\n",
    "\n",
    "Toronto Bike Share Overage Price Model as given below is used to calculate overage charges\n",
    "\n",
    "Overage price model\n",
    "- Types of overage:       Charge per model\n",
    "- Type 1  0-30 minutes ---- 4 * 1\n",
    "- Type 2  31-60 minutes --- 4 * 2\n",
    "- Type 3  61-90 minutes --- 4 * 3\n",
    "- Type 4  91-120 minutes -- 4 * 4\n",
    "- Type 5  120+ minutes ---- 4 * 5"
   ]
  },
  {
   "cell_type": "code",
   "execution_count": 259,
   "metadata": {
    "colab": {},
    "colab_type": "code",
    "id": "lLdq2bY_S9AL"
   },
   "outputs": [],
   "source": [
    "# Determine Overage Charges\n",
    "\n",
    "\n",
    "# Create a function to generate charges (Bin the charges)\n",
    "\n",
    "def overage_charge(overage):\n",
    "    '''\n",
    "    This function creates different buckets for overage ranges and applies charges based on stated \n",
    "    price model\n",
    "    \n",
    "    '''\n",
    "    overage/=60 # convert time overage from seconds to minutes\n",
    "    \n",
    "    if overage > 0 and overage <= 30: # charge $4 if time overage is between 0 and 30 mins\n",
    "        return(int(4))\n",
    "    elif overage > 30 and overage <= 60: # charge $8 if time overage is between 30 and 60 mins\n",
    "        return(int(4*2))\n",
    "    elif overage > 60 and overage <= 90: # charge $12 if time overage is between 60 and 90 mins\n",
    "        return(int(4*3))\n",
    "    elif overage > 90 and overage <= 120: # charge $16 if time overage is between 90 and 120 mins\n",
    "        return(int(4*4))\n",
    "    elif overage > 120:                   # charge $20 if time overage is above 120 mins\n",
    "        return(int(4*5))\n",
    "    else:\n",
    "        return(int(0))"
   ]
  },
  {
   "cell_type": "code",
   "execution_count": 263,
   "metadata": {
    "colab": {},
    "colab_type": "code",
    "id": "B0yQ4ZUBVo-d"
   },
   "outputs": [],
   "source": [
    "#Apply overage function on overage column to derive overage charge\n",
    "\n",
    "df_2017['overage_charges'] = df_2017['overage'].apply(overage_charge)"
   ]
  },
  {
   "cell_type": "code",
   "execution_count": 265,
   "metadata": {
    "colab": {
     "base_uri": "https://localhost:8080/",
     "height": 225
    },
    "colab_type": "code",
    "id": "jKFmHEOuVqyQ",
    "outputId": "9d414aea-bb7c-4881-e082-663971742a87"
   },
   "outputs": [
    {
     "data": {
      "text/html": [
       "<div>\n",
       "<style scoped>\n",
       "    .dataframe tbody tr th:only-of-type {\n",
       "        vertical-align: middle;\n",
       "    }\n",
       "\n",
       "    .dataframe tbody tr th {\n",
       "        vertical-align: top;\n",
       "    }\n",
       "\n",
       "    .dataframe thead th {\n",
       "        text-align: right;\n",
       "    }\n",
       "</style>\n",
       "<table border=\"1\" class=\"dataframe\">\n",
       "  <thead>\n",
       "    <tr style=\"text-align: right;\">\n",
       "      <th></th>\n",
       "      <th>actual_duration</th>\n",
       "      <th>overage</th>\n",
       "      <th>overage_charges</th>\n",
       "    </tr>\n",
       "  </thead>\n",
       "  <tbody>\n",
       "    <tr>\n",
       "      <th>0</th>\n",
       "      <td>180</td>\n",
       "      <td>-43.0</td>\n",
       "      <td>0</td>\n",
       "    </tr>\n",
       "    <tr>\n",
       "      <th>1</th>\n",
       "      <td>300</td>\n",
       "      <td>21.0</td>\n",
       "      <td>4</td>\n",
       "    </tr>\n",
       "    <tr>\n",
       "      <th>2</th>\n",
       "      <td>1440</td>\n",
       "      <td>46.0</td>\n",
       "      <td>4</td>\n",
       "    </tr>\n",
       "    <tr>\n",
       "      <th>3</th>\n",
       "      <td>840</td>\n",
       "      <td>14.0</td>\n",
       "      <td>4</td>\n",
       "    </tr>\n",
       "    <tr>\n",
       "      <th>4</th>\n",
       "      <td>240</td>\n",
       "      <td>-39.0</td>\n",
       "      <td>0</td>\n",
       "    </tr>\n",
       "  </tbody>\n",
       "</table>\n",
       "</div>"
      ],
      "text/plain": [
       "   actual_duration  overage  overage_charges\n",
       "0              180    -43.0                0\n",
       "1              300     21.0                4\n",
       "2             1440     46.0                4\n",
       "3              840     14.0                4\n",
       "4              240    -39.0                0"
      ]
     },
     "execution_count": 265,
     "metadata": {},
     "output_type": "execute_result"
    }
   ],
   "source": [
    "# Let's check to confirm the 3 new derived columns created\n",
    "# -ve overage charge means actual trip time was less than booked time \n",
    "\n",
    "df_2017[['actual_duration','overage','overage_charges']].head() "
   ]
  },
  {
   "cell_type": "markdown",
   "metadata": {},
   "source": [
    "#### Derive More Columns from 'trip_start_time' column\n",
    "\n",
    "We will have to derive extra date related columns that will allow us answer more questions in our data analysis"
   ]
  },
  {
   "cell_type": "code",
   "execution_count": 410,
   "metadata": {
    "colab": {},
    "colab_type": "code",
    "id": "fYyf76bkV3t5"
   },
   "outputs": [],
   "source": [
    "# Extracting date related columns from trip_start_time\n",
    "\n",
    "def date_columns(dataframe):\n",
    "    '''\n",
    "    This function takes in a dataframe with a datetime column and extracts other date related columns such as\n",
    "    weekday, day_of_month, month_of_year and quarter.\n",
    "    '''\n",
    "    \n",
    "    # Extract weekday\n",
    "    dayOfWeek={0:'Monday', 1:'Tuesday', 2:'Wednesday', 3:'Thursday', 4:'Friday', 5:'Saturday', 6:'Sunday'}\n",
    "    dataframe['trip_start_weekday'] = dataframe['trip_start_time'].dt.weekday.map(dayOfWeek)\n",
    "    \n",
    "    # Extract days of the month\n",
    "    dataframe['trip_start_DayOfMonth']=dataframe['trip_start_time'].dt.day\n",
    "    \n",
    "    # Extract months of the year\n",
    "    MonthofYear = {1:'January', 2:'February', 3:'March', 4:'April', 5:'May', 6:'June', \n",
    "                   7:'July', 8:'August', 9:'September', 10:'October', 11:'November', 12:'December'}\n",
    "    dataframe['trip_start_time_month'] = dataframe['trip_start_time'].dt.month.map(MonthofYear)\n",
    "    \n",
    "    # Extract Day of year\n",
    "    dataframe['Day_of_Year']=dataframe['trip_start_time'].dt.dayofyear\n",
    "    \n",
    "    # Extract quarters of the year\n",
    "    QuarterofYear = {1:'Q1', 2:'Q2', 3:'Q3', 4:'Q4'}\n",
    "    dataframe['Quarter'] = dataframe['trip_start_time'].dt.quarter.map(QuarterofYear)\n",
    "    \n",
    "    # return dataframe with added columns\n",
    "    return(dataframe)\n",
    "    "
   ]
  },
  {
   "cell_type": "code",
   "execution_count": 411,
   "metadata": {},
   "outputs": [],
   "source": [
    "# Let's call the function and assign it a variable - df_2017\n",
    "\n",
    "df_2017=date_columns(df_2017)"
   ]
  },
  {
   "cell_type": "code",
   "execution_count": 328,
   "metadata": {},
   "outputs": [],
   "source": [
    "# Let's convert actual_duration from seconds to minutes for ease of analysis\n",
    "\n",
    "df_2017['actual_duration_minutes']=df_2017['actual_duration']/60\n",
    "\n",
    "df_2017['actual_duration_minutes']=df_2017['actual_duration_minutes'].round(2)"
   ]
  },
  {
   "cell_type": "markdown",
   "metadata": {},
   "source": [
    "Remember we initially started with only 9 columns. \n",
    "Let's see how many more columns we now have and what they are;\n"
   ]
  },
  {
   "cell_type": "code",
   "execution_count": 412,
   "metadata": {},
   "outputs": [
    {
     "name": "stdout",
     "output_type": "stream",
     "text": [
      "18\n",
      "9\n",
      "['actual_duration', 'overage', 'overage_charges', 'trip_start_weekday', 'trip_start_DayOfMonth', 'trip_start_time_month', 'Quarter', 'actual_duration_minutes', 'Day_of_Year']\n"
     ]
    }
   ],
   "source": [
    "print(df_2017.shape[1]) # Current number of columns\n",
    "\n",
    "print(len(df_2017.columns.tolist()[9:])) # Number of derived columns\n",
    "\n",
    "print(df_2017.columns.tolist()[9:]) # Print the new derived columns"
   ]
  },
  {
   "cell_type": "code",
   "execution_count": 413,
   "metadata": {},
   "outputs": [
    {
     "data": {
      "text/html": [
       "<div>\n",
       "<style scoped>\n",
       "    .dataframe tbody tr th:only-of-type {\n",
       "        vertical-align: middle;\n",
       "    }\n",
       "\n",
       "    .dataframe tbody tr th {\n",
       "        vertical-align: top;\n",
       "    }\n",
       "\n",
       "    .dataframe thead th {\n",
       "        text-align: right;\n",
       "    }\n",
       "</style>\n",
       "<table border=\"1\" class=\"dataframe\">\n",
       "  <thead>\n",
       "    <tr style=\"text-align: right;\">\n",
       "      <th></th>\n",
       "      <th>actual_duration</th>\n",
       "      <th>overage</th>\n",
       "      <th>overage_charges</th>\n",
       "      <th>trip_start_weekday</th>\n",
       "      <th>trip_start_DayOfMonth</th>\n",
       "      <th>trip_start_time_month</th>\n",
       "      <th>Quarter</th>\n",
       "      <th>actual_duration_minutes</th>\n",
       "      <th>Day_of_Year</th>\n",
       "    </tr>\n",
       "  </thead>\n",
       "  <tbody>\n",
       "    <tr>\n",
       "      <th>0</th>\n",
       "      <td>180</td>\n",
       "      <td>-43.0</td>\n",
       "      <td>0</td>\n",
       "      <td>Sunday</td>\n",
       "      <td>1</td>\n",
       "      <td>January</td>\n",
       "      <td>Q1</td>\n",
       "      <td>3.0</td>\n",
       "      <td>1</td>\n",
       "    </tr>\n",
       "    <tr>\n",
       "      <th>1</th>\n",
       "      <td>300</td>\n",
       "      <td>21.0</td>\n",
       "      <td>4</td>\n",
       "      <td>Sunday</td>\n",
       "      <td>1</td>\n",
       "      <td>January</td>\n",
       "      <td>Q1</td>\n",
       "      <td>5.0</td>\n",
       "      <td>1</td>\n",
       "    </tr>\n",
       "    <tr>\n",
       "      <th>2</th>\n",
       "      <td>1440</td>\n",
       "      <td>46.0</td>\n",
       "      <td>4</td>\n",
       "      <td>Sunday</td>\n",
       "      <td>1</td>\n",
       "      <td>January</td>\n",
       "      <td>Q1</td>\n",
       "      <td>24.0</td>\n",
       "      <td>1</td>\n",
       "    </tr>\n",
       "    <tr>\n",
       "      <th>3</th>\n",
       "      <td>840</td>\n",
       "      <td>14.0</td>\n",
       "      <td>4</td>\n",
       "      <td>Sunday</td>\n",
       "      <td>1</td>\n",
       "      <td>January</td>\n",
       "      <td>Q1</td>\n",
       "      <td>14.0</td>\n",
       "      <td>1</td>\n",
       "    </tr>\n",
       "    <tr>\n",
       "      <th>4</th>\n",
       "      <td>240</td>\n",
       "      <td>-39.0</td>\n",
       "      <td>0</td>\n",
       "      <td>Sunday</td>\n",
       "      <td>1</td>\n",
       "      <td>January</td>\n",
       "      <td>Q1</td>\n",
       "      <td>4.0</td>\n",
       "      <td>1</td>\n",
       "    </tr>\n",
       "  </tbody>\n",
       "</table>\n",
       "</div>"
      ],
      "text/plain": [
       "   actual_duration  overage  overage_charges trip_start_weekday  \\\n",
       "0              180    -43.0                0             Sunday   \n",
       "1              300     21.0                4             Sunday   \n",
       "2             1440     46.0                4             Sunday   \n",
       "3              840     14.0                4             Sunday   \n",
       "4              240    -39.0                0             Sunday   \n",
       "\n",
       "   trip_start_DayOfMonth trip_start_time_month Quarter  \\\n",
       "0                      1               January      Q1   \n",
       "1                      1               January      Q1   \n",
       "2                      1               January      Q1   \n",
       "3                      1               January      Q1   \n",
       "4                      1               January      Q1   \n",
       "\n",
       "   actual_duration_minutes  Day_of_Year  \n",
       "0                      3.0            1  \n",
       "1                      5.0            1  \n",
       "2                     24.0            1  \n",
       "3                     14.0            1  \n",
       "4                      4.0            1  "
      ]
     },
     "execution_count": 413,
     "metadata": {},
     "output_type": "execute_result"
    }
   ],
   "source": [
    "# show records of the derived columns\n",
    "\n",
    "df_2017[df_2017.columns.tolist()[9:]].head()"
   ]
  },
  {
   "cell_type": "code",
   "execution_count": 330,
   "metadata": {},
   "outputs": [
    {
     "data": {
      "text/html": [
       "<div>\n",
       "<style scoped>\n",
       "    .dataframe tbody tr th:only-of-type {\n",
       "        vertical-align: middle;\n",
       "    }\n",
       "\n",
       "    .dataframe tbody tr th {\n",
       "        vertical-align: top;\n",
       "    }\n",
       "\n",
       "    .dataframe thead th {\n",
       "        text-align: right;\n",
       "    }\n",
       "</style>\n",
       "<table border=\"1\" class=\"dataframe\">\n",
       "  <thead>\n",
       "    <tr style=\"text-align: right;\">\n",
       "      <th></th>\n",
       "      <th>trip_id</th>\n",
       "      <th>trip_start_time</th>\n",
       "      <th>trip_stop_time</th>\n",
       "      <th>booked_duration_seconds</th>\n",
       "      <th>from_station_id</th>\n",
       "      <th>from_station_name</th>\n",
       "      <th>to_station_id</th>\n",
       "      <th>to_station_name</th>\n",
       "      <th>user_type</th>\n",
       "      <th>actual_duration</th>\n",
       "      <th>overage</th>\n",
       "      <th>overage_charges</th>\n",
       "      <th>trip_start_weekday</th>\n",
       "      <th>trip_start_DayOfMonth</th>\n",
       "      <th>trip_start_time_month</th>\n",
       "      <th>Quarter</th>\n",
       "      <th>actual_duration_minutes</th>\n",
       "    </tr>\n",
       "  </thead>\n",
       "  <tbody>\n",
       "    <tr>\n",
       "      <th>0</th>\n",
       "      <td>712382</td>\n",
       "      <td>2017-01-01 00:00:00</td>\n",
       "      <td>2017-01-01 00:03:00</td>\n",
       "      <td>223.0</td>\n",
       "      <td>7051</td>\n",
       "      <td>Wellesley St E / Yonge St Green P</td>\n",
       "      <td>7089</td>\n",
       "      <td>Church St  / Wood St</td>\n",
       "      <td>Member</td>\n",
       "      <td>180</td>\n",
       "      <td>-43.0</td>\n",
       "      <td>0</td>\n",
       "      <td>Sunday</td>\n",
       "      <td>1</td>\n",
       "      <td>January</td>\n",
       "      <td>Q1</td>\n",
       "      <td>3.0</td>\n",
       "    </tr>\n",
       "    <tr>\n",
       "      <th>1</th>\n",
       "      <td>712383</td>\n",
       "      <td>2017-01-01 00:00:00</td>\n",
       "      <td>2017-01-01 00:05:00</td>\n",
       "      <td>279.0</td>\n",
       "      <td>7143</td>\n",
       "      <td>Kendal Ave / Bernard Ave</td>\n",
       "      <td>7154</td>\n",
       "      <td>Bathurst Subway Station</td>\n",
       "      <td>Member</td>\n",
       "      <td>300</td>\n",
       "      <td>21.0</td>\n",
       "      <td>4</td>\n",
       "      <td>Sunday</td>\n",
       "      <td>1</td>\n",
       "      <td>January</td>\n",
       "      <td>Q1</td>\n",
       "      <td>5.0</td>\n",
       "    </tr>\n",
       "    <tr>\n",
       "      <th>2</th>\n",
       "      <td>712384</td>\n",
       "      <td>2017-01-01 00:05:00</td>\n",
       "      <td>2017-01-01 00:29:00</td>\n",
       "      <td>1394.0</td>\n",
       "      <td>7113</td>\n",
       "      <td>Parliament St / Aberdeen Ave</td>\n",
       "      <td>7199</td>\n",
       "      <td>College St W / Markham St</td>\n",
       "      <td>Member</td>\n",
       "      <td>1440</td>\n",
       "      <td>46.0</td>\n",
       "      <td>4</td>\n",
       "      <td>Sunday</td>\n",
       "      <td>1</td>\n",
       "      <td>January</td>\n",
       "      <td>Q1</td>\n",
       "      <td>24.0</td>\n",
       "    </tr>\n",
       "  </tbody>\n",
       "</table>\n",
       "</div>"
      ],
      "text/plain": [
       "  trip_id     trip_start_time      trip_stop_time  booked_duration_seconds  \\\n",
       "0  712382 2017-01-01 00:00:00 2017-01-01 00:03:00                    223.0   \n",
       "1  712383 2017-01-01 00:00:00 2017-01-01 00:05:00                    279.0   \n",
       "2  712384 2017-01-01 00:05:00 2017-01-01 00:29:00                   1394.0   \n",
       "\n",
       "  from_station_id                  from_station_name to_station_id  \\\n",
       "0            7051  Wellesley St E / Yonge St Green P          7089   \n",
       "1            7143           Kendal Ave / Bernard Ave          7154   \n",
       "2            7113       Parliament St / Aberdeen Ave          7199   \n",
       "\n",
       "             to_station_name user_type  actual_duration  overage  \\\n",
       "0       Church St  / Wood St    Member              180    -43.0   \n",
       "1    Bathurst Subway Station    Member              300     21.0   \n",
       "2  College St W / Markham St    Member             1440     46.0   \n",
       "\n",
       "   overage_charges trip_start_weekday  trip_start_DayOfMonth  \\\n",
       "0                0             Sunday                      1   \n",
       "1                4             Sunday                      1   \n",
       "2                4             Sunday                      1   \n",
       "\n",
       "  trip_start_time_month Quarter  actual_duration_minutes  \n",
       "0               January      Q1                      3.0  \n",
       "1               January      Q1                      5.0  \n",
       "2               January      Q1                     24.0  "
      ]
     },
     "execution_count": 330,
     "metadata": {},
     "output_type": "execute_result"
    }
   ],
   "source": [
    "df_2017.head(3) # Let's take a view"
   ]
  },
  {
   "cell_type": "markdown",
   "metadata": {},
   "source": [
    "Our data is now ready for Data Analysis.\n",
    "\n",
    "Now let's save it as csv file to be used for our analysis subsequently"
   ]
  },
  {
   "cell_type": "code",
   "execution_count": 331,
   "metadata": {},
   "outputs": [],
   "source": [
    "# df_2017.to_csv('./prep_data', index=False)"
   ]
  },
  {
   "cell_type": "markdown",
   "metadata": {
    "colab_type": "text",
    "id": "ESTnUuoPWwBl"
   },
   "source": [
    "## DATA ANALYSIS AND VIZ\n",
    "Let's start answering business questions using data analysis"
   ]
  },
  {
   "cell_type": "code",
   "execution_count": 6,
   "metadata": {},
   "outputs": [],
   "source": [
    "# Load preprocessed data\n",
    "\n",
    "df_2 = pd.read_csv('./prep_data', parse_dates=['trip_start_time','trip_stop_time'])"
   ]
  },
  {
   "cell_type": "code",
   "execution_count": 7,
   "metadata": {},
   "outputs": [],
   "source": [
    "df_preprocessed = df_2.copy()"
   ]
  },
  {
   "cell_type": "code",
   "execution_count": 101,
   "metadata": {},
   "outputs": [
    {
     "name": "stderr",
     "output_type": "stream",
     "text": [
      "/home/learner/Portfolio/Ops_Analysis_P1/P1_env/lib/python3.6/site-packages/IPython/core/interactiveshell.py:3072: DtypeWarning: Columns (4,6,7,8) have mixed types.Specify dtype option on import or set low_memory=False.\n",
      "  interactivity=interactivity, compiler=compiler, result=result)\n"
     ]
    }
   ],
   "source": [
    "df_2 = pd.read_csv('./prep_data', parse_dates=['trip_stop_time','trip_start_time'])"
   ]
  },
  {
   "cell_type": "markdown",
   "metadata": {},
   "source": [
    "### Average Trip Time(minutes) and Average Count of Trips Per Day"
   ]
  },
  {
   "cell_type": "code",
   "execution_count": 155,
   "metadata": {},
   "outputs": [],
   "source": [
    "av_tr=av_tr.dropna()  # 311 rows retained, 51 rows dropped"
   ]
  },
  {
   "cell_type": "code",
   "execution_count": 158,
   "metadata": {},
   "outputs": [
    {
     "data": {
      "text/plain": [
       "actual_duration_minutes    41.860875\n",
       "dtype: float64"
      ]
     },
     "execution_count": 158,
     "metadata": {},
     "output_type": "execute_result"
    }
   ],
   "source": [
    "av_tr.mean()"
   ]
  },
  {
   "cell_type": "code",
   "execution_count": 159,
   "metadata": {},
   "outputs": [
    {
     "data": {
      "text/plain": [
       "<matplotlib.axes._subplots.AxesSubplot at 0x7fb4fd549358>"
      ]
     },
     "execution_count": 159,
     "metadata": {},
     "output_type": "execute_result"
    },
    {
     "data": {
      "image/png": "[encoded data removed]",
      "text/plain": [
       "<Figure size 1080x648 with 1 Axes>"
      ]
     },
     "metadata": {},
     "output_type": "display_data"
    }
   ],
   "source": [
    "av_tr['actual_duration_minutes'].plot(kind='line', figsize=(15,9), color='red')"
   ]
  },
  {
   "cell_type": "code",
   "execution_count": 102,
   "metadata": {},
   "outputs": [],
   "source": [
    "av_tr = df_2.resample('D', on='trip_start_time').mean().drop(columns=['trip_id', 'booked_duration_seconds',\n",
    "       'actual_duration', 'overage', 'overage_charges',\n",
    "       'trip_start_DayOfMonth'])#.plot(df_2['trip_start_time'], df_2['actual_duration_minutes'], kind='scatter')"
   ]
  },
  {
   "cell_type": "code",
   "execution_count": 119,
   "metadata": {},
   "outputs": [
    {
     "ename": "KeyError",
     "evalue": "\"None of [DatetimeIndex(['2017-01-01 00:00:00', '2017-01-01 00:00:00',\\n               '2017-01-01 00:05:00', '2017-01-01 00:07:00',\\n               '2017-01-01 00:08:00', '2017-01-01 00:12:00',\\n               '2017-01-01 00:15:00', '2017-01-01 00:15:00',\\n               '2017-01-01 00:20:00', '2017-01-01 00:23:00',\\n               ...\\n               '2017-12-31 23:13:02', '2017-12-31 23:17:11',\\n               '2017-12-31 23:26:59', '2017-12-31 23:35:41',\\n               '2017-12-31 23:37:43', '2017-12-31 23:42:06',\\n               '2017-12-31 23:46:27', '2017-12-31 23:47:40',\\n               '2017-12-31 23:49:08', '2017-12-31 23:49:41'],\\n              dtype='datetime64[ns]', length=1318896, freq=None)] are in the [columns]\"",
     "output_type": "error",
     "traceback": [
      "\u001b[0;31m---------------------------------------------------------------------------\u001b[0m",
      "\u001b[0;31mKeyError\u001b[0m                                  Traceback (most recent call last)",
      "\u001b[0;32m<ipython-input-119-e4861981757b>\u001b[0m in \u001b[0;36m<module>\u001b[0;34m\u001b[0m\n\u001b[0;32m----> 1\u001b[0;31m \u001b[0mdf_2\u001b[0m\u001b[0;34m.\u001b[0m\u001b[0mplot\u001b[0m\u001b[0;34m(\u001b[0m\u001b[0mdf_2\u001b[0m\u001b[0;34m[\u001b[0m\u001b[0;34m'trip_start_time'\u001b[0m\u001b[0;34m]\u001b[0m\u001b[0;34m.\u001b[0m\u001b[0mvalues\u001b[0m\u001b[0;34m,\u001b[0m \u001b[0mdf_2\u001b[0m\u001b[0;34m[\u001b[0m\u001b[0;34m'actual_duration_minutes'\u001b[0m\u001b[0;34m]\u001b[0m\u001b[0;34m,\u001b[0m \u001b[0mkind\u001b[0m\u001b[0;34m=\u001b[0m\u001b[0;34m'scatter'\u001b[0m\u001b[0;34m)\u001b[0m\u001b[0;34m\u001b[0m\u001b[0;34m\u001b[0m\u001b[0m\n\u001b[0m",
      "\u001b[0;32m~/Portfolio/Ops_Analysis_P1/P1_env/lib/python3.6/site-packages/pandas/plotting/_core.py\u001b[0m in \u001b[0;36m__call__\u001b[0;34m(self, *args, **kwargs)\u001b[0m\n\u001b[1;32m    790\u001b[0m         \u001b[0;32mif\u001b[0m \u001b[0mkind\u001b[0m \u001b[0;32min\u001b[0m \u001b[0mself\u001b[0m\u001b[0;34m.\u001b[0m\u001b[0m_dataframe_kinds\u001b[0m\u001b[0;34m:\u001b[0m\u001b[0;34m\u001b[0m\u001b[0;34m\u001b[0m\u001b[0m\n\u001b[1;32m    791\u001b[0m             \u001b[0;32mif\u001b[0m \u001b[0misinstance\u001b[0m\u001b[0;34m(\u001b[0m\u001b[0mdata\u001b[0m\u001b[0;34m,\u001b[0m \u001b[0mABCDataFrame\u001b[0m\u001b[0;34m)\u001b[0m\u001b[0;34m:\u001b[0m\u001b[0;34m\u001b[0m\u001b[0;34m\u001b[0m\u001b[0m\n\u001b[0;32m--> 792\u001b[0;31m                 \u001b[0;32mreturn\u001b[0m \u001b[0mplot_backend\u001b[0m\u001b[0;34m.\u001b[0m\u001b[0mplot\u001b[0m\u001b[0;34m(\u001b[0m\u001b[0mdata\u001b[0m\u001b[0;34m,\u001b[0m \u001b[0mx\u001b[0m\u001b[0;34m=\u001b[0m\u001b[0mx\u001b[0m\u001b[0;34m,\u001b[0m \u001b[0my\u001b[0m\u001b[0;34m=\u001b[0m\u001b[0my\u001b[0m\u001b[0;34m,\u001b[0m \u001b[0mkind\u001b[0m\u001b[0;34m=\u001b[0m\u001b[0mkind\u001b[0m\u001b[0;34m,\u001b[0m \u001b[0;34m**\u001b[0m\u001b[0mkwargs\u001b[0m\u001b[0;34m)\u001b[0m\u001b[0;34m\u001b[0m\u001b[0;34m\u001b[0m\u001b[0m\n\u001b[0m\u001b[1;32m    793\u001b[0m             \u001b[0;32melse\u001b[0m\u001b[0;34m:\u001b[0m\u001b[0;34m\u001b[0m\u001b[0;34m\u001b[0m\u001b[0m\n\u001b[1;32m    794\u001b[0m                 \u001b[0;32mraise\u001b[0m \u001b[0mValueError\u001b[0m\u001b[0;34m(\u001b[0m\u001b[0;34mf\"plot kind {kind} can only be used for data frames\"\u001b[0m\u001b[0;34m)\u001b[0m\u001b[0;34m\u001b[0m\u001b[0;34m\u001b[0m\u001b[0m\n",
      "\u001b[0;32m~/Portfolio/Ops_Analysis_P1/P1_env/lib/python3.6/site-packages/pandas/plotting/_matplotlib/__init__.py\u001b[0m in \u001b[0;36mplot\u001b[0;34m(data, kind, **kwargs)\u001b[0m\n\u001b[1;32m     59\u001b[0m             \u001b[0mkwargs\u001b[0m\u001b[0;34m[\u001b[0m\u001b[0;34m\"ax\"\u001b[0m\u001b[0;34m]\u001b[0m \u001b[0;34m=\u001b[0m \u001b[0mgetattr\u001b[0m\u001b[0;34m(\u001b[0m\u001b[0max\u001b[0m\u001b[0;34m,\u001b[0m \u001b[0;34m\"left_ax\"\u001b[0m\u001b[0;34m,\u001b[0m \u001b[0max\u001b[0m\u001b[0;34m)\u001b[0m\u001b[0;34m\u001b[0m\u001b[0;34m\u001b[0m\u001b[0m\n\u001b[1;32m     60\u001b[0m     \u001b[0mplot_obj\u001b[0m \u001b[0;34m=\u001b[0m \u001b[0mPLOT_CLASSES\u001b[0m\u001b[0;34m[\u001b[0m\u001b[0mkind\u001b[0m\u001b[0;34m]\u001b[0m\u001b[0;34m(\u001b[0m\u001b[0mdata\u001b[0m\u001b[0;34m,\u001b[0m \u001b[0;34m**\u001b[0m\u001b[0mkwargs\u001b[0m\u001b[0;34m)\u001b[0m\u001b[0;34m\u001b[0m\u001b[0;34m\u001b[0m\u001b[0m\n\u001b[0;32m---> 61\u001b[0;31m     \u001b[0mplot_obj\u001b[0m\u001b[0;34m.\u001b[0m\u001b[0mgenerate\u001b[0m\u001b[0;34m(\u001b[0m\u001b[0;34m)\u001b[0m\u001b[0;34m\u001b[0m\u001b[0;34m\u001b[0m\u001b[0m\n\u001b[0m\u001b[1;32m     62\u001b[0m     \u001b[0mplot_obj\u001b[0m\u001b[0;34m.\u001b[0m\u001b[0mdraw\u001b[0m\u001b[0;34m(\u001b[0m\u001b[0;34m)\u001b[0m\u001b[0;34m\u001b[0m\u001b[0;34m\u001b[0m\u001b[0m\n\u001b[1;32m     63\u001b[0m     \u001b[0;32mreturn\u001b[0m \u001b[0mplot_obj\u001b[0m\u001b[0;34m.\u001b[0m\u001b[0mresult\u001b[0m\u001b[0;34m\u001b[0m\u001b[0;34m\u001b[0m\u001b[0m\n",
      "\u001b[0;32m~/Portfolio/Ops_Analysis_P1/P1_env/lib/python3.6/site-packages/pandas/plotting/_matplotlib/core.py\u001b[0m in \u001b[0;36mgenerate\u001b[0;34m(self)\u001b[0m\n\u001b[1;32m    261\u001b[0m         \u001b[0mself\u001b[0m\u001b[0;34m.\u001b[0m\u001b[0m_compute_plot_data\u001b[0m\u001b[0;34m(\u001b[0m\u001b[0;34m)\u001b[0m\u001b[0;34m\u001b[0m\u001b[0;34m\u001b[0m\u001b[0m\n\u001b[1;32m    262\u001b[0m         \u001b[0mself\u001b[0m\u001b[0;34m.\u001b[0m\u001b[0m_setup_subplots\u001b[0m\u001b[0;34m(\u001b[0m\u001b[0;34m)\u001b[0m\u001b[0;34m\u001b[0m\u001b[0;34m\u001b[0m\u001b[0m\n\u001b[0;32m--> 263\u001b[0;31m         \u001b[0mself\u001b[0m\u001b[0;34m.\u001b[0m\u001b[0m_make_plot\u001b[0m\u001b[0;34m(\u001b[0m\u001b[0;34m)\u001b[0m\u001b[0;34m\u001b[0m\u001b[0;34m\u001b[0m\u001b[0m\n\u001b[0m\u001b[1;32m    264\u001b[0m         \u001b[0mself\u001b[0m\u001b[0;34m.\u001b[0m\u001b[0m_add_table\u001b[0m\u001b[0;34m(\u001b[0m\u001b[0;34m)\u001b[0m\u001b[0;34m\u001b[0m\u001b[0;34m\u001b[0m\u001b[0m\n\u001b[1;32m    265\u001b[0m         \u001b[0mself\u001b[0m\u001b[0;34m.\u001b[0m\u001b[0m_make_legend\u001b[0m\u001b[0;34m(\u001b[0m\u001b[0;34m)\u001b[0m\u001b[0;34m\u001b[0m\u001b[0;34m\u001b[0m\u001b[0m\n",
      "\u001b[0;32m~/Portfolio/Ops_Analysis_P1/P1_env/lib/python3.6/site-packages/pandas/plotting/_matplotlib/core.py\u001b[0m in \u001b[0;36m_make_plot\u001b[0;34m(self)\u001b[0m\n\u001b[1;32m    968\u001b[0m             \u001b[0mlabel\u001b[0m \u001b[0;34m=\u001b[0m \u001b[0;32mNone\u001b[0m\u001b[0;34m\u001b[0m\u001b[0;34m\u001b[0m\u001b[0m\n\u001b[1;32m    969\u001b[0m         scatter = ax.scatter(\n\u001b[0;32m--> 970\u001b[0;31m             \u001b[0mdata\u001b[0m\u001b[0;34m[\u001b[0m\u001b[0mx\u001b[0m\u001b[0;34m]\u001b[0m\u001b[0;34m.\u001b[0m\u001b[0mvalues\u001b[0m\u001b[0;34m,\u001b[0m\u001b[0;34m\u001b[0m\u001b[0;34m\u001b[0m\u001b[0m\n\u001b[0m\u001b[1;32m    971\u001b[0m             \u001b[0mdata\u001b[0m\u001b[0;34m[\u001b[0m\u001b[0my\u001b[0m\u001b[0;34m]\u001b[0m\u001b[0;34m.\u001b[0m\u001b[0mvalues\u001b[0m\u001b[0;34m,\u001b[0m\u001b[0;34m\u001b[0m\u001b[0;34m\u001b[0m\u001b[0m\n\u001b[1;32m    972\u001b[0m             \u001b[0mc\u001b[0m\u001b[0;34m=\u001b[0m\u001b[0mc_values\u001b[0m\u001b[0;34m,\u001b[0m\u001b[0;34m\u001b[0m\u001b[0;34m\u001b[0m\u001b[0m\n",
      "\u001b[0;32m~/Portfolio/Ops_Analysis_P1/P1_env/lib/python3.6/site-packages/pandas/core/frame.py\u001b[0m in \u001b[0;36m__getitem__\u001b[0;34m(self, key)\u001b[0m\n\u001b[1;32m   2804\u001b[0m             \u001b[0;32mif\u001b[0m \u001b[0mis_iterator\u001b[0m\u001b[0;34m(\u001b[0m\u001b[0mkey\u001b[0m\u001b[0;34m)\u001b[0m\u001b[0;34m:\u001b[0m\u001b[0;34m\u001b[0m\u001b[0;34m\u001b[0m\u001b[0m\n\u001b[1;32m   2805\u001b[0m                 \u001b[0mkey\u001b[0m \u001b[0;34m=\u001b[0m \u001b[0mlist\u001b[0m\u001b[0;34m(\u001b[0m\u001b[0mkey\u001b[0m\u001b[0;34m)\u001b[0m\u001b[0;34m\u001b[0m\u001b[0;34m\u001b[0m\u001b[0m\n\u001b[0;32m-> 2806\u001b[0;31m             \u001b[0mindexer\u001b[0m \u001b[0;34m=\u001b[0m \u001b[0mself\u001b[0m\u001b[0;34m.\u001b[0m\u001b[0mloc\u001b[0m\u001b[0;34m.\u001b[0m\u001b[0m_get_listlike_indexer\u001b[0m\u001b[0;34m(\u001b[0m\u001b[0mkey\u001b[0m\u001b[0;34m,\u001b[0m \u001b[0maxis\u001b[0m\u001b[0;34m=\u001b[0m\u001b[0;36m1\u001b[0m\u001b[0;34m,\u001b[0m \u001b[0mraise_missing\u001b[0m\u001b[0;34m=\u001b[0m\u001b[0;32mTrue\u001b[0m\u001b[0;34m)\u001b[0m\u001b[0;34m[\u001b[0m\u001b[0;36m1\u001b[0m\u001b[0;34m]\u001b[0m\u001b[0;34m\u001b[0m\u001b[0;34m\u001b[0m\u001b[0m\n\u001b[0m\u001b[1;32m   2807\u001b[0m \u001b[0;34m\u001b[0m\u001b[0m\n\u001b[1;32m   2808\u001b[0m         \u001b[0;31m# take() does not accept boolean indexers\u001b[0m\u001b[0;34m\u001b[0m\u001b[0;34m\u001b[0m\u001b[0;34m\u001b[0m\u001b[0m\n",
      "\u001b[0;32m~/Portfolio/Ops_Analysis_P1/P1_env/lib/python3.6/site-packages/pandas/core/indexing.py\u001b[0m in \u001b[0;36m_get_listlike_indexer\u001b[0;34m(self, key, axis, raise_missing)\u001b[0m\n\u001b[1;32m   1551\u001b[0m \u001b[0;34m\u001b[0m\u001b[0m\n\u001b[1;32m   1552\u001b[0m         self._validate_read_indexer(\n\u001b[0;32m-> 1553\u001b[0;31m             \u001b[0mkeyarr\u001b[0m\u001b[0;34m,\u001b[0m \u001b[0mindexer\u001b[0m\u001b[0;34m,\u001b[0m \u001b[0mo\u001b[0m\u001b[0;34m.\u001b[0m\u001b[0m_get_axis_number\u001b[0m\u001b[0;34m(\u001b[0m\u001b[0maxis\u001b[0m\u001b[0;34m)\u001b[0m\u001b[0;34m,\u001b[0m \u001b[0mraise_missing\u001b[0m\u001b[0;34m=\u001b[0m\u001b[0mraise_missing\u001b[0m\u001b[0;34m\u001b[0m\u001b[0;34m\u001b[0m\u001b[0m\n\u001b[0m\u001b[1;32m   1554\u001b[0m         )\n\u001b[1;32m   1555\u001b[0m         \u001b[0;32mreturn\u001b[0m \u001b[0mkeyarr\u001b[0m\u001b[0;34m,\u001b[0m \u001b[0mindexer\u001b[0m\u001b[0;34m\u001b[0m\u001b[0;34m\u001b[0m\u001b[0m\n",
      "\u001b[0;32m~/Portfolio/Ops_Analysis_P1/P1_env/lib/python3.6/site-packages/pandas/core/indexing.py\u001b[0m in \u001b[0;36m_validate_read_indexer\u001b[0;34m(self, key, indexer, axis, raise_missing)\u001b[0m\n\u001b[1;32m   1638\u001b[0m             \u001b[0;32mif\u001b[0m \u001b[0mmissing\u001b[0m \u001b[0;34m==\u001b[0m \u001b[0mlen\u001b[0m\u001b[0;34m(\u001b[0m\u001b[0mindexer\u001b[0m\u001b[0;34m)\u001b[0m\u001b[0;34m:\u001b[0m\u001b[0;34m\u001b[0m\u001b[0;34m\u001b[0m\u001b[0m\n\u001b[1;32m   1639\u001b[0m                 \u001b[0maxis_name\u001b[0m \u001b[0;34m=\u001b[0m \u001b[0mself\u001b[0m\u001b[0;34m.\u001b[0m\u001b[0mobj\u001b[0m\u001b[0;34m.\u001b[0m\u001b[0m_get_axis_name\u001b[0m\u001b[0;34m(\u001b[0m\u001b[0maxis\u001b[0m\u001b[0;34m)\u001b[0m\u001b[0;34m\u001b[0m\u001b[0;34m\u001b[0m\u001b[0m\n\u001b[0;32m-> 1640\u001b[0;31m                 \u001b[0;32mraise\u001b[0m \u001b[0mKeyError\u001b[0m\u001b[0;34m(\u001b[0m\u001b[0;34mf\"None of [{key}] are in the [{axis_name}]\"\u001b[0m\u001b[0;34m)\u001b[0m\u001b[0;34m\u001b[0m\u001b[0;34m\u001b[0m\u001b[0m\n\u001b[0m\u001b[1;32m   1641\u001b[0m \u001b[0;34m\u001b[0m\u001b[0m\n\u001b[1;32m   1642\u001b[0m             \u001b[0;31m# We (temporarily) allow for some missing keys with .loc, except in\u001b[0m\u001b[0;34m\u001b[0m\u001b[0;34m\u001b[0m\u001b[0;34m\u001b[0m\u001b[0m\n",
      "\u001b[0;31mKeyError\u001b[0m: \"None of [DatetimeIndex(['2017-01-01 00:00:00', '2017-01-01 00:00:00',\\n               '2017-01-01 00:05:00', '2017-01-01 00:07:00',\\n               '2017-01-01 00:08:00', '2017-01-01 00:12:00',\\n               '2017-01-01 00:15:00', '2017-01-01 00:15:00',\\n               '2017-01-01 00:20:00', '2017-01-01 00:23:00',\\n               ...\\n               '2017-12-31 23:13:02', '2017-12-31 23:17:11',\\n               '2017-12-31 23:26:59', '2017-12-31 23:35:41',\\n               '2017-12-31 23:37:43', '2017-12-31 23:42:06',\\n               '2017-12-31 23:46:27', '2017-12-31 23:47:40',\\n               '2017-12-31 23:49:08', '2017-12-31 23:49:41'],\\n              dtype='datetime64[ns]', length=1318896, freq=None)] are in the [columns]\""
     ]
    },
    {
     "data": {
      "image/png": "[encoded data removed]",
      "text/plain": [
       "<Figure size 432x288 with 1 Axes>"
      ]
     },
     "metadata": {},
     "output_type": "display_data"
    }
   ],
   "source": [
    "df_2.plot(df_2['trip_start_time'].values, df_2['actual_duration_minutes'], kind='scatter')"
   ]
  },
  {
   "cell_type": "code",
   "execution_count": 71,
   "metadata": {},
   "outputs": [
    {
     "ename": "KeyError",
     "evalue": "\"None of [Index(['2017-01-01 00:00:00', '2017-01-01 00:00:00', '2017-01-01 00:05:00',\\n       '2017-01-01 00:07:00', '2017-01-01 00:08:00', '2017-01-01 00:12:00',\\n       '2017-01-01 00:15:00', '2017-01-01 00:15:00', '2017-01-01 00:20:00',\\n       '2017-01-01 00:23:00',\\n       ...\\n       '2017-12-31 23:13:02', '2017-12-31 23:17:11', '2017-12-31 23:26:59',\\n       '2017-12-31 23:35:41', '2017-12-31 23:37:43', '2017-12-31 23:42:06',\\n       '2017-12-31 23:46:27', '2017-12-31 23:47:40', '2017-12-31 23:49:08',\\n       '2017-12-31 23:49:41'],\\n      dtype='object', length=1318896)] are in the [columns]\"",
     "output_type": "error",
     "traceback": [
      "\u001b[0;31m---------------------------------------------------------------------------\u001b[0m",
      "\u001b[0;31mKeyError\u001b[0m                                  Traceback (most recent call last)",
      "\u001b[0;32m<ipython-input-71-2b88aad09b49>\u001b[0m in \u001b[0;36m<module>\u001b[0;34m\u001b[0m\n\u001b[0;32m----> 1\u001b[0;31m \u001b[0mdf_2\u001b[0m\u001b[0;34m.\u001b[0m\u001b[0mplot\u001b[0m\u001b[0;34m(\u001b[0m\u001b[0mdf_2\u001b[0m\u001b[0;34m[\u001b[0m\u001b[0;34m'trip_start_time'\u001b[0m\u001b[0;34m]\u001b[0m\u001b[0;34m,\u001b[0m \u001b[0mdf_2\u001b[0m\u001b[0;34m[\u001b[0m\u001b[0;34m'actual_duration_minutes'\u001b[0m\u001b[0;34m]\u001b[0m\u001b[0;34m,\u001b[0m \u001b[0mkind\u001b[0m\u001b[0;34m=\u001b[0m\u001b[0;34m'scatter'\u001b[0m\u001b[0;34m)\u001b[0m\u001b[0;34m\u001b[0m\u001b[0;34m\u001b[0m\u001b[0m\n\u001b[0m",
      "\u001b[0;32m~/Portfolio/Ops_Analysis_P1/P1_env/lib/python3.6/site-packages/pandas/plotting/_core.py\u001b[0m in \u001b[0;36m__call__\u001b[0;34m(self, *args, **kwargs)\u001b[0m\n\u001b[1;32m    790\u001b[0m         \u001b[0;32mif\u001b[0m \u001b[0mkind\u001b[0m \u001b[0;32min\u001b[0m \u001b[0mself\u001b[0m\u001b[0;34m.\u001b[0m\u001b[0m_dataframe_kinds\u001b[0m\u001b[0;34m:\u001b[0m\u001b[0;34m\u001b[0m\u001b[0;34m\u001b[0m\u001b[0m\n\u001b[1;32m    791\u001b[0m             \u001b[0;32mif\u001b[0m \u001b[0misinstance\u001b[0m\u001b[0;34m(\u001b[0m\u001b[0mdata\u001b[0m\u001b[0;34m,\u001b[0m \u001b[0mABCDataFrame\u001b[0m\u001b[0;34m)\u001b[0m\u001b[0;34m:\u001b[0m\u001b[0;34m\u001b[0m\u001b[0;34m\u001b[0m\u001b[0m\n\u001b[0;32m--> 792\u001b[0;31m                 \u001b[0;32mreturn\u001b[0m \u001b[0mplot_backend\u001b[0m\u001b[0;34m.\u001b[0m\u001b[0mplot\u001b[0m\u001b[0;34m(\u001b[0m\u001b[0mdata\u001b[0m\u001b[0;34m,\u001b[0m \u001b[0mx\u001b[0m\u001b[0;34m=\u001b[0m\u001b[0mx\u001b[0m\u001b[0;34m,\u001b[0m \u001b[0my\u001b[0m\u001b[0;34m=\u001b[0m\u001b[0my\u001b[0m\u001b[0;34m,\u001b[0m \u001b[0mkind\u001b[0m\u001b[0;34m=\u001b[0m\u001b[0mkind\u001b[0m\u001b[0;34m,\u001b[0m \u001b[0;34m**\u001b[0m\u001b[0mkwargs\u001b[0m\u001b[0;34m)\u001b[0m\u001b[0;34m\u001b[0m\u001b[0;34m\u001b[0m\u001b[0m\n\u001b[0m\u001b[1;32m    793\u001b[0m             \u001b[0;32melse\u001b[0m\u001b[0;34m:\u001b[0m\u001b[0;34m\u001b[0m\u001b[0;34m\u001b[0m\u001b[0m\n\u001b[1;32m    794\u001b[0m                 \u001b[0;32mraise\u001b[0m \u001b[0mValueError\u001b[0m\u001b[0;34m(\u001b[0m\u001b[0;34mf\"plot kind {kind} can only be used for data frames\"\u001b[0m\u001b[0;34m)\u001b[0m\u001b[0;34m\u001b[0m\u001b[0;34m\u001b[0m\u001b[0m\n",
      "\u001b[0;32m~/Portfolio/Ops_Analysis_P1/P1_env/lib/python3.6/site-packages/pandas/plotting/_matplotlib/__init__.py\u001b[0m in \u001b[0;36mplot\u001b[0;34m(data, kind, **kwargs)\u001b[0m\n\u001b[1;32m     59\u001b[0m             \u001b[0mkwargs\u001b[0m\u001b[0;34m[\u001b[0m\u001b[0;34m\"ax\"\u001b[0m\u001b[0;34m]\u001b[0m \u001b[0;34m=\u001b[0m \u001b[0mgetattr\u001b[0m\u001b[0;34m(\u001b[0m\u001b[0max\u001b[0m\u001b[0;34m,\u001b[0m \u001b[0;34m\"left_ax\"\u001b[0m\u001b[0;34m,\u001b[0m \u001b[0max\u001b[0m\u001b[0;34m)\u001b[0m\u001b[0;34m\u001b[0m\u001b[0;34m\u001b[0m\u001b[0m\n\u001b[1;32m     60\u001b[0m     \u001b[0mplot_obj\u001b[0m \u001b[0;34m=\u001b[0m \u001b[0mPLOT_CLASSES\u001b[0m\u001b[0;34m[\u001b[0m\u001b[0mkind\u001b[0m\u001b[0;34m]\u001b[0m\u001b[0;34m(\u001b[0m\u001b[0mdata\u001b[0m\u001b[0;34m,\u001b[0m \u001b[0;34m**\u001b[0m\u001b[0mkwargs\u001b[0m\u001b[0;34m)\u001b[0m\u001b[0;34m\u001b[0m\u001b[0;34m\u001b[0m\u001b[0m\n\u001b[0;32m---> 61\u001b[0;31m     \u001b[0mplot_obj\u001b[0m\u001b[0;34m.\u001b[0m\u001b[0mgenerate\u001b[0m\u001b[0;34m(\u001b[0m\u001b[0;34m)\u001b[0m\u001b[0;34m\u001b[0m\u001b[0;34m\u001b[0m\u001b[0m\n\u001b[0m\u001b[1;32m     62\u001b[0m     \u001b[0mplot_obj\u001b[0m\u001b[0;34m.\u001b[0m\u001b[0mdraw\u001b[0m\u001b[0;34m(\u001b[0m\u001b[0;34m)\u001b[0m\u001b[0;34m\u001b[0m\u001b[0;34m\u001b[0m\u001b[0m\n\u001b[1;32m     63\u001b[0m     \u001b[0;32mreturn\u001b[0m \u001b[0mplot_obj\u001b[0m\u001b[0;34m.\u001b[0m\u001b[0mresult\u001b[0m\u001b[0;34m\u001b[0m\u001b[0;34m\u001b[0m\u001b[0m\n",
      "\u001b[0;32m~/Portfolio/Ops_Analysis_P1/P1_env/lib/python3.6/site-packages/pandas/plotting/_matplotlib/core.py\u001b[0m in \u001b[0;36mgenerate\u001b[0;34m(self)\u001b[0m\n\u001b[1;32m    261\u001b[0m         \u001b[0mself\u001b[0m\u001b[0;34m.\u001b[0m\u001b[0m_compute_plot_data\u001b[0m\u001b[0;34m(\u001b[0m\u001b[0;34m)\u001b[0m\u001b[0;34m\u001b[0m\u001b[0;34m\u001b[0m\u001b[0m\n\u001b[1;32m    262\u001b[0m         \u001b[0mself\u001b[0m\u001b[0;34m.\u001b[0m\u001b[0m_setup_subplots\u001b[0m\u001b[0;34m(\u001b[0m\u001b[0;34m)\u001b[0m\u001b[0;34m\u001b[0m\u001b[0;34m\u001b[0m\u001b[0m\n\u001b[0;32m--> 263\u001b[0;31m         \u001b[0mself\u001b[0m\u001b[0;34m.\u001b[0m\u001b[0m_make_plot\u001b[0m\u001b[0;34m(\u001b[0m\u001b[0;34m)\u001b[0m\u001b[0;34m\u001b[0m\u001b[0;34m\u001b[0m\u001b[0m\n\u001b[0m\u001b[1;32m    264\u001b[0m         \u001b[0mself\u001b[0m\u001b[0;34m.\u001b[0m\u001b[0m_add_table\u001b[0m\u001b[0;34m(\u001b[0m\u001b[0;34m)\u001b[0m\u001b[0;34m\u001b[0m\u001b[0;34m\u001b[0m\u001b[0m\n\u001b[1;32m    265\u001b[0m         \u001b[0mself\u001b[0m\u001b[0;34m.\u001b[0m\u001b[0m_make_legend\u001b[0m\u001b[0;34m(\u001b[0m\u001b[0;34m)\u001b[0m\u001b[0;34m\u001b[0m\u001b[0;34m\u001b[0m\u001b[0m\n",
      "\u001b[0;32m~/Portfolio/Ops_Analysis_P1/P1_env/lib/python3.6/site-packages/pandas/plotting/_matplotlib/core.py\u001b[0m in \u001b[0;36m_make_plot\u001b[0;34m(self)\u001b[0m\n\u001b[1;32m    968\u001b[0m             \u001b[0mlabel\u001b[0m \u001b[0;34m=\u001b[0m \u001b[0;32mNone\u001b[0m\u001b[0;34m\u001b[0m\u001b[0;34m\u001b[0m\u001b[0m\n\u001b[1;32m    969\u001b[0m         scatter = ax.scatter(\n\u001b[0;32m--> 970\u001b[0;31m             \u001b[0mdata\u001b[0m\u001b[0;34m[\u001b[0m\u001b[0mx\u001b[0m\u001b[0;34m]\u001b[0m\u001b[0;34m.\u001b[0m\u001b[0mvalues\u001b[0m\u001b[0;34m,\u001b[0m\u001b[0;34m\u001b[0m\u001b[0;34m\u001b[0m\u001b[0m\n\u001b[0m\u001b[1;32m    971\u001b[0m             \u001b[0mdata\u001b[0m\u001b[0;34m[\u001b[0m\u001b[0my\u001b[0m\u001b[0;34m]\u001b[0m\u001b[0;34m.\u001b[0m\u001b[0mvalues\u001b[0m\u001b[0;34m,\u001b[0m\u001b[0;34m\u001b[0m\u001b[0;34m\u001b[0m\u001b[0m\n\u001b[1;32m    972\u001b[0m             \u001b[0mc\u001b[0m\u001b[0;34m=\u001b[0m\u001b[0mc_values\u001b[0m\u001b[0;34m,\u001b[0m\u001b[0;34m\u001b[0m\u001b[0;34m\u001b[0m\u001b[0m\n",
      "\u001b[0;32m~/Portfolio/Ops_Analysis_P1/P1_env/lib/python3.6/site-packages/pandas/core/frame.py\u001b[0m in \u001b[0;36m__getitem__\u001b[0;34m(self, key)\u001b[0m\n\u001b[1;32m   2804\u001b[0m             \u001b[0;32mif\u001b[0m \u001b[0mis_iterator\u001b[0m\u001b[0;34m(\u001b[0m\u001b[0mkey\u001b[0m\u001b[0;34m)\u001b[0m\u001b[0;34m:\u001b[0m\u001b[0;34m\u001b[0m\u001b[0;34m\u001b[0m\u001b[0m\n\u001b[1;32m   2805\u001b[0m                 \u001b[0mkey\u001b[0m \u001b[0;34m=\u001b[0m \u001b[0mlist\u001b[0m\u001b[0;34m(\u001b[0m\u001b[0mkey\u001b[0m\u001b[0;34m)\u001b[0m\u001b[0;34m\u001b[0m\u001b[0;34m\u001b[0m\u001b[0m\n\u001b[0;32m-> 2806\u001b[0;31m             \u001b[0mindexer\u001b[0m \u001b[0;34m=\u001b[0m \u001b[0mself\u001b[0m\u001b[0;34m.\u001b[0m\u001b[0mloc\u001b[0m\u001b[0;34m.\u001b[0m\u001b[0m_get_listlike_indexer\u001b[0m\u001b[0;34m(\u001b[0m\u001b[0mkey\u001b[0m\u001b[0;34m,\u001b[0m \u001b[0maxis\u001b[0m\u001b[0;34m=\u001b[0m\u001b[0;36m1\u001b[0m\u001b[0;34m,\u001b[0m \u001b[0mraise_missing\u001b[0m\u001b[0;34m=\u001b[0m\u001b[0;32mTrue\u001b[0m\u001b[0;34m)\u001b[0m\u001b[0;34m[\u001b[0m\u001b[0;36m1\u001b[0m\u001b[0;34m]\u001b[0m\u001b[0;34m\u001b[0m\u001b[0;34m\u001b[0m\u001b[0m\n\u001b[0m\u001b[1;32m   2807\u001b[0m \u001b[0;34m\u001b[0m\u001b[0m\n\u001b[1;32m   2808\u001b[0m         \u001b[0;31m# take() does not accept boolean indexers\u001b[0m\u001b[0;34m\u001b[0m\u001b[0;34m\u001b[0m\u001b[0;34m\u001b[0m\u001b[0m\n",
      "\u001b[0;32m~/Portfolio/Ops_Analysis_P1/P1_env/lib/python3.6/site-packages/pandas/core/indexing.py\u001b[0m in \u001b[0;36m_get_listlike_indexer\u001b[0;34m(self, key, axis, raise_missing)\u001b[0m\n\u001b[1;32m   1551\u001b[0m \u001b[0;34m\u001b[0m\u001b[0m\n\u001b[1;32m   1552\u001b[0m         self._validate_read_indexer(\n\u001b[0;32m-> 1553\u001b[0;31m             \u001b[0mkeyarr\u001b[0m\u001b[0;34m,\u001b[0m \u001b[0mindexer\u001b[0m\u001b[0;34m,\u001b[0m \u001b[0mo\u001b[0m\u001b[0;34m.\u001b[0m\u001b[0m_get_axis_number\u001b[0m\u001b[0;34m(\u001b[0m\u001b[0maxis\u001b[0m\u001b[0;34m)\u001b[0m\u001b[0;34m,\u001b[0m \u001b[0mraise_missing\u001b[0m\u001b[0;34m=\u001b[0m\u001b[0mraise_missing\u001b[0m\u001b[0;34m\u001b[0m\u001b[0;34m\u001b[0m\u001b[0m\n\u001b[0m\u001b[1;32m   1554\u001b[0m         )\n\u001b[1;32m   1555\u001b[0m         \u001b[0;32mreturn\u001b[0m \u001b[0mkeyarr\u001b[0m\u001b[0;34m,\u001b[0m \u001b[0mindexer\u001b[0m\u001b[0;34m\u001b[0m\u001b[0;34m\u001b[0m\u001b[0m\n",
      "\u001b[0;32m~/Portfolio/Ops_Analysis_P1/P1_env/lib/python3.6/site-packages/pandas/core/indexing.py\u001b[0m in \u001b[0;36m_validate_read_indexer\u001b[0;34m(self, key, indexer, axis, raise_missing)\u001b[0m\n\u001b[1;32m   1638\u001b[0m             \u001b[0;32mif\u001b[0m \u001b[0mmissing\u001b[0m \u001b[0;34m==\u001b[0m \u001b[0mlen\u001b[0m\u001b[0;34m(\u001b[0m\u001b[0mindexer\u001b[0m\u001b[0;34m)\u001b[0m\u001b[0;34m:\u001b[0m\u001b[0;34m\u001b[0m\u001b[0;34m\u001b[0m\u001b[0m\n\u001b[1;32m   1639\u001b[0m                 \u001b[0maxis_name\u001b[0m \u001b[0;34m=\u001b[0m \u001b[0mself\u001b[0m\u001b[0;34m.\u001b[0m\u001b[0mobj\u001b[0m\u001b[0;34m.\u001b[0m\u001b[0m_get_axis_name\u001b[0m\u001b[0;34m(\u001b[0m\u001b[0maxis\u001b[0m\u001b[0;34m)\u001b[0m\u001b[0;34m\u001b[0m\u001b[0;34m\u001b[0m\u001b[0m\n\u001b[0;32m-> 1640\u001b[0;31m                 \u001b[0;32mraise\u001b[0m \u001b[0mKeyError\u001b[0m\u001b[0;34m(\u001b[0m\u001b[0;34mf\"None of [{key}] are in the [{axis_name}]\"\u001b[0m\u001b[0;34m)\u001b[0m\u001b[0;34m\u001b[0m\u001b[0;34m\u001b[0m\u001b[0m\n\u001b[0m\u001b[1;32m   1641\u001b[0m \u001b[0;34m\u001b[0m\u001b[0m\n\u001b[1;32m   1642\u001b[0m             \u001b[0;31m# We (temporarily) allow for some missing keys with .loc, except in\u001b[0m\u001b[0;34m\u001b[0m\u001b[0;34m\u001b[0m\u001b[0;34m\u001b[0m\u001b[0m\n",
      "\u001b[0;31mKeyError\u001b[0m: \"None of [Index(['2017-01-01 00:00:00', '2017-01-01 00:00:00', '2017-01-01 00:05:00',\\n       '2017-01-01 00:07:00', '2017-01-01 00:08:00', '2017-01-01 00:12:00',\\n       '2017-01-01 00:15:00', '2017-01-01 00:15:00', '2017-01-01 00:20:00',\\n       '2017-01-01 00:23:00',\\n       ...\\n       '2017-12-31 23:13:02', '2017-12-31 23:17:11', '2017-12-31 23:26:59',\\n       '2017-12-31 23:35:41', '2017-12-31 23:37:43', '2017-12-31 23:42:06',\\n       '2017-12-31 23:46:27', '2017-12-31 23:47:40', '2017-12-31 23:49:08',\\n       '2017-12-31 23:49:41'],\\n      dtype='object', length=1318896)] are in the [columns]\""
     ]
    },
    {
     "data": {
      "image/png": "[encoded data removed]",
      "text/plain": [
       "<Figure size 432x288 with 1 Axes>"
      ]
     },
     "metadata": {},
     "output_type": "display_data"
    }
   ],
   "source": [
    "df_2.plot(df_2['trip_start_time'], df_2['actual_duration_minutes'], kind='scatter')"
   ]
  },
  {
   "cell_type": "code",
   "execution_count": 65,
   "metadata": {},
   "outputs": [],
   "source": [
    "st=av_tr['trip_start_time'].dt.strftime('%Y-%m-%d')"
   ]
  },
  {
   "cell_type": "code",
   "execution_count": 55,
   "metadata": {},
   "outputs": [
    {
     "ename": "TypeError",
     "evalue": "Cannot convert input [0     2017-01-01\n1     2017-01-02\n2     2017-01-03\n3     2017-01-04\n4     2017-01-05\n         ...    \n360   2017-12-27\n361   2017-12-28\n362   2017-12-29\n363   2017-12-30\n364   2017-12-31\nName: trip_start_time, Length: 365, dtype: datetime64[ns]] of type <class 'pandas.core.series.Series'> to Timestamp",
     "output_type": "error",
     "traceback": [
      "\u001b[0;31m---------------------------------------------------------------------------\u001b[0m",
      "\u001b[0;31mTypeError\u001b[0m                                 Traceback (most recent call last)",
      "\u001b[0;32m<ipython-input-55-de3fb053463f>\u001b[0m in \u001b[0;36m<module>\u001b[0;34m\u001b[0m\n\u001b[0;32m----> 1\u001b[0;31m \u001b[0mpd\u001b[0m\u001b[0;34m.\u001b[0m\u001b[0mTimestamp\u001b[0m\u001b[0;34m(\u001b[0m\u001b[0mav_tr\u001b[0m\u001b[0;34m[\u001b[0m\u001b[0;34m'trip_start_time'\u001b[0m\u001b[0;34m]\u001b[0m\u001b[0;34m)\u001b[0m\u001b[0;34m\u001b[0m\u001b[0;34m\u001b[0m\u001b[0m\n\u001b[0m",
      "\u001b[0;32mpandas/_libs/tslibs/timestamps.pyx\u001b[0m in \u001b[0;36mpandas._libs.tslibs.timestamps.Timestamp.__new__\u001b[0;34m()\u001b[0m\n",
      "\u001b[0;32mpandas/_libs/tslibs/conversion.pyx\u001b[0m in \u001b[0;36mpandas._libs.tslibs.conversion.convert_to_tsobject\u001b[0;34m()\u001b[0m\n",
      "\u001b[0;31mTypeError\u001b[0m: Cannot convert input [0     2017-01-01\n1     2017-01-02\n2     2017-01-03\n3     2017-01-04\n4     2017-01-05\n         ...    \n360   2017-12-27\n361   2017-12-28\n362   2017-12-29\n363   2017-12-30\n364   2017-12-31\nName: trip_start_time, Length: 365, dtype: datetime64[ns]] of type <class 'pandas.core.series.Series'> to Timestamp"
     ]
    }
   ],
   "source": [
    "pd.Timestamp(av_tr['trip_start_time'])"
   ]
  },
  {
   "cell_type": "code",
   "execution_count": 54,
   "metadata": {},
   "outputs": [
    {
     "ename": "KeyError",
     "evalue": "\"None of [Index(['2017-01-01', '2017-01-02', '2017-01-03', '2017-01-04', '2017-01-05',\\n       '2017-01-06', '2017-01-07', '2017-01-08', '2017-01-09', '2017-01-10',\\n       ...\\n       '2017-12-22', '2017-12-23', '2017-12-24', '2017-12-25', '2017-12-26',\\n       '2017-12-27', '2017-12-28', '2017-12-29', '2017-12-30', '2017-12-31'],\\n      dtype='object', length=365)] are in the [columns]\"",
     "output_type": "error",
     "traceback": [
      "\u001b[0;31m---------------------------------------------------------------------------\u001b[0m",
      "\u001b[0;31mKeyError\u001b[0m                                  Traceback (most recent call last)",
      "\u001b[0;32m<ipython-input-54-53425893f97b>\u001b[0m in \u001b[0;36m<module>\u001b[0;34m\u001b[0m\n\u001b[0;32m----> 1\u001b[0;31m \u001b[0mav_tr\u001b[0m\u001b[0;34m.\u001b[0m\u001b[0mplot\u001b[0m\u001b[0;34m(\u001b[0m\u001b[0mav_tr\u001b[0m\u001b[0;34m[\u001b[0m\u001b[0;34m'trip_start_time'\u001b[0m\u001b[0;34m]\u001b[0m\u001b[0;34m.\u001b[0m\u001b[0mastype\u001b[0m\u001b[0;34m(\u001b[0m\u001b[0mstr\u001b[0m\u001b[0;34m)\u001b[0m\u001b[0;34m,\u001b[0m \u001b[0mav_tr\u001b[0m\u001b[0;34m[\u001b[0m\u001b[0;34m'actual_duration_minutes'\u001b[0m\u001b[0;34m]\u001b[0m\u001b[0;34m)\u001b[0m\u001b[0;34m\u001b[0m\u001b[0;34m\u001b[0m\u001b[0m\n\u001b[0m",
      "\u001b[0;32m~/Portfolio/Ops_Analysis_P1/P1_env/lib/python3.6/site-packages/pandas/plotting/_core.py\u001b[0m in \u001b[0;36m__call__\u001b[0;34m(self, *args, **kwargs)\u001b[0m\n\u001b[1;32m    810\u001b[0m                 \u001b[0;32mif\u001b[0m \u001b[0mis_integer\u001b[0m\u001b[0;34m(\u001b[0m\u001b[0mx\u001b[0m\u001b[0;34m)\u001b[0m \u001b[0;32mand\u001b[0m \u001b[0;32mnot\u001b[0m \u001b[0mdata\u001b[0m\u001b[0;34m.\u001b[0m\u001b[0mcolumns\u001b[0m\u001b[0;34m.\u001b[0m\u001b[0mholds_integer\u001b[0m\u001b[0;34m(\u001b[0m\u001b[0;34m)\u001b[0m\u001b[0;34m:\u001b[0m\u001b[0;34m\u001b[0m\u001b[0;34m\u001b[0m\u001b[0m\n\u001b[1;32m    811\u001b[0m                     \u001b[0mx\u001b[0m \u001b[0;34m=\u001b[0m \u001b[0mdata_cols\u001b[0m\u001b[0;34m[\u001b[0m\u001b[0mx\u001b[0m\u001b[0;34m]\u001b[0m\u001b[0;34m\u001b[0m\u001b[0;34m\u001b[0m\u001b[0m\n\u001b[0;32m--> 812\u001b[0;31m                 \u001b[0;32melif\u001b[0m \u001b[0;32mnot\u001b[0m \u001b[0misinstance\u001b[0m\u001b[0;34m(\u001b[0m\u001b[0mdata\u001b[0m\u001b[0;34m[\u001b[0m\u001b[0mx\u001b[0m\u001b[0;34m]\u001b[0m\u001b[0;34m,\u001b[0m \u001b[0mABCSeries\u001b[0m\u001b[0;34m)\u001b[0m\u001b[0;34m:\u001b[0m\u001b[0;34m\u001b[0m\u001b[0;34m\u001b[0m\u001b[0m\n\u001b[0m\u001b[1;32m    813\u001b[0m                     \u001b[0;32mraise\u001b[0m \u001b[0mValueError\u001b[0m\u001b[0;34m(\u001b[0m\u001b[0;34m\"x must be a label or position\"\u001b[0m\u001b[0;34m)\u001b[0m\u001b[0;34m\u001b[0m\u001b[0;34m\u001b[0m\u001b[0m\n\u001b[1;32m    814\u001b[0m                 \u001b[0mdata\u001b[0m \u001b[0;34m=\u001b[0m \u001b[0mdata\u001b[0m\u001b[0;34m.\u001b[0m\u001b[0mset_index\u001b[0m\u001b[0;34m(\u001b[0m\u001b[0mx\u001b[0m\u001b[0;34m)\u001b[0m\u001b[0;34m\u001b[0m\u001b[0;34m\u001b[0m\u001b[0m\n",
      "\u001b[0;32m~/Portfolio/Ops_Analysis_P1/P1_env/lib/python3.6/site-packages/pandas/core/frame.py\u001b[0m in \u001b[0;36m__getitem__\u001b[0;34m(self, key)\u001b[0m\n\u001b[1;32m   2804\u001b[0m             \u001b[0;32mif\u001b[0m \u001b[0mis_iterator\u001b[0m\u001b[0;34m(\u001b[0m\u001b[0mkey\u001b[0m\u001b[0;34m)\u001b[0m\u001b[0;34m:\u001b[0m\u001b[0;34m\u001b[0m\u001b[0;34m\u001b[0m\u001b[0m\n\u001b[1;32m   2805\u001b[0m                 \u001b[0mkey\u001b[0m \u001b[0;34m=\u001b[0m \u001b[0mlist\u001b[0m\u001b[0;34m(\u001b[0m\u001b[0mkey\u001b[0m\u001b[0;34m)\u001b[0m\u001b[0;34m\u001b[0m\u001b[0;34m\u001b[0m\u001b[0m\n\u001b[0;32m-> 2806\u001b[0;31m             \u001b[0mindexer\u001b[0m \u001b[0;34m=\u001b[0m \u001b[0mself\u001b[0m\u001b[0;34m.\u001b[0m\u001b[0mloc\u001b[0m\u001b[0;34m.\u001b[0m\u001b[0m_get_listlike_indexer\u001b[0m\u001b[0;34m(\u001b[0m\u001b[0mkey\u001b[0m\u001b[0;34m,\u001b[0m \u001b[0maxis\u001b[0m\u001b[0;34m=\u001b[0m\u001b[0;36m1\u001b[0m\u001b[0;34m,\u001b[0m \u001b[0mraise_missing\u001b[0m\u001b[0;34m=\u001b[0m\u001b[0;32mTrue\u001b[0m\u001b[0;34m)\u001b[0m\u001b[0;34m[\u001b[0m\u001b[0;36m1\u001b[0m\u001b[0;34m]\u001b[0m\u001b[0;34m\u001b[0m\u001b[0;34m\u001b[0m\u001b[0m\n\u001b[0m\u001b[1;32m   2807\u001b[0m \u001b[0;34m\u001b[0m\u001b[0m\n\u001b[1;32m   2808\u001b[0m         \u001b[0;31m# take() does not accept boolean indexers\u001b[0m\u001b[0;34m\u001b[0m\u001b[0;34m\u001b[0m\u001b[0;34m\u001b[0m\u001b[0m\n",
      "\u001b[0;32m~/Portfolio/Ops_Analysis_P1/P1_env/lib/python3.6/site-packages/pandas/core/indexing.py\u001b[0m in \u001b[0;36m_get_listlike_indexer\u001b[0;34m(self, key, axis, raise_missing)\u001b[0m\n\u001b[1;32m   1551\u001b[0m \u001b[0;34m\u001b[0m\u001b[0m\n\u001b[1;32m   1552\u001b[0m         self._validate_read_indexer(\n\u001b[0;32m-> 1553\u001b[0;31m             \u001b[0mkeyarr\u001b[0m\u001b[0;34m,\u001b[0m \u001b[0mindexer\u001b[0m\u001b[0;34m,\u001b[0m \u001b[0mo\u001b[0m\u001b[0;34m.\u001b[0m\u001b[0m_get_axis_number\u001b[0m\u001b[0;34m(\u001b[0m\u001b[0maxis\u001b[0m\u001b[0;34m)\u001b[0m\u001b[0;34m,\u001b[0m \u001b[0mraise_missing\u001b[0m\u001b[0;34m=\u001b[0m\u001b[0mraise_missing\u001b[0m\u001b[0;34m\u001b[0m\u001b[0;34m\u001b[0m\u001b[0m\n\u001b[0m\u001b[1;32m   1554\u001b[0m         )\n\u001b[1;32m   1555\u001b[0m         \u001b[0;32mreturn\u001b[0m \u001b[0mkeyarr\u001b[0m\u001b[0;34m,\u001b[0m \u001b[0mindexer\u001b[0m\u001b[0;34m\u001b[0m\u001b[0;34m\u001b[0m\u001b[0m\n",
      "\u001b[0;32m~/Portfolio/Ops_Analysis_P1/P1_env/lib/python3.6/site-packages/pandas/core/indexing.py\u001b[0m in \u001b[0;36m_validate_read_indexer\u001b[0;34m(self, key, indexer, axis, raise_missing)\u001b[0m\n\u001b[1;32m   1638\u001b[0m             \u001b[0;32mif\u001b[0m \u001b[0mmissing\u001b[0m \u001b[0;34m==\u001b[0m \u001b[0mlen\u001b[0m\u001b[0;34m(\u001b[0m\u001b[0mindexer\u001b[0m\u001b[0;34m)\u001b[0m\u001b[0;34m:\u001b[0m\u001b[0;34m\u001b[0m\u001b[0;34m\u001b[0m\u001b[0m\n\u001b[1;32m   1639\u001b[0m                 \u001b[0maxis_name\u001b[0m \u001b[0;34m=\u001b[0m \u001b[0mself\u001b[0m\u001b[0;34m.\u001b[0m\u001b[0mobj\u001b[0m\u001b[0;34m.\u001b[0m\u001b[0m_get_axis_name\u001b[0m\u001b[0;34m(\u001b[0m\u001b[0maxis\u001b[0m\u001b[0;34m)\u001b[0m\u001b[0;34m\u001b[0m\u001b[0;34m\u001b[0m\u001b[0m\n\u001b[0;32m-> 1640\u001b[0;31m                 \u001b[0;32mraise\u001b[0m \u001b[0mKeyError\u001b[0m\u001b[0;34m(\u001b[0m\u001b[0;34mf\"None of [{key}] are in the [{axis_name}]\"\u001b[0m\u001b[0;34m)\u001b[0m\u001b[0;34m\u001b[0m\u001b[0;34m\u001b[0m\u001b[0m\n\u001b[0m\u001b[1;32m   1641\u001b[0m \u001b[0;34m\u001b[0m\u001b[0m\n\u001b[1;32m   1642\u001b[0m             \u001b[0;31m# We (temporarily) allow for some missing keys with .loc, except in\u001b[0m\u001b[0;34m\u001b[0m\u001b[0;34m\u001b[0m\u001b[0;34m\u001b[0m\u001b[0m\n",
      "\u001b[0;31mKeyError\u001b[0m: \"None of [Index(['2017-01-01', '2017-01-02', '2017-01-03', '2017-01-04', '2017-01-05',\\n       '2017-01-06', '2017-01-07', '2017-01-08', '2017-01-09', '2017-01-10',\\n       ...\\n       '2017-12-22', '2017-12-23', '2017-12-24', '2017-12-25', '2017-12-26',\\n       '2017-12-27', '2017-12-28', '2017-12-29', '2017-12-30', '2017-12-31'],\\n      dtype='object', length=365)] are in the [columns]\""
     ]
    }
   ],
   "source": [
    "av_tr.plot(av_tr['trip_start_time'].astype(str), av_tr['actual_duration_minutes'])"
   ]
  },
  {
   "cell_type": "code",
   "execution_count": null,
   "metadata": {},
   "outputs": [],
   "source": [
    "df_2017.groupby()"
   ]
  },
  {
   "cell_type": "code",
   "execution_count": 46,
   "metadata": {},
   "outputs": [],
   "source": [
    "#df_2017.groupby('Quarter')['actual_duration_minutes'].mean().round(2).sort_values(ascending=False)#.plot.bar()"
   ]
  },
  {
   "cell_type": "code",
   "execution_count": 101,
   "metadata": {
    "colab": {
     "base_uri": "https://localhost:8080/",
     "height": 286
    },
    "colab_type": "code",
    "id": "WLUZK6qbW7vf",
    "outputId": "bbc9bf4f-5934-4256-c375-02ae82cc6c75"
   },
   "outputs": [
    {
     "data": {
      "text/html": [
       "<div>\n",
       "<style scoped>\n",
       "    .dataframe tbody tr th:only-of-type {\n",
       "        vertical-align: middle;\n",
       "    }\n",
       "\n",
       "    .dataframe tbody tr th {\n",
       "        vertical-align: top;\n",
       "    }\n",
       "\n",
       "    .dataframe thead th {\n",
       "        text-align: right;\n",
       "    }\n",
       "</style>\n",
       "<table border=\"1\" class=\"dataframe\">\n",
       "  <thead>\n",
       "    <tr style=\"text-align: right;\">\n",
       "      <th>trip_start_time_month</th>\n",
       "      <th>April</th>\n",
       "      <th>August</th>\n",
       "      <th>December</th>\n",
       "      <th>February</th>\n",
       "      <th>January</th>\n",
       "      <th>July</th>\n",
       "      <th>June</th>\n",
       "      <th>March</th>\n",
       "      <th>May</th>\n",
       "      <th>November</th>\n",
       "      <th>October</th>\n",
       "      <th>September</th>\n",
       "    </tr>\n",
       "    <tr>\n",
       "      <th>trip_start_time_weekday</th>\n",
       "      <th></th>\n",
       "      <th></th>\n",
       "      <th></th>\n",
       "      <th></th>\n",
       "      <th></th>\n",
       "      <th></th>\n",
       "      <th></th>\n",
       "      <th></th>\n",
       "      <th></th>\n",
       "      <th></th>\n",
       "      <th></th>\n",
       "      <th></th>\n",
       "    </tr>\n",
       "  </thead>\n",
       "  <tbody>\n",
       "    <tr>\n",
       "      <th>Wednesday</th>\n",
       "      <td>12335</td>\n",
       "      <td>31925</td>\n",
       "      <td>5485</td>\n",
       "      <td>14505</td>\n",
       "      <td>7028</td>\n",
       "      <td>21032</td>\n",
       "      <td>30059</td>\n",
       "      <td>16721</td>\n",
       "      <td>22002</td>\n",
       "      <td>20594</td>\n",
       "      <td>13631</td>\n",
       "      <td>24914</td>\n",
       "    </tr>\n",
       "    <tr>\n",
       "      <th>Thursday</th>\n",
       "      <td>10275</td>\n",
       "      <td>20247</td>\n",
       "      <td>14021</td>\n",
       "      <td>14299</td>\n",
       "      <td>6693</td>\n",
       "      <td>17878</td>\n",
       "      <td>32345</td>\n",
       "      <td>15419</td>\n",
       "      <td>12058</td>\n",
       "      <td>20396</td>\n",
       "      <td>13586</td>\n",
       "      <td>29315</td>\n",
       "    </tr>\n",
       "    <tr>\n",
       "      <th>Tuesday</th>\n",
       "      <td>10136</td>\n",
       "      <td>29925</td>\n",
       "      <td>3499</td>\n",
       "      <td>12489</td>\n",
       "      <td>6254</td>\n",
       "      <td>14285</td>\n",
       "      <td>18623</td>\n",
       "      <td>13832</td>\n",
       "      <td>25142</td>\n",
       "      <td>22092</td>\n",
       "      <td>18683</td>\n",
       "      <td>16450</td>\n",
       "    </tr>\n",
       "    <tr>\n",
       "      <th>Friday</th>\n",
       "      <td>17645</td>\n",
       "      <td>15456</td>\n",
       "      <td>9142</td>\n",
       "      <td>6155</td>\n",
       "      <td>6931</td>\n",
       "      <td>26809</td>\n",
       "      <td>32979</td>\n",
       "      <td>8053</td>\n",
       "      <td>12729</td>\n",
       "      <td>9044</td>\n",
       "      <td>20964</td>\n",
       "      <td>30900</td>\n",
       "    </tr>\n",
       "    <tr>\n",
       "      <th>Monday</th>\n",
       "      <td>12066</td>\n",
       "      <td>28899</td>\n",
       "      <td>1795</td>\n",
       "      <td>5787</td>\n",
       "      <td>13886</td>\n",
       "      <td>19489</td>\n",
       "      <td>19638</td>\n",
       "      <td>7408</td>\n",
       "      <td>21902</td>\n",
       "      <td>12282</td>\n",
       "      <td>22919</td>\n",
       "      <td>15607</td>\n",
       "    </tr>\n",
       "    <tr>\n",
       "      <th>Saturday</th>\n",
       "      <td>15901</td>\n",
       "      <td>14528</td>\n",
       "      <td>10030</td>\n",
       "      <td>4229</td>\n",
       "      <td>8791</td>\n",
       "      <td>23474</td>\n",
       "      <td>20689</td>\n",
       "      <td>3322</td>\n",
       "      <td>12150</td>\n",
       "      <td>4330</td>\n",
       "      <td>18958</td>\n",
       "      <td>27633</td>\n",
       "    </tr>\n",
       "    <tr>\n",
       "      <th>Sunday</th>\n",
       "      <td>18314</td>\n",
       "      <td>21452</td>\n",
       "      <td>1641</td>\n",
       "      <td>3653</td>\n",
       "      <td>10344</td>\n",
       "      <td>23316</td>\n",
       "      <td>16195</td>\n",
       "      <td>3388</td>\n",
       "      <td>19911</td>\n",
       "      <td>4312</td>\n",
       "      <td>21371</td>\n",
       "      <td>14306</td>\n",
       "    </tr>\n",
       "  </tbody>\n",
       "</table>\n",
       "</div>"
      ],
      "text/plain": [
       "trip_start_time_month    April  August  December  ...  November  October  September\n",
       "trip_start_time_weekday                           ...                              \n",
       "Wednesday                12335   31925      5485  ...     20594    13631      24914\n",
       "Thursday                 10275   20247     14021  ...     20396    13586      29315\n",
       "Tuesday                  10136   29925      3499  ...     22092    18683      16450\n",
       "Friday                   17645   15456      9142  ...      9044    20964      30900\n",
       "Monday                   12066   28899      1795  ...     12282    22919      15607\n",
       "Saturday                 15901   14528     10030  ...      4330    18958      27633\n",
       "Sunday                   18314   21452      1641  ...      4312    21371      14306\n",
       "\n",
       "[7 rows x 12 columns]"
      ]
     },
     "execution_count": 101,
     "metadata": {
      "tags": []
     },
     "output_type": "execute_result"
    }
   ],
   "source": [
    "#DATA ANALYSIS\n",
    "#Most popular weekdays by Quarter\n",
    "data.groupby(['trip_start_time_weekday','trip_start_time_month'])['trip_duration_seconds'].count().unstack().sort_values(by = 'February', ascending = False)"
   ]
  },
  {
   "cell_type": "code",
   "execution_count": 415,
   "metadata": {
    "colab": {
     "base_uri": "https://localhost:8080/",
     "height": 286
    },
    "colab_type": "code",
    "id": "SGAGAofTXNeP",
    "outputId": "4fdb5b5c-1912-4e9a-b42c-83f8dd073b13"
   },
   "outputs": [
    {
     "ename": "NameError",
     "evalue": "name 'data' is not defined",
     "output_type": "error",
     "traceback": [
      "\u001b[0;31m---------------------------------------------------------------------------\u001b[0m",
      "\u001b[0;31mNameError\u001b[0m                                 Traceback (most recent call last)",
      "\u001b[0;32m<ipython-input-415-f6a2c4e45ec5>\u001b[0m in \u001b[0;36m<module>\u001b[0;34m\u001b[0m\n\u001b[0;32m----> 1\u001b[0;31m \u001b[0mdata\u001b[0m\u001b[0;34m.\u001b[0m\u001b[0mgroupby\u001b[0m\u001b[0;34m(\u001b[0m\u001b[0;34m[\u001b[0m\u001b[0;34m'trip_start_time_weekday'\u001b[0m\u001b[0;34m,\u001b[0m\u001b[0;34m'Quarter'\u001b[0m\u001b[0;34m]\u001b[0m\u001b[0;34m)\u001b[0m\u001b[0;34m[\u001b[0m\u001b[0;34m'trip_duration_seconds'\u001b[0m\u001b[0;34m]\u001b[0m\u001b[0;34m.\u001b[0m\u001b[0mcount\u001b[0m\u001b[0;34m(\u001b[0m\u001b[0;34m)\u001b[0m\u001b[0;34m.\u001b[0m\u001b[0mreset_index\u001b[0m\u001b[0;34m(\u001b[0m\u001b[0;34m)\u001b[0m\u001b[0;34m.\u001b[0m\u001b[0munstack\u001b[0m\u001b[0;34m(\u001b[0m\u001b[0;34m)\u001b[0m\u001b[0;34m.\u001b[0m\u001b[0msort_values\u001b[0m\u001b[0;34m(\u001b[0m\u001b[0mby\u001b[0m \u001b[0;34m=\u001b[0m \u001b[0;34m'Q1'\u001b[0m\u001b[0;34m,\u001b[0m \u001b[0mascending\u001b[0m \u001b[0;34m=\u001b[0m \u001b[0;32mFalse\u001b[0m\u001b[0;34m)\u001b[0m\u001b[0;34m\u001b[0m\u001b[0;34m\u001b[0m\u001b[0m\n\u001b[0m",
      "\u001b[0;31mNameError\u001b[0m: name 'data' is not defined"
     ]
    }
   ],
   "source": [
    "data.groupby(['trip_start_time_weekday','Quarter'])['trip_duration_seconds'].count().reset_index().unstack().sort_values(by = 'Q1', ascending = False)"
   ]
  },
  {
   "cell_type": "code",
   "execution_count": 103,
   "metadata": {
    "colab": {
     "base_uri": "https://localhost:8080/",
     "height": 599
    },
    "colab_type": "code",
    "id": "-sWnfazcYxHc",
    "outputId": "5d9d96ff-986e-4894-e408-d4eb07e52f5b"
   },
   "outputs": [
    {
     "data": {
      "image/png": "[encoded data removed]",
      "text/plain": [
       "<Figure size 1080x576 with 1 Axes>"
      ]
     },
     "metadata": {
      "needs_background": "light",
      "tags": []
     },
     "output_type": "display_data"
    }
   ],
   "source": [
    "#Data Visualization\n",
    "data.pivot_table(values ='trip_duration_seconds', columns = ['Quarter'], index = 'trip_start_time_weekday', aggfunc = 'count').sort_values(by ='Q1', ascending = False).plot.bar()\n",
    "plt.title('Trip Count of Weekdays by Quarter')\n",
    "plt.ylabel('Trip Duration(s)')\n",
    "plt.xlabel('Weekdays')\n",
    "from pylab import *\n",
    "rcParams['figure.figsize'] = 15,8\n",
    "plt.rcParams.update({'font.size': 15})"
   ]
  },
  {
   "cell_type": "code",
   "execution_count": 104,
   "metadata": {
    "colab": {
     "base_uri": "https://localhost:8080/",
     "height": 286
    },
    "colab_type": "code",
    "id": "UKDSk4E-Zz3E",
    "outputId": "917687eb-ff84-429a-d7c8-28c6c6d39942"
   },
   "outputs": [
    {
     "data": {
      "text/html": [
       "<div>\n",
       "<style scoped>\n",
       "    .dataframe tbody tr th:only-of-type {\n",
       "        vertical-align: middle;\n",
       "    }\n",
       "\n",
       "    .dataframe tbody tr th {\n",
       "        vertical-align: top;\n",
       "    }\n",
       "\n",
       "    .dataframe thead th {\n",
       "        text-align: right;\n",
       "    }\n",
       "</style>\n",
       "<table border=\"1\" class=\"dataframe\">\n",
       "  <thead>\n",
       "    <tr style=\"text-align: right;\">\n",
       "      <th></th>\n",
       "      <th>booked_duration</th>\n",
       "    </tr>\n",
       "    <tr>\n",
       "      <th>trip_start_time_weekday</th>\n",
       "      <th></th>\n",
       "    </tr>\n",
       "  </thead>\n",
       "  <tbody>\n",
       "    <tr>\n",
       "      <th>Saturday</th>\n",
       "      <td>6286.36</td>\n",
       "    </tr>\n",
       "    <tr>\n",
       "      <th>Sunday</th>\n",
       "      <td>4468.26</td>\n",
       "    </tr>\n",
       "    <tr>\n",
       "      <th>Thursday</th>\n",
       "      <td>3732.22</td>\n",
       "    </tr>\n",
       "    <tr>\n",
       "      <th>Monday</th>\n",
       "      <td>3574.47</td>\n",
       "    </tr>\n",
       "    <tr>\n",
       "      <th>Tuesday</th>\n",
       "      <td>3196.21</td>\n",
       "    </tr>\n",
       "    <tr>\n",
       "      <th>Friday</th>\n",
       "      <td>2999.49</td>\n",
       "    </tr>\n",
       "    <tr>\n",
       "      <th>Wednesday</th>\n",
       "      <td>2976.41</td>\n",
       "    </tr>\n",
       "  </tbody>\n",
       "</table>\n",
       "</div>"
      ],
      "text/plain": [
       "                         booked_duration\n",
       "trip_start_time_weekday                 \n",
       "Saturday                         6286.36\n",
       "Sunday                           4468.26\n",
       "Thursday                         3732.22\n",
       "Monday                           3574.47\n",
       "Tuesday                          3196.21\n",
       "Friday                           2999.49\n",
       "Wednesday                        2976.41"
      ]
     },
     "execution_count": 104,
     "metadata": {
      "tags": []
     },
     "output_type": "execute_result"
    }
   ],
   "source": [
    "#Average ride time per day of the week, month --(startday_of_month,trip_start_time_weekday )\n",
    "#Per Day of the Week\n",
    "data.groupby(['trip_start_time_weekday'])[['booked_duration']].mean().sort_values(by = 'booked_duration', ascending = False).round(2)  #.head(4)"
   ]
  },
  {
   "cell_type": "code",
   "execution_count": 105,
   "metadata": {
    "colab": {
     "base_uri": "https://localhost:8080/",
     "height": 197
    },
    "colab_type": "code",
    "id": "6XLxuKegcRgG",
    "outputId": "f45319b8-2f9c-46ce-8388-0366bac113ac"
   },
   "outputs": [
    {
     "data": {
      "text/html": [
       "<div>\n",
       "<style scoped>\n",
       "    .dataframe tbody tr th:only-of-type {\n",
       "        vertical-align: middle;\n",
       "    }\n",
       "\n",
       "    .dataframe tbody tr th {\n",
       "        vertical-align: top;\n",
       "    }\n",
       "\n",
       "    .dataframe thead th {\n",
       "        text-align: right;\n",
       "    }\n",
       "</style>\n",
       "<table border=\"1\" class=\"dataframe\">\n",
       "  <thead>\n",
       "    <tr style=\"text-align: right;\">\n",
       "      <th></th>\n",
       "      <th>booked_duration</th>\n",
       "    </tr>\n",
       "    <tr>\n",
       "      <th>startday_of_month</th>\n",
       "      <th></th>\n",
       "    </tr>\n",
       "  </thead>\n",
       "  <tbody>\n",
       "    <tr>\n",
       "      <th>7</th>\n",
       "      <td>16924.69</td>\n",
       "    </tr>\n",
       "    <tr>\n",
       "      <th>8</th>\n",
       "      <td>13866.09</td>\n",
       "    </tr>\n",
       "    <tr>\n",
       "      <th>9</th>\n",
       "      <td>11449.20</td>\n",
       "    </tr>\n",
       "    <tr>\n",
       "      <th>16</th>\n",
       "      <td>1195.56</td>\n",
       "    </tr>\n",
       "  </tbody>\n",
       "</table>\n",
       "</div>"
      ],
      "text/plain": [
       "                   booked_duration\n",
       "startday_of_month                 \n",
       "7                         16924.69\n",
       "8                         13866.09\n",
       "9                         11449.20\n",
       "16                         1195.56"
      ]
     },
     "execution_count": 105,
     "metadata": {
      "tags": []
     },
     "output_type": "execute_result"
    }
   ],
   "source": [
    "#Average ride time per day of the week, month --(startday_of_month,trip_start_time_weekday )\n",
    "#Per Day of the Month\n",
    "data.groupby(['startday_of_month'])[['booked_duration']].mean().sort_values(by = 'booked_duration', ascending = False).round(2).head(4)"
   ]
  },
  {
   "cell_type": "code",
   "execution_count": 106,
   "metadata": {
    "colab": {
     "base_uri": "https://localhost:8080/",
     "height": 616
    },
    "colab_type": "code",
    "id": "-rG_SIn8dAk3",
    "outputId": "3addc9cd-d9ca-40e5-8bbe-3f25d25cedc8"
   },
   "outputs": [
    {
     "data": {
      "text/plain": [
       "Text(0.5, 0, 'Weekdays')"
      ]
     },
     "execution_count": 106,
     "metadata": {
      "tags": []
     },
     "output_type": "execute_result"
    },
    {
     "data": {
      "image/png": "[encoded data removed]",
      "text/plain": [
       "<Figure size 1080x576 with 1 Axes>"
      ]
     },
     "metadata": {
      "needs_background": "light",
      "tags": []
     },
     "output_type": "display_data"
    }
   ],
   "source": [
    "#Data Visualization\n",
    "data.groupby(['trip_start_time_weekday'])[['booked_duration']].mean().sort_values(by = 'booked_duration', ascending = False).round(2).plot.bar()\n",
    "plt.title('Average Ride Time Per Weekday')\n",
    "plt.ylabel('Average Ride Time')\n",
    "plt.xlabel('Weekdays')"
   ]
  },
  {
   "cell_type": "code",
   "execution_count": 0,
   "metadata": {
    "colab": {},
    "colab_type": "code",
    "id": "xyW2QO3ydjp_"
   },
   "outputs": [],
   "source": [
    "#Average daily trips per month\n",
    "data.groupby('trip_start_time_month').count()    #['trip_duration_seconds'].sum().mean()"
   ]
  },
  {
   "cell_type": "code",
   "execution_count": 107,
   "metadata": {
    "colab": {
     "base_uri": "https://localhost:8080/",
     "height": 221
    },
    "colab_type": "code",
    "id": "TpSUyIeVdpQg",
    "outputId": "0e61ca9f-b5fc-4c24-bd04-c0db1c148fa2"
   },
   "outputs": [
    {
     "name": "stdout",
     "output_type": "stream",
     "text": [
      "Average daily trips for January is 1933.1290322580646\n",
      "Average daily trips for February is 2182.75\n",
      "Average daily trips for March is 2198.1612903225805\n",
      "Average daily trips for April is 3222.4\n",
      "Average daily trips for May is 4061.0967741935483\n",
      "Average daily trips for June is 5684.266666666666\n",
      "Average daily trips for July is 4718.806451612903\n",
      "Average daily trips for August is 5239.741935483871\n",
      "Average daily trips for September is 5133.064516129032\n",
      "Average daily trips for October is 4197.1612903225805\n",
      "Average daily trips for November is 3101.6666666666665\n",
      "Average daily trips for December is 1471.3870967741937\n"
     ]
    }
   ],
   "source": [
    "#Get count of trips for each month, then divide by number of days per month for the average daily trips per month\n",
    "Months = ['January','February','March','April','May','June','July','August','September','October','November','December']\n",
    "trips_per_months = []\n",
    "for month in Months:\n",
    "  if month == Months[1]:\n",
    "    trips_per_months.append(data[data['trip_start_time_month'] == month].shape[0] /28)\n",
    "  elif month in ['April','June','November']:\n",
    "    trips_per_months.append(data[data['trip_start_time_month'] == month].shape[0] /30)\n",
    "  else:\n",
    "    trips_per_months.append(data[data['trip_start_time_month'] == month].shape[0] /31)\n",
    "for month, average in zip(Months, trips_per_months):\n",
    "  print(f'Average daily trips for {month} is {average}')"
   ]
  },
  {
   "cell_type": "code",
   "execution_count": 109,
   "metadata": {
    "colab": {
     "base_uri": "https://localhost:8080/",
     "height": 221
    },
    "colab_type": "code",
    "id": "vixb6xgTe6qF",
    "outputId": "7a17a050-4893-4a2a-9067-05619c40e132"
   },
   "outputs": [
    {
     "data": {
      "text/plain": [
       "Union Station                                 23139\n",
       "Simcoe St / Wellington St W                   19255\n",
       "York St / Queens Quay W                       18184\n",
       "King St W / Spadina Ave                       17032\n",
       "Queen St W / Portland St                      15583\n",
       "                                              ...  \n",
       "Dufferin Gate - SMART                           203\n",
       "Victoria Park Subway Station - SMART            143\n",
       "Summerhill Ave / MacLennan Ave - SMART          131\n",
       "Dundas St W / Roncesvalles Green P - SMART      108\n",
       "Fringe Next Stage - 7219                         29\n",
       "Name: from_station_name, Length: 292, dtype: int64"
      ]
     },
     "execution_count": 109,
     "metadata": {
      "tags": []
     },
     "output_type": "execute_result"
    }
   ],
   "source": [
    "#Popular start stations \n",
    "data['from_station_name'].value_counts()"
   ]
  },
  {
   "cell_type": "code",
   "execution_count": 110,
   "metadata": {
    "colab": {
     "base_uri": "https://localhost:8080/",
     "height": 221
    },
    "colab_type": "code",
    "id": "I6hxwiaxfrZe",
    "outputId": "ece84abe-0c0e-484c-c0b1-24419ef2966f"
   },
   "outputs": [
    {
     "data": {
      "text/plain": [
       "Union Station                              9989\n",
       "Simcoe St / Wellington St W                8068\n",
       "Dundas St / Yonge St                       7443\n",
       "King St W / Spadina Ave                    7395\n",
       "Princess St / Adelaide St                  6685\n",
       "                                           ... \n",
       "Danforth Ave / Barrington Ave               189\n",
       "Lansdowne Ave / Whytock Ave                 176\n",
       "Stephenson Ave / Main St                    164\n",
       "Danforth Ave / Westlake Ave                 126\n",
       "Woodbine Subway Green P (Cedarvale Ave)     122\n",
       "Name: to_station_name, Length: 200, dtype: int64"
      ]
     },
     "execution_count": 110,
     "metadata": {
      "tags": []
     },
     "output_type": "execute_result"
    }
   ],
   "source": [
    "#Popular start stations \n",
    "data['to_station_name'].value_counts()"
   ]
  },
  {
   "cell_type": "code",
   "execution_count": 111,
   "metadata": {
    "colab": {
     "base_uri": "https://localhost:8080/",
     "height": 34
    },
    "colab_type": "code",
    "id": "d2kaa345gO4g",
    "outputId": "3b507481-c672-496e-ab59-6a9c9c35ebbf"
   },
   "outputs": [
    {
     "data": {
      "text/plain": [
       "554424"
      ]
     },
     "execution_count": 111,
     "metadata": {
      "tags": []
     },
     "output_type": "execute_result"
    }
   ],
   "source": [
    "#Total Overage trips\n",
    "data[data['overage'] > 0].shape[0]"
   ]
  },
  {
   "cell_type": "code",
   "execution_count": 112,
   "metadata": {
    "colab": {
     "base_uri": "https://localhost:8080/",
     "height": 34
    },
    "colab_type": "code",
    "id": "lW0JnxgRghA0",
    "outputId": "7661cef2-a5f6-4484-9706-ad7bbab05267"
   },
   "outputs": [
    {
     "data": {
      "text/plain": [
       "2240032"
      ]
     },
     "execution_count": 112,
     "metadata": {
      "tags": []
     },
     "output_type": "execute_result"
    }
   ],
   "source": [
    "#Money made from overage\n",
    "data['overage_charges'].sum()"
   ]
  },
  {
   "cell_type": "code",
   "execution_count": 113,
   "metadata": {
    "colab": {
     "base_uri": "https://localhost:8080/",
     "height": 85
    },
    "colab_type": "code",
    "id": "Xn5PQW73gnHs",
    "outputId": "98bdae72-4c10-4e5b-bc2c-393ec48c3cc9"
   },
   "outputs": [
    {
     "data": {
      "text/plain": [
       "user_type\n",
       "Casual    153348\n",
       "Member    762408\n",
       "Name: overage_charges, dtype: int64"
      ]
     },
     "execution_count": 113,
     "metadata": {
      "tags": []
     },
     "output_type": "execute_result"
    }
   ],
   "source": [
    "#show by type and member/non member (Note that User_type column has a lot of NaN values as such money made for such records cannot be directly calculated)\n",
    "data.groupby('user_type')['overage_charges'].sum()"
   ]
  },
  {
   "cell_type": "code",
   "execution_count": 114,
   "metadata": {
    "colab": {
     "base_uri": "https://localhost:8080/",
     "height": 102
    },
    "colab_type": "code",
    "id": "XSKv_wQfhKnM",
    "outputId": "ea07f60d-35eb-41da-9448-a3db2eafdc44"
   },
   "outputs": [
    {
     "data": {
      "text/plain": [
       "overage_charges\n",
       "0           0\n",
       "4     2212112\n",
       "20      27920\n",
       "Name: overage_charges, dtype: int64"
      ]
     },
     "execution_count": 114,
     "metadata": {
      "tags": []
     },
     "output_type": "execute_result"
    }
   ],
   "source": [
    "#By Type\n",
    "data.groupby(['overage_charges'])['overage_charges'].sum()"
   ]
  },
  {
   "cell_type": "markdown",
   "metadata": {
    "colab_type": "text",
    "id": "kEBHiXXLlfLN"
   },
   "source": [
    "#Types of overage: \n",
    "Type 1  0-30 minutes  --> 2212112\n",
    "\n",
    "Type 2  31-60 minutes --> 0.00\n",
    "\n",
    "Type 3  61-90 minutes --> 0.00\n",
    "\n",
    "Type 4  91-120 minutes -> 0.00\n",
    "\n",
    "Type 5 120+ minutes ----> 27920"
   ]
  },
  {
   "cell_type": "code",
   "execution_count": 2,
   "metadata": {},
   "outputs": [],
   "source": [
    "import numpy as np"
   ]
  },
  {
   "cell_type": "code",
   "execution_count": 426,
   "metadata": {},
   "outputs": [
    {
     "data": {
      "text/plain": [
       "trip_id                      int64\n",
       "trip_start_time             object\n",
       "trip_stop_time              object\n",
       "booked_duration_seconds    float64\n",
       "from_station_id             object\n",
       "from_station_name           object\n",
       "to_station_id               object\n",
       "to_station_name             object\n",
       "user_type                   object\n",
       "actual_duration              int64\n",
       "overage                    float64\n",
       "overage_charges              int64\n",
       "trip_start_weekday          object\n",
       "trip_start_DayOfMonth        int64\n",
       "trip_start_time_month       object\n",
       "Quarter                     object\n",
       "actual_duration_minutes    float64\n",
       "dtype: object"
      ]
     },
     "execution_count": 426,
     "metadata": {},
     "output_type": "execute_result"
    }
   ],
   "source": [
    "df_17.dtypes"
   ]
  },
  {
   "cell_type": "code",
   "execution_count": 5,
   "metadata": {},
   "outputs": [],
   "source": []
  },
  {
   "cell_type": "code",
   "execution_count": 1,
   "metadata": {},
   "outputs": [
    {
     "ename": "NameError",
     "evalue": "name 'd1' is not defined",
     "output_type": "error",
     "traceback": [
      "\u001b[0;31m---------------------------------------------------------------------------\u001b[0m",
      "\u001b[0;31mNameError\u001b[0m                                 Traceback (most recent call last)",
      "\u001b[0;32m<ipython-input-1-c82648ba36e9>\u001b[0m in \u001b[0;36m<module>\u001b[0;34m\u001b[0m\n\u001b[0;32m----> 1\u001b[0;31m \u001b[0md1\u001b[0m\u001b[0;34m.\u001b[0m\u001b[0mdtypes\u001b[0m\u001b[0;34m\u001b[0m\u001b[0;34m\u001b[0m\u001b[0m\n\u001b[0m",
      "\u001b[0;31mNameError\u001b[0m: name 'd1' is not defined"
     ]
    }
   ],
   "source": [
    "d1.dtypes"
   ]
  },
  {
   "cell_type": "code",
   "execution_count": 17,
   "metadata": {},
   "outputs": [
    {
     "data": {
      "text/html": [
       "<div>\n",
       "<style scoped>\n",
       "    .dataframe tbody tr th:only-of-type {\n",
       "        vertical-align: middle;\n",
       "    }\n",
       "\n",
       "    .dataframe tbody tr th {\n",
       "        vertical-align: top;\n",
       "    }\n",
       "\n",
       "    .dataframe thead th {\n",
       "        text-align: right;\n",
       "    }\n",
       "</style>\n",
       "<table border=\"1\" class=\"dataframe\">\n",
       "  <thead>\n",
       "    <tr style=\"text-align: right;\">\n",
       "      <th></th>\n",
       "      <th>trip_id</th>\n",
       "      <th>trip_start_time</th>\n",
       "      <th>trip_stop_time</th>\n",
       "      <th>booked_duration_seconds</th>\n",
       "      <th>from_station_id</th>\n",
       "      <th>from_station_name</th>\n",
       "      <th>to_station_id</th>\n",
       "      <th>to_station_name</th>\n",
       "      <th>user_type</th>\n",
       "      <th>actual_duration</th>\n",
       "      <th>overage</th>\n",
       "      <th>overage_charges</th>\n",
       "      <th>trip_start_weekday</th>\n",
       "      <th>trip_start_DayOfMonth</th>\n",
       "      <th>trip_start_time_month</th>\n",
       "      <th>Quarter</th>\n",
       "      <th>actual_duration_minutes</th>\n",
       "    </tr>\n",
       "    <tr>\n",
       "      <th>trip_start_time</th>\n",
       "      <th></th>\n",
       "      <th></th>\n",
       "      <th></th>\n",
       "      <th></th>\n",
       "      <th></th>\n",
       "      <th></th>\n",
       "      <th></th>\n",
       "      <th></th>\n",
       "      <th></th>\n",
       "      <th></th>\n",
       "      <th></th>\n",
       "      <th></th>\n",
       "      <th></th>\n",
       "      <th></th>\n",
       "      <th></th>\n",
       "      <th></th>\n",
       "      <th></th>\n",
       "    </tr>\n",
       "  </thead>\n",
       "  <tbody>\n",
       "    <tr>\n",
       "      <th>2017-01-01</th>\n",
       "      <td>487</td>\n",
       "      <td>487</td>\n",
       "      <td>487</td>\n",
       "      <td>487</td>\n",
       "      <td>487</td>\n",
       "      <td>487</td>\n",
       "      <td>487</td>\n",
       "      <td>487</td>\n",
       "      <td>487</td>\n",
       "      <td>487</td>\n",
       "      <td>487</td>\n",
       "      <td>487</td>\n",
       "      <td>487</td>\n",
       "      <td>487</td>\n",
       "      <td>487</td>\n",
       "      <td>487</td>\n",
       "      <td>487</td>\n",
       "    </tr>\n",
       "    <tr>\n",
       "      <th>2017-01-02</th>\n",
       "      <td>775</td>\n",
       "      <td>775</td>\n",
       "      <td>775</td>\n",
       "      <td>775</td>\n",
       "      <td>775</td>\n",
       "      <td>775</td>\n",
       "      <td>775</td>\n",
       "      <td>775</td>\n",
       "      <td>775</td>\n",
       "      <td>775</td>\n",
       "      <td>775</td>\n",
       "      <td>775</td>\n",
       "      <td>775</td>\n",
       "      <td>775</td>\n",
       "      <td>775</td>\n",
       "      <td>775</td>\n",
       "      <td>775</td>\n",
       "    </tr>\n",
       "    <tr>\n",
       "      <th>2017-01-03</th>\n",
       "      <td>918</td>\n",
       "      <td>918</td>\n",
       "      <td>918</td>\n",
       "      <td>918</td>\n",
       "      <td>918</td>\n",
       "      <td>918</td>\n",
       "      <td>918</td>\n",
       "      <td>918</td>\n",
       "      <td>918</td>\n",
       "      <td>918</td>\n",
       "      <td>918</td>\n",
       "      <td>918</td>\n",
       "      <td>918</td>\n",
       "      <td>918</td>\n",
       "      <td>918</td>\n",
       "      <td>918</td>\n",
       "      <td>918</td>\n",
       "    </tr>\n",
       "    <tr>\n",
       "      <th>2017-01-04</th>\n",
       "      <td>1359</td>\n",
       "      <td>1359</td>\n",
       "      <td>1359</td>\n",
       "      <td>1359</td>\n",
       "      <td>1359</td>\n",
       "      <td>1359</td>\n",
       "      <td>1359</td>\n",
       "      <td>1359</td>\n",
       "      <td>1359</td>\n",
       "      <td>1359</td>\n",
       "      <td>1359</td>\n",
       "      <td>1359</td>\n",
       "      <td>1359</td>\n",
       "      <td>1359</td>\n",
       "      <td>1359</td>\n",
       "      <td>1359</td>\n",
       "      <td>1359</td>\n",
       "    </tr>\n",
       "    <tr>\n",
       "      <th>2017-01-05</th>\n",
       "      <td>1202</td>\n",
       "      <td>1202</td>\n",
       "      <td>1202</td>\n",
       "      <td>1202</td>\n",
       "      <td>1202</td>\n",
       "      <td>1202</td>\n",
       "      <td>1202</td>\n",
       "      <td>1202</td>\n",
       "      <td>1202</td>\n",
       "      <td>1202</td>\n",
       "      <td>1202</td>\n",
       "      <td>1202</td>\n",
       "      <td>1202</td>\n",
       "      <td>1202</td>\n",
       "      <td>1202</td>\n",
       "      <td>1202</td>\n",
       "      <td>1202</td>\n",
       "    </tr>\n",
       "    <tr>\n",
       "      <th>...</th>\n",
       "      <td>...</td>\n",
       "      <td>...</td>\n",
       "      <td>...</td>\n",
       "      <td>...</td>\n",
       "      <td>...</td>\n",
       "      <td>...</td>\n",
       "      <td>...</td>\n",
       "      <td>...</td>\n",
       "      <td>...</td>\n",
       "      <td>...</td>\n",
       "      <td>...</td>\n",
       "      <td>...</td>\n",
       "      <td>...</td>\n",
       "      <td>...</td>\n",
       "      <td>...</td>\n",
       "      <td>...</td>\n",
       "      <td>...</td>\n",
       "    </tr>\n",
       "    <tr>\n",
       "      <th>2017-12-27</th>\n",
       "      <td>641</td>\n",
       "      <td>641</td>\n",
       "      <td>641</td>\n",
       "      <td>641</td>\n",
       "      <td>641</td>\n",
       "      <td>641</td>\n",
       "      <td>641</td>\n",
       "      <td>0</td>\n",
       "      <td>0</td>\n",
       "      <td>641</td>\n",
       "      <td>641</td>\n",
       "      <td>641</td>\n",
       "      <td>641</td>\n",
       "      <td>641</td>\n",
       "      <td>641</td>\n",
       "      <td>641</td>\n",
       "      <td>641</td>\n",
       "    </tr>\n",
       "    <tr>\n",
       "      <th>2017-12-28</th>\n",
       "      <td>640</td>\n",
       "      <td>640</td>\n",
       "      <td>640</td>\n",
       "      <td>640</td>\n",
       "      <td>640</td>\n",
       "      <td>640</td>\n",
       "      <td>640</td>\n",
       "      <td>0</td>\n",
       "      <td>0</td>\n",
       "      <td>640</td>\n",
       "      <td>640</td>\n",
       "      <td>640</td>\n",
       "      <td>640</td>\n",
       "      <td>640</td>\n",
       "      <td>640</td>\n",
       "      <td>640</td>\n",
       "      <td>640</td>\n",
       "    </tr>\n",
       "    <tr>\n",
       "      <th>2017-12-29</th>\n",
       "      <td>446</td>\n",
       "      <td>446</td>\n",
       "      <td>446</td>\n",
       "      <td>446</td>\n",
       "      <td>446</td>\n",
       "      <td>446</td>\n",
       "      <td>446</td>\n",
       "      <td>0</td>\n",
       "      <td>0</td>\n",
       "      <td>446</td>\n",
       "      <td>446</td>\n",
       "      <td>446</td>\n",
       "      <td>446</td>\n",
       "      <td>446</td>\n",
       "      <td>446</td>\n",
       "      <td>446</td>\n",
       "      <td>446</td>\n",
       "    </tr>\n",
       "    <tr>\n",
       "      <th>2017-12-30</th>\n",
       "      <td>412</td>\n",
       "      <td>412</td>\n",
       "      <td>412</td>\n",
       "      <td>412</td>\n",
       "      <td>412</td>\n",
       "      <td>412</td>\n",
       "      <td>412</td>\n",
       "      <td>0</td>\n",
       "      <td>0</td>\n",
       "      <td>412</td>\n",
       "      <td>412</td>\n",
       "      <td>412</td>\n",
       "      <td>412</td>\n",
       "      <td>412</td>\n",
       "      <td>412</td>\n",
       "      <td>412</td>\n",
       "      <td>412</td>\n",
       "    </tr>\n",
       "    <tr>\n",
       "      <th>2017-12-31</th>\n",
       "      <td>382</td>\n",
       "      <td>382</td>\n",
       "      <td>382</td>\n",
       "      <td>382</td>\n",
       "      <td>382</td>\n",
       "      <td>382</td>\n",
       "      <td>382</td>\n",
       "      <td>0</td>\n",
       "      <td>0</td>\n",
       "      <td>382</td>\n",
       "      <td>382</td>\n",
       "      <td>382</td>\n",
       "      <td>382</td>\n",
       "      <td>382</td>\n",
       "      <td>382</td>\n",
       "      <td>382</td>\n",
       "      <td>382</td>\n",
       "    </tr>\n",
       "  </tbody>\n",
       "</table>\n",
       "<p>365 rows × 17 columns</p>\n",
       "</div>"
      ],
      "text/plain": [
       "                 trip_id  trip_start_time  trip_stop_time  \\\n",
       "trip_start_time                                             \n",
       "2017-01-01           487              487             487   \n",
       "2017-01-02           775              775             775   \n",
       "2017-01-03           918              918             918   \n",
       "2017-01-04          1359             1359            1359   \n",
       "2017-01-05          1202             1202            1202   \n",
       "...                  ...              ...             ...   \n",
       "2017-12-27           641              641             641   \n",
       "2017-12-28           640              640             640   \n",
       "2017-12-29           446              446             446   \n",
       "2017-12-30           412              412             412   \n",
       "2017-12-31           382              382             382   \n",
       "\n",
       "                 booked_duration_seconds  from_station_id  from_station_name  \\\n",
       "trip_start_time                                                                \n",
       "2017-01-01                           487              487                487   \n",
       "2017-01-02                           775              775                775   \n",
       "2017-01-03                           918              918                918   \n",
       "2017-01-04                          1359             1359               1359   \n",
       "2017-01-05                          1202             1202               1202   \n",
       "...                                  ...              ...                ...   \n",
       "2017-12-27                           641              641                641   \n",
       "2017-12-28                           640              640                640   \n",
       "2017-12-29                           446              446                446   \n",
       "2017-12-30                           412              412                412   \n",
       "2017-12-31                           382              382                382   \n",
       "\n",
       "                 to_station_id  to_station_name  user_type  actual_duration  \\\n",
       "trip_start_time                                                               \n",
       "2017-01-01                 487              487        487              487   \n",
       "2017-01-02                 775              775        775              775   \n",
       "2017-01-03                 918              918        918              918   \n",
       "2017-01-04                1359             1359       1359             1359   \n",
       "2017-01-05                1202             1202       1202             1202   \n",
       "...                        ...              ...        ...              ...   \n",
       "2017-12-27                 641                0          0              641   \n",
       "2017-12-28                 640                0          0              640   \n",
       "2017-12-29                 446                0          0              446   \n",
       "2017-12-30                 412                0          0              412   \n",
       "2017-12-31                 382                0          0              382   \n",
       "\n",
       "                 overage  overage_charges  trip_start_weekday  \\\n",
       "trip_start_time                                                 \n",
       "2017-01-01           487              487                 487   \n",
       "2017-01-02           775              775                 775   \n",
       "2017-01-03           918              918                 918   \n",
       "2017-01-04          1359             1359                1359   \n",
       "2017-01-05          1202             1202                1202   \n",
       "...                  ...              ...                 ...   \n",
       "2017-12-27           641              641                 641   \n",
       "2017-12-28           640              640                 640   \n",
       "2017-12-29           446              446                 446   \n",
       "2017-12-30           412              412                 412   \n",
       "2017-12-31           382              382                 382   \n",
       "\n",
       "                 trip_start_DayOfMonth  trip_start_time_month  Quarter  \\\n",
       "trip_start_time                                                          \n",
       "2017-01-01                         487                    487      487   \n",
       "2017-01-02                         775                    775      775   \n",
       "2017-01-03                         918                    918      918   \n",
       "2017-01-04                        1359                   1359     1359   \n",
       "2017-01-05                        1202                   1202     1202   \n",
       "...                                ...                    ...      ...   \n",
       "2017-12-27                         641                    641      641   \n",
       "2017-12-28                         640                    640      640   \n",
       "2017-12-29                         446                    446      446   \n",
       "2017-12-30                         412                    412      412   \n",
       "2017-12-31                         382                    382      382   \n",
       "\n",
       "                 actual_duration_minutes  \n",
       "trip_start_time                           \n",
       "2017-01-01                           487  \n",
       "2017-01-02                           775  \n",
       "2017-01-03                           918  \n",
       "2017-01-04                          1359  \n",
       "2017-01-05                          1202  \n",
       "...                                  ...  \n",
       "2017-12-27                           641  \n",
       "2017-12-28                           640  \n",
       "2017-12-29                           446  \n",
       "2017-12-30                           412  \n",
       "2017-12-31                           382  \n",
       "\n",
       "[365 rows x 17 columns]"
      ]
     },
     "execution_count": 17,
     "metadata": {},
     "output_type": "execute_result"
    }
   ],
   "source": [
    "d1.resample('D', on='trip_start_time').count()"
   ]
  },
  {
   "cell_type": "code",
   "execution_count": 13,
   "metadata": {},
   "outputs": [
    {
     "data": {
      "text/plain": [
       "61117"
      ]
     },
     "execution_count": 13,
     "metadata": {},
     "output_type": "execute_result"
    }
   ],
   "source": [
    "d1[d1['trip_start_time_month'] =='February'].shape[0]"
   ]
  }
 ],
 "metadata": {
  "colab": {
   "name": "Toronto_Bike_Share_Data_Analysis_Code",
   "provenance": []
  },
  "kernelspec": {
   "display_name": "Python 3",
   "language": "python",
   "name": "python3"
  },
  "language_info": {
   "codemirror_mode": {
    "name": "ipython",
    "version": 3
   },
   "file_extension": ".py",
   "mimetype": "text/x-python",
   "name": "python",
   "nbconvert_exporter": "python",
   "pygments_lexer": "ipython3",
   "version": "3.6.9"
  }
 },
 "nbformat": 4,
 "nbformat_minor": 1
}
